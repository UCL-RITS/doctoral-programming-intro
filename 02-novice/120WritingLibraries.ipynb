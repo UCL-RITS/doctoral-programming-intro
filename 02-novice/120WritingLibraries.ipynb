{
 "cells": [
  {
   "cell_type": "markdown",
   "metadata": {},
   "source": [
    "# Writing your Own Libraries"
   ]
  },
  {
   "cell_type": "markdown",
   "metadata": {},
   "source": [
    "We will often want to save our Python classes, for use in multiple Notebooks.\n",
    "We can do this by writing text files with a .py extension, and then `importing` them."
   ]
  },
  {
   "cell_type": "markdown",
   "metadata": {},
   "source": [
    "## Writing Python in Text Files"
   ]
  },
  {
   "cell_type": "markdown",
   "metadata": {},
   "source": [
    "You can use a text editor like [Atom](https://atom.io) for Mac or [Notepad++](https://notepad-plus-plus.org) for windows to do this. If you create your own Python files ending in .py, then you can import them with `import` just like external libraries."
   ]
  },
  {
   "cell_type": "markdown",
   "metadata": {},
   "source": [
    "You can also maintain your library code in a Notebook, and use %%writefile to create your library."
   ]
  },
  {
   "cell_type": "markdown",
   "metadata": {},
   "source": [
    "Libraries are usually structured with multiple files, one for each class."
   ]
  },
  {
   "cell_type": "markdown",
   "metadata": {},
   "source": [
    "We group our modules into packages, by putting them together into a folder. You can do this with explorer, or using a shell, or even with Python:"
   ]
  },
  {
   "cell_type": "code",
   "execution_count": null,
   "metadata": {},
   "outputs": [],
   "source": [
    "import os\n",
    "if 'mazetool' not in os.listdir(os.getcwd()):\n",
    "    os.mkdir('mazetool')"
   ]
  },
  {
   "cell_type": "code",
   "execution_count": null,
   "metadata": {},
   "outputs": [],
   "source": [
    "%%writefile mazetool/maze.py\n",
    "from .room import Room\n",
    "from .person import Person\n",
    "\n",
    "class Maze(object):\n",
    "    def __init__(self, name):\n",
    "        self.name = name\n",
    "        self.rooms = []\n",
    "        self.occupants = []\n",
    "        \n",
    "    def add_room(self, name, capacity):\n",
    "        result = Room(name, capacity)\n",
    "        self.rooms.append(result)\n",
    "        return result\n",
    "        \n",
    "    def add_exit(self, name, source, target, reverse= None):\n",
    "        source.add_exit(name, target)\n",
    "        if reverse:\n",
    "            target.add_exit(reverse, source)\n",
    "            \n",
    "    def add_occupant(self, name, room):\n",
    "        self.occupants.append(Person(name, room))\n",
    "        room.occupancy += 1\n",
    "    \n",
    "    def wander(self):\n",
    "        \"Move all the people in a random direction\"\n",
    "        for occupant in self.occupants:\n",
    "            occupant.wander()\n",
    "                \n",
    "    def describe(self):\n",
    "        for occupant in self.occupants:\n",
    "            occupant.describe()\n",
    "            \n",
    "    def step(self):\n",
    "        house.describe()\n",
    "        print()\n",
    "        house.wander()\n",
    "        print()\n",
    "        \n",
    "    def simulate(self, steps):\n",
    "        for _ in range(steps):\n",
    "            self.step()"
   ]
  },
  {
   "cell_type": "code",
   "execution_count": null,
   "metadata": {},
   "outputs": [],
   "source": [
    "%%writefile mazetool/room.py\n",
    "from .exit import Exit\n",
    "\n",
    "\n",
    "class Room(object):\n",
    "    def __init__(self, name, capacity):\n",
    "        self.name = name\n",
    "        self.capacity = capacity\n",
    "        self.occupancy = 0\n",
    "        self.exits = []\n",
    "        \n",
    "    def has_space(self):\n",
    "        return self.occupancy < self.capacity\n",
    "    \n",
    "    def available_exits(self):\n",
    "        return [exit for exit in self.exits if exit.valid() ]\n",
    "            \n",
    "    def random_valid_exit(self):\n",
    "        import random\n",
    "        if not self.available_exits():\n",
    "            return None\n",
    "        return random.choice(self.available_exits())\n",
    "    \n",
    "    def add_exit(self, name, target):\n",
    "        self.exits.append(Exit(name, target))\n",
    "    "
   ]
  },
  {
   "cell_type": "code",
   "execution_count": null,
   "metadata": {},
   "outputs": [],
   "source": [
    "%%writefile mazetool/person.py\n",
    "\n",
    "class Person(object):\n",
    "    def __init__(self, name, room = None):\n",
    "        self.name=name\n",
    "        self.room=room\n",
    "    \n",
    "    def use(self, exit):\n",
    "        self.room.occupancy -= 1\n",
    "        destination=exit.target\n",
    "        destination.occupancy +=1\n",
    "        self.room=destination\n",
    "        print(self.name, \"goes\", exit.name, \"to the\", destination.name)\n",
    "    \n",
    "    def wander(self):\n",
    "        exit = self.room.random_valid_exit()\n",
    "        if exit:\n",
    "            self.use(exit)\n",
    "            \n",
    "    def describe(self):\n",
    "        print(self.name, \"is in the\", self.room.name)"
   ]
  },
  {
   "cell_type": "code",
   "execution_count": null,
   "metadata": {},
   "outputs": [],
   "source": [
    "%%writefile mazetool/exit.py\n",
    "\n",
    "class Exit(object):\n",
    "    def __init__(self, name, target):\n",
    "        self.name = name\n",
    "        self.target = target\n",
    "    \n",
    "    def valid(self):\n",
    "        return self.target.has_space()"
   ]
  },
  {
   "cell_type": "markdown",
   "metadata": {},
   "source": [
    "In order to tell Python that our \"mazetool\" folder is a Python package, \n",
    "we have to make a special file called `__init__.py`. If you import things in there, they are imported as part of the package:"
   ]
  },
  {
   "cell_type": "code",
   "execution_count": null,
   "metadata": {},
   "outputs": [],
   "source": [
    "%%writefile mazetool/__init__.py\n",
    "from .maze import Maze"
   ]
  },
  {
   "cell_type": "markdown",
   "metadata": {},
   "source": [
    "## Loading Our Package"
   ]
  },
  {
   "cell_type": "markdown",
   "metadata": {},
   "source": [
    "We just wrote the files, there is no \"Maze\" class in this notebook yet:"
   ]
  },
  {
   "cell_type": "code",
   "execution_count": null,
   "metadata": {},
   "outputs": [],
   "source": [
    "myhouse = Maze()"
   ]
  },
  {
   "cell_type": "markdown",
   "metadata": {},
   "source": [
    "But now, we can import Maze, (and the other files will get imported via the chained Import statements, starting from the `__init__.py` file."
   ]
  },
  {
   "cell_type": "code",
   "execution_count": null,
   "metadata": {},
   "outputs": [],
   "source": [
    "from mazetool import Maze"
   ]
  },
  {
   "cell_type": "code",
   "execution_count": null,
   "metadata": {},
   "outputs": [],
   "source": [
    "house=Maze('My New House')\n",
    "living=house.add_room('livingroom', 2)"
   ]
  },
  {
   "cell_type": "markdown",
   "metadata": {},
   "source": [
    "Note the files we have created are on the disk in the folder we made:"
   ]
  },
  {
   "cell_type": "code",
   "execution_count": null,
   "metadata": {},
   "outputs": [],
   "source": [
    "import os"
   ]
  },
  {
   "cell_type": "code",
   "execution_count": null,
   "metadata": {},
   "outputs": [],
   "source": [
    "os.listdir(os.path.join(os.getcwd(),'mazetool') )\n"
   ]
  },
  {
   "cell_type": "markdown",
   "metadata": {},
   "source": [
    "`.pyc` files are \"Compiled\" temporary python files that the system generates to speed things up. They'll be regenerated\n",
    "on the fly when your `.py` files change."
   ]
  },
  {
   "cell_type": "markdown",
   "metadata": {},
   "source": [
    "## The Python Path"
   ]
  },
  {
   "cell_type": "markdown",
   "metadata": {},
   "source": [
    "We want to `import` these from notebooks elsewhere on our computer:\n",
    "it would be a bad idea to keep all our Python work in one folder."
   ]
  },
  {
   "cell_type": "markdown",
   "metadata": {},
   "source": [
    "**Supplementary material** The best way to do this is to learn how to make our code\n",
    "into a proper module that we can install. That's beyond the scope of this course, but read about [setuptools](https://pythonhosted.org/setuptools/) if you want to know more."
   ]
  },
  {
   "cell_type": "markdown",
   "metadata": {},
   "source": [
    "Alternatively, we can add a folder to the \"Python Path\", where python searches for modules:"
   ]
  },
  {
   "cell_type": "code",
   "execution_count": null,
   "metadata": {},
   "outputs": [],
   "source": [
    "import sys\n",
    "for path in sys.path[::-1]:\n",
    "    print(path)"
   ]
  },
  {
   "cell_type": "code",
   "execution_count": null,
   "metadata": {},
   "outputs": [],
   "source": [
    "sys.path.append('/home/jamespjh/devel/libraries/python')"
   ]
  },
  {
   "cell_type": "code",
   "execution_count": null,
   "metadata": {},
   "outputs": [],
   "source": [
    "print(sys.path[-1])"
   ]
  },
  {
   "cell_type": "markdown",
   "metadata": {},
   "source": [
    "I've thus added a folder to the list of places searched. If you want to do this permanently, you should set the PYTHONPATH Environment Variable,\n",
    "which you can learn about in a shell course, or can read about online for your operating system."
   ]
  }
 ],
 "metadata": {
  "jekyll": {
   "display_name": "Writing libraries"
  },
  "kernelspec": {
   "display_name": "Python 3",
   "language": "python",
   "name": "python3"
  },
  "language_info": {
   "codemirror_mode": {
    "name": "ipython",
    "version": 3
   },
   "file_extension": ".py",
   "mimetype": "text/x-python",
   "name": "python",
   "nbconvert_exporter": "python",
   "pygments_lexer": "ipython3",
   "version": "3.5.2"
  }
 },
 "nbformat": 4,
 "nbformat_minor": 0
}
