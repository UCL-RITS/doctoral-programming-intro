{
 "metadata": {
  "jekyll": {
   "display_name": "Maze files solution"
  },
  "kernelspec": {
   "display_name": "Python 3 (ipykernel)",
   "language": "python",
   "name": "python3"
  },
  "language_info": {
   "codemirror_mode": {
    "name": "ipython",
    "version": 3
   },
   "file_extension": ".py",
   "mimetype": "text/x-python",
   "name": "python",
   "nbconvert_exporter": "python",
   "pygments_lexer": "ipython3",
   "version": "3.8.14"
  },
  "name": ""
 },
 "nbformat": 2,
 "nbformat_minor": 0,
 "orig_nbformat": 4,
 "orig_nbformat_minor": 5,
 "worksheets": [
  {
   "cells": [
    {
     "cell_type": "markdown",
     "metadata": {},
     "source": [
      "## Solution: saving and loading a maze",
      "",
      "An example maze data object:"
     ]
    },
    {
     "cell_type": "code",
     "collapsed": false,
     "input": [
      "maze = {",
      "    'living' : {",
      "        'exits': {",
      "            'north' : 'kitchen',",
      "            'outside' : 'garden',",
      "            'upstairs' : 'bedroom'",
      "        },",
      "        'people' : ['James'],",
      "        'capacity' : 2",
      "    },",
      "    'kitchen' : {",
      "        'exits': {",
      "            'south' : 'living'",
      "        },",
      "        'people' : [],",
      "        'capacity' : 1",
      "    },",
      "    'garden' : {",
      "        'exits': {",
      "            'inside' : 'living'",
      "        },",
      "        'people' : ['Sue'],",
      "        'capacity' : 3",
      "    },",
      "    'bedroom' : {",
      "        'exits': {",
      "            'downstairs' : 'living',",
      "            'jump' : 'garden'",
      "        },",
      "        'people' : [],",
      "        'capacity' : 1",
      "    }",
      "}"
     ],
     "language": "python",
     "metadata": {
      "tags": []
     },
     "outputs": [],
     "prompt_number": 1
    },
    {
     "cell_type": "markdown",
     "metadata": {},
     "source": [
      "### JSON",
      "",
      "We can save the maze to a file using the `json` module as follows:"
     ]
    },
    {
     "cell_type": "code",
     "collapsed": false,
     "input": [
      "import json",
      "with open('maze.json', 'w') as json_maze_out:",
      "    json.dump(maze, json_maze_out)"
     ],
     "language": "python",
     "metadata": {
      "jupyter": {
       "outputs_hidden": false
      }
     },
     "outputs": [],
     "prompt_number": 2
    },
    {
     "cell_type": "markdown",
     "metadata": {},
     "source": [
      "We can then load the saved JSON file in to another variable as follows"
     ]
    },
    {
     "cell_type": "code",
     "collapsed": false,
     "input": [
      "with open('maze.json', 'r') as json_maze_in:",
      "    loaded_maze = json.load(json_maze_in)",
      "print(loaded_maze)"
     ],
     "language": "python",
     "metadata": {
      "jupyter": {
       "outputs_hidden": false
      }
     },
     "outputs": [
      {
       "output_type": "stream",
       "stream": "stdout",
       "text": [
        "{'living': {'exits': {'north': 'kitchen', 'outside': 'garden', 'upstairs': 'bedroom'}, 'people': ['James'], 'capacity': 2}, 'kitchen': {'exits': {'south': 'living'}, 'people': [], 'capacity': 1}, 'garden': {'exits': {'inside': 'living'}, 'people': ['Sue'], 'capacity': 3}, 'bedroom': {'exits': {'downstairs': 'living', 'jump': 'garden'}, 'people': [], 'capacity': 1}}"
       ]
      }
     ],
     "prompt_number": 3
    },
    {
     "cell_type": "markdown",
     "metadata": {},
     "source": [
      "As a sanity check we can evaluate whether the loaded maze object is equal to the maze object we first defined"
     ]
    },
    {
     "cell_type": "code",
     "collapsed": false,
     "input": [
      "print(loaded_maze == maze)"
     ],
     "language": "python",
     "metadata": {
      "jupyter": {
       "outputs_hidden": false
      }
     },
     "outputs": [
      {
       "output_type": "stream",
       "stream": "stdout",
       "text": [
        "True"
       ]
      }
     ],
     "prompt_number": 4
    },
    {
     "cell_type": "markdown",
     "metadata": {},
     "source": [
      "### YAML",
      "",
      "We can save the maze to a file using the `yaml` module as follows:"
     ]
    },
    {
     "cell_type": "code",
     "collapsed": false,
     "input": [
      "import yaml",
      "with open('maze.yaml', 'w') as yaml_maze_out:",
      "    yaml.dump(maze, stream=yaml_maze_out)"
     ],
     "language": "python",
     "metadata": {
      "tags": []
     },
     "outputs": [
      {
       "ename": "ModuleNotFoundError",
       "evalue": "No module named 'yaml'",
       "output_type": "pyerr",
       "traceback": [
        "\u001b[0;31m---------------------------------------------------------------------------\u001b[0m",
        "\u001b[0;31mModuleNotFoundError\u001b[0m                       Traceback (most recent call last)",
        "Cell \u001b[0;32mIn [5], line 1\u001b[0m\n\u001b[0;32m----> 1\u001b[0m \u001b[38;5;28;01mimport\u001b[39;00m \u001b[38;5;21;01myaml\u001b[39;00m\n\u001b[1;32m      2\u001b[0m \u001b[38;5;28;01mwith\u001b[39;00m \u001b[38;5;28mopen\u001b[39m(\u001b[38;5;124m'\u001b[39m\u001b[38;5;124mmaze.yaml\u001b[39m\u001b[38;5;124m'\u001b[39m, \u001b[38;5;124m'\u001b[39m\u001b[38;5;124mw\u001b[39m\u001b[38;5;124m'\u001b[39m) \u001b[38;5;28;01mas\u001b[39;00m yaml_maze_out:\n\u001b[1;32m      3\u001b[0m     yaml\u001b[38;5;241m.\u001b[39mdump(maze, stream\u001b[38;5;241m=\u001b[39myaml_maze_out)\n",
        "\u001b[0;31mModuleNotFoundError\u001b[0m: No module named 'yaml'"
       ]
      }
     ],
     "prompt_number": 5
    },
    {
     "cell_type": "markdown",
     "metadata": {
      "tags": []
     },
     "source": [
      "We can then load the saved YAML file in to another variable as follows"
     ]
    },
    {
     "cell_type": "code",
     "collapsed": false,
     "input": [
      "with open('maze.yaml', 'r') as yaml_maze_in:",
      "    loaded_maze = yaml.safe_load(yaml_maze_in)",
      "print(loaded_maze)"
     ],
     "language": "python",
     "metadata": {
      "jupyter": {
       "outputs_hidden": false
      }
     },
     "outputs": [
      {
       "ename": "FileNotFoundError",
       "evalue": "[Errno 2] No such file or directory: 'maze.yaml'",
       "output_type": "pyerr",
       "traceback": [
        "\u001b[0;31m---------------------------------------------------------------------------\u001b[0m",
        "\u001b[0;31mFileNotFoundError\u001b[0m                         Traceback (most recent call last)",
        "Cell \u001b[0;32mIn [6], line 1\u001b[0m\n\u001b[0;32m----> 1\u001b[0m \u001b[38;5;28;01mwith\u001b[39;00m \u001b[38;5;28;43mopen\u001b[39;49m\u001b[43m(\u001b[49m\u001b[38;5;124;43m'\u001b[39;49m\u001b[38;5;124;43mmaze.yaml\u001b[39;49m\u001b[38;5;124;43m'\u001b[39;49m\u001b[43m,\u001b[49m\u001b[43m \u001b[49m\u001b[38;5;124;43m'\u001b[39;49m\u001b[38;5;124;43mr\u001b[39;49m\u001b[38;5;124;43m'\u001b[39;49m\u001b[43m)\u001b[49m \u001b[38;5;28;01mas\u001b[39;00m yaml_maze_in:\n\u001b[1;32m      2\u001b[0m     loaded_maze \u001b[38;5;241m=\u001b[39m yaml\u001b[38;5;241m.\u001b[39msafe_load(yaml_maze_in)\n\u001b[1;32m      3\u001b[0m \u001b[38;5;28mprint\u001b[39m(loaded_maze)\n",
        "\u001b[0;31mFileNotFoundError\u001b[0m: [Errno 2] No such file or directory: 'maze.yaml'"
       ]
      }
     ],
     "prompt_number": 6
    },
    {
     "cell_type": "markdown",
     "metadata": {},
     "source": [
      "As a sanity check we can evaluate whether the loaded maze object is equal to the maze object `house` we first defined"
     ]
    },
    {
     "cell_type": "code",
     "collapsed": false,
     "input": [
      "print(loaded_maze == maze)"
     ],
     "language": "python",
     "metadata": {
      "tags": []
     },
     "outputs": [
      {
       "output_type": "stream",
       "stream": "stdout",
       "text": [
        "True"
       ]
      }
     ],
     "prompt_number": 7
    }
   ],
   "metadata": {}
  }
 ]
}
