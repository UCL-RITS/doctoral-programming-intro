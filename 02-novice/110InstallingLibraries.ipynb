{
 "cells": [
  {
   "cell_type": "markdown",
   "metadata": {},
   "source": [
    "# Installing Libraries"
   ]
  },
  {
   "cell_type": "markdown",
   "metadata": {},
   "source": [
    "## Installing Libraries"
   ]
  },
  {
   "cell_type": "markdown",
   "metadata": {},
   "source": [
    "We've seen that PyPI carries lots of python libraries. But how do we install them?"
   ]
  },
  {
   "cell_type": "markdown",
   "metadata": {},
   "source": [
    "In the UCL teaching clusters, we cannot, as these need to be installed by administrators."
   ]
  },
  {
   "cell_type": "markdown",
   "metadata": {},
   "source": [
    "So you'll need to follow this lesson on a computer of your own."
   ]
  },
  {
   "cell_type": "markdown",
   "metadata": {},
   "source": [
    "The main problem is this: *libraries need other libraries*"
   ]
  },
  {
   "cell_type": "markdown",
   "metadata": {},
   "source": [
    "So you can't just install a library by copying code to the computer: you'll find yourself wandering down a tree\n",
    "of \"dependencies\"; libraries needed by libraries needed by the library you want."
   ]
  },
  {
   "cell_type": "markdown",
   "metadata": {},
   "source": [
    "This is actually a good thing; it means that people are making use of each others'\n",
    "code. There's a real problem in scientific programming, of people who think they're really clever writing their own\n",
    "twenty-fifth version of the same thing."
   ]
  },
  {
   "cell_type": "markdown",
   "metadata": {},
   "source": [
    "So using other people's libraries is good."
   ]
  },
  {
   "cell_type": "markdown",
   "metadata": {},
   "source": [
    "Why don't we do it more? Because it can often be quite difficult to **install** other peoples' libraries!"
   ]
  },
  {
   "cell_type": "markdown",
   "metadata": {},
   "source": [
    "Python has developed a good tool for avoiding this: **pip**."
   ]
  },
  {
   "cell_type": "markdown",
   "metadata": {},
   "source": [
    "## Installing Geopy using Pip"
   ]
  },
  {
   "cell_type": "markdown",
   "metadata": {},
   "source": [
    "On a computer you control, on which you have installed python via Anaconda, you will need to open a **terminal**\n",
    "to invoke the library-installer program, `pip`."
   ]
  },
  {
   "cell_type": "markdown",
   "metadata": {},
   "source": [
    "* On windows, go to start->all programs->Anaconda->Anaconda Command Prompt\n",
    "* On mac, start *terminal*. \n",
    "* On linux, open a bash shell."
   ]
  },
  {
   "cell_type": "markdown",
   "metadata": {},
   "source": [
    "Into this shell, type:\n",
    "    \n",
    "`pip install geopy`"
   ]
  },
  {
   "cell_type": "markdown",
   "metadata": {},
   "source": []
  },
  {
   "cell_type": "markdown",
   "metadata": {},
   "source": [
    "The computer will install the package automatically from PyPI. "
   ]
  },
  {
   "cell_type": "markdown",
   "metadata": {},
   "source": [
    "Now, close IPython notebook if you have it open, and reopen it. Check your new library is installed with:"
   ]
  },
  {
   "cell_type": "code",
   "execution_count": null,
   "metadata": {},
   "outputs": [],
   "source": [
    "import geopy\n",
    "geocoder = geopy.geocoders.GoogleV3(domain=\"maps.google.co.uk\")\n",
    "geocoder.geocode('Cambridge',exactly_one=False)"
   ]
  },
  {
   "cell_type": "markdown",
   "metadata": {},
   "source": [
    "That was actually pretty easy, I hope. This is how you'll install new libraries when you need them."
   ]
  },
  {
   "cell_type": "markdown",
   "metadata": {},
   "source": [
    "Troubleshooting:\n",
    "    \n",
    "On mac or linux, you *might* get a complaint that you need \"superuser\", \"root\", or \"administrator\" access. If so type:\n",
    "\n",
    "* `sudo pip install geopy`\n",
    "\n",
    "and enter your password.\n",
    "    \n",
    "If you get a complaint like: 'pip is not recognized as an internal or external command', try the following:\n",
    "        \n",
    "* `conda install pip` (Windows)\n",
    "* `sudo easy_install pip` (Mac, Linux)\n",
    "\n",
    "Ask me over email if you run into trouble."
   ]
  },
  {
   "cell_type": "markdown",
   "metadata": {},
   "source": [
    "## Installing binary dependencies with Conda"
   ]
  },
  {
   "cell_type": "markdown",
   "metadata": {},
   "source": [
    "`pip` is the usual Python tool for installing libraries. But there's one area of library installation that is still awkward:\n",
    "some python libraries depend not on other **python** libraries, but on libraries in C++ or Fortran."
   ]
  },
  {
   "cell_type": "markdown",
   "metadata": {},
   "source": [
    "This can cause you to run into difficulties installing some libraries. \n",
    "Fortunately, for lots of these, Continuum, the makers of Anaconda, provide a carefully managed set of scripts for installing\n",
    "these awkward non-python libraries too. You can do this with the `conda` command line tool, if you're using Anaconda."
   ]
  },
  {
   "cell_type": "markdown",
   "metadata": {},
   "source": [
    "Simply type\n",
    "\n",
    "* `conda install <whatever>`\n",
    "\n",
    "instead of `pip install`. This will fetch the python package not from PyPI, but from Anaconda's distribution for your platform, and manage any non-python dependencies too."
   ]
  },
  {
   "cell_type": "markdown",
   "metadata": {},
   "source": [
    "Typically, if you're using Anaconda, whenever you come across a python package you want, you should check if Anaconda\n",
    "package it first using this list: http://docs.continuum.io/anaconda/pkg-docs.html. (Or just by trying `conda install` and hoping!) If you can `conda install` it, you'll likely have less problems. But Continuum don't package everything, so you'll need to `pip install` from time to time."
   ]
  },
  {
   "cell_type": "markdown",
   "metadata": {},
   "source": [
    "## Where do these libraries go? "
   ]
  },
  {
   "cell_type": "code",
   "execution_count": null,
   "metadata": {},
   "outputs": [],
   "source": [
    "import numpy"
   ]
  },
  {
   "cell_type": "code",
   "execution_count": null,
   "metadata": {},
   "outputs": [],
   "source": [
    "numpy.__path__"
   ]
  },
  {
   "cell_type": "markdown",
   "metadata": {},
   "source": [
    "Your computer will be configured to keep installed Python packages in a particular place."
   ]
  },
  {
   "cell_type": "markdown",
   "metadata": {},
   "source": [
    "Python knows where to look for possible library installations in a list of places, called the \"PythonPath\".\n",
    "It will try each of these places in turn, until it finds a matching library name."
   ]
  },
  {
   "cell_type": "code",
   "execution_count": null,
   "metadata": {},
   "outputs": [],
   "source": [
    "import sys\n",
    "sys.path[-4:] # Just list the last few"
   ]
  },
  {
   "cell_type": "markdown",
   "metadata": {},
   "source": [
    "## Libraries not in PyPI"
   ]
  },
  {
   "cell_type": "markdown",
   "metadata": {},
   "source": [
    "Sometimes, such as for the Animation library in the Boids example, you'll need to download the source code\n",
    "directly. This won't automatically follow the dependency tree, but for simple standalone libraries, is sometimes necessary."
   ]
  },
  {
   "cell_type": "markdown",
   "metadata": {},
   "source": [
    "To install these on windows, download and unzip the library into a folder of your choice, e.g. `my_python_libs`. \n",
    "\n",
    "On windows, a reasonable choice\n",
    "is the folder you end up in when you open the Anaconda terminal. You can get a graphical view on this folder by typing: `explorer .`"
   ]
  },
  {
   "cell_type": "markdown",
   "metadata": {},
   "source": [
    "Make a new folder for your download and unzip the library there."
   ]
  },
  {
   "cell_type": "markdown",
   "metadata": {},
   "source": [
    "Now, you need to move so you're inside your download in the terminal:"
   ]
  },
  {
   "cell_type": "markdown",
   "metadata": {},
   "source": [
    "* `cd my_python_libs`\n",
    "* `cd <library name>` (e.g. `cd JSAnimation-master`) "
   ]
  },
  {
   "cell_type": "markdown",
   "metadata": {},
   "source": [
    "Now, manually install the library in your PythonPath:"
   ]
  },
  {
   "cell_type": "markdown",
   "metadata": {},
   "source": [
    "* `python setup.py install`\n",
    "\n",
    "[You might need to do\n",
    "\n",
    "* `sudo python setup.py install` \n",
    "\n",
    "if you get prompted for 'root' or 'admin' access.]"
   ]
  },
  {
   "cell_type": "markdown",
   "metadata": {},
   "source": [
    "This is all pretty awkward, but it is worth practicing this stuff, as most of the power of using programming for\n",
    "research resides in all the libraries that are out there. "
   ]
  },
  {
   "cell_type": "markdown",
   "metadata": {},
   "source": [
    "Finally, writing your own libraries is beyond the scope of this course, but we cover it in [Our More Advanced Python Course](http://development.rc.ucl.ac.uk/training/engineering)"
   ]
  }
 ],
 "metadata": {
  "jekyll": {
   "display_name": "Installing libraries"
  },
  "kernelspec": {
   "display_name": "Python 3",
   "language": "python",
   "name": "python3"
  },
  "language_info": {
   "codemirror_mode": {
    "name": "ipython",
    "version": 3
   },
   "file_extension": ".py",
   "mimetype": "text/x-python",
   "name": "python",
   "nbconvert_exporter": "python",
   "pygments_lexer": "ipython3",
   "version": "3.5.2"
  }
 },
 "nbformat": 4,
 "nbformat_minor": 0
}
