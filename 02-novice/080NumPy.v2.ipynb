{
 "metadata": {
  "jekyll": {
   "display_name": "Numerical Python"
  },
  "kernelspec": {
   "display_name": "Python 3 (ipykernel)",
   "language": "python",
   "name": "python3"
  },
  "language_info": {
   "codemirror_mode": {
    "name": "ipython",
    "version": 3
   },
   "file_extension": ".py",
   "mimetype": "text/x-python",
   "name": "python",
   "nbconvert_exporter": "python",
   "pygments_lexer": "ipython3",
   "version": "3.8.14"
  },
  "name": ""
 },
 "nbformat": 2,
 "nbformat_minor": 0,
 "orig_nbformat": 4,
 "orig_nbformat_minor": 5,
 "worksheets": [
  {
   "cells": [
    {
     "cell_type": "markdown",
     "metadata": {},
     "source": [
      "# NumPy",
      "",
      "## The scientific Python trilogy",
      "",
      "Why is Python so popular for research work?",
      "",
      "MATLAB has typically been the most popular \"language of technical computing\", with strong built-in support for efficient numerical analysis with matrices (the *mat* in MATLAB is for matrix, not maths), and plotting.",
      "",
      "Other dynamic languages can be argued to have cleaner, more logical syntax, for example [Ruby](https://www.ruby-lang.org/en/) or [Scheme][scheme].",
      "",
      "[scheme]: https://en.wikipedia.org/wiki/Scheme_(programming_language)",
      "But Python users developed three critical libraries, matching the power of MATLAB for scientific work:",
      "",
      "* [Matplotlib](https://matplotlib.org/), a plotting library for creating visualizations in Python.",
      "* [NumPy](https://numpy.org/), a fast numeric computing library offering a flexible *n*-dimensional array type.",
      "* [IPython](https://ipython.readthedocs.io/en/stable/overview.html), an interactive Python interpreter that later led to the [Jupyter notebook](https://jupyter.org/) interface.",
      "",
      "By combining a plotting library, a fast numeric library, and an easy-to-use interface allowing live plotting commands in a persistent environment, the powerful capabilities of MATLAB were matched by a free and open toolchain.",
      "",
      "We've learned about Matplotlib and IPython in this course already. NumPy is the last part of the trilogy.",
      "",
      "## Limitations of Python lists",
      "",
      "The standard Python list is inherently one dimensional. To make a matrix (two-dimensional array of numbers), we could create a list of lists:"
     ]
    },
    {
     "cell_type": "code",
     "collapsed": false,
     "input": [
      "x = [[row_index + col_index for col_index in range(5)] for row_index in range(5)]",
      "x"
     ],
     "language": "python",
     "metadata": {},
     "outputs": [
      {
       "metadata": {},
       "output_type": "pyout",
       "prompt_number": 1,
       "text": [
        "[[0, 1, 2, 3, 4],",
        " [1, 2, 3, 4, 5],",
        " [2, 3, 4, 5, 6],",
        " [3, 4, 5, 6, 7],",
        " [4, 5, 6, 7, 8]]"
       ]
      }
     ],
     "prompt_number": 1
    },
    {
     "cell_type": "markdown",
     "metadata": {},
     "source": [
      "However, applying an operation to every element is a pain. We would like to be able to use an intuitive syntax like the following"
     ]
    },
    {
     "cell_type": "code",
     "collapsed": false,
     "input": [
      "x + 5"
     ],
     "language": "python",
     "metadata": {},
     "outputs": [
      {
       "ename": "TypeError",
       "evalue": "can only concatenate list (not \"int\") to list",
       "output_type": "pyerr",
       "traceback": [
        "\u001b[0;31m---------------------------------------------------------------------------\u001b[0m",
        "\u001b[0;31mTypeError\u001b[0m                                 Traceback (most recent call last)",
        "Cell \u001b[0;32mIn [2], line 1\u001b[0m\n\u001b[0;32m----> 1\u001b[0m \u001b[43mx\u001b[49m\u001b[43m \u001b[49m\u001b[38;5;241;43m+\u001b[39;49m\u001b[43m \u001b[49m\u001b[38;5;241;43m5\u001b[39;49m\n",
        "\u001b[0;31mTypeError\u001b[0m: can only concatenate list (not \"int\") to list"
       ]
      }
     ],
     "prompt_number": 2
    },
    {
     "cell_type": "markdown",
     "metadata": {},
     "source": [
      "As the `+` operator is used to perform concatenation for lists we instead have to use something more cumbersome such as the following."
     ]
    },
    {
     "cell_type": "code",
     "collapsed": false,
     "input": [
      "[[elem + 5 for elem in row] for row in x]"
     ],
     "language": "python",
     "metadata": {},
     "outputs": [
      {
       "metadata": {},
       "output_type": "pyout",
       "prompt_number": 3,
       "text": [
        "[[5, 6, 7, 8, 9],",
        " [6, 7, 8, 9, 10],",
        " [7, 8, 9, 10, 11],",
        " [8, 9, 10, 11, 12],",
        " [9, 10, 11, 12, 13]]"
       ]
      }
     ],
     "prompt_number": 3
    },
    {
     "cell_type": "markdown",
     "metadata": {},
     "source": [
      "Common useful operations like transposing a matrix or reshaping a 10 by 10 matrix into a 20 by 5 matrix are not easy to perform with nested Python lists.",
      "",
      "## Importing NumPy",
      "",
      "The main NumPy *application programming interface* (API) is exposed via the top-level `numpy` module. This is not part of the Python standard library but instead needs to be separately installed, for example using a package manager such as `pip` or `conda`.",
      "",
      "As we will typically need to access the names defined in the `numpy` module a lot when working with NumPy in code, it is common in practice to import `numpy` as the shorthand name `np`. While modern editing environments such as the Jupyter Lab interface have tab-completion functionality which makes the reduction in keystrokes necessary less important, the shorter name can still have value in reducing line length and is a very common convention so we will follow suit here. "
     ]
    },
    {
     "cell_type": "code",
     "collapsed": false,
     "input": [
      "import numpy as np"
     ],
     "language": "python",
     "metadata": {},
     "outputs": [],
     "prompt_number": 4
    },
    {
     "cell_type": "markdown",
     "metadata": {},
     "source": [
      "## The NumPy array",
      "",
      "NumPy's `ndarray` type represents a multidimensional grid of values of a shared type. In NumPy nomenclature each dimension is termed an *axes* and the tuple of sizes of all the dimensions of the array is termed the array *shape*. We can construct a `ndarray` using the `np.array` function. The first positional argument to this function should be an *array like* Python object: this can be another array, or more commonly [a (nested) sequence](https://numpy.org/doc/stable/user/basics.creation.html#converting-python-sequences-to-numpy-arrays), with the constraint that sequences at each level must be of the same length. For example to construct a one-dimensional array with 5 integer elements we can pass in a corresponding list of 5 integers."
     ]
    },
    {
     "cell_type": "code",
     "collapsed": false,
     "input": [
      "my_array = np.array([0, 1, 2, 3, 4])",
      "type(my_array)"
     ],
     "language": "python",
     "metadata": {},
     "outputs": [
      {
       "metadata": {},
       "output_type": "pyout",
       "prompt_number": 5,
       "text": [
        "numpy.ndarray"
       ]
      }
     ],
     "prompt_number": 5
    },
    {
     "cell_type": "markdown",
     "metadata": {},
     "source": [
      "The NumPy array seems at first to be very similar to a list:"
     ]
    },
    {
     "cell_type": "code",
     "collapsed": false,
     "input": [
      "my_array"
     ],
     "language": "python",
     "metadata": {},
     "outputs": [
      {
       "metadata": {},
       "output_type": "pyout",
       "prompt_number": 6,
       "text": [
        "array([0, 1, 2, 3, 4])"
       ]
      }
     ],
     "prompt_number": 6
    },
    {
     "cell_type": "code",
     "collapsed": false,
     "input": [
      "my_array[2]"
     ],
     "language": "python",
     "metadata": {},
     "outputs": [
      {
       "metadata": {},
       "output_type": "pyout",
       "prompt_number": 7,
       "text": [
        "2"
       ]
      }
     ],
     "prompt_number": 7
    },
    {
     "cell_type": "code",
     "collapsed": false,
     "input": [
      "for element in my_array:",
      "    print(\"Hello \" * element)"
     ],
     "language": "python",
     "metadata": {},
     "outputs": [
      {
       "output_type": "stream",
       "stream": "stdout",
       "text": [
        "",
        "Hello ",
        "Hello Hello ",
        "Hello Hello Hello ",
        "Hello Hello Hello Hello "
       ]
      }
     ],
     "prompt_number": 8
    },
    {
     "cell_type": "markdown",
     "metadata": {},
     "source": [
      "However, we see see there are some differences, for example:"
     ]
    },
    {
     "cell_type": "code",
     "collapsed": false,
     "input": [
      "my_array.append(4)"
     ],
     "language": "python",
     "metadata": {},
     "outputs": [
      {
       "ename": "AttributeError",
       "evalue": "'numpy.ndarray' object has no attribute 'append'",
       "output_type": "pyerr",
       "traceback": [
        "\u001b[0;31m---------------------------------------------------------------------------\u001b[0m",
        "\u001b[0;31mAttributeError\u001b[0m                            Traceback (most recent call last)",
        "Cell \u001b[0;32mIn [9], line 1\u001b[0m\n\u001b[0;32m----> 1\u001b[0m \u001b[43mmy_array\u001b[49m\u001b[38;5;241;43m.\u001b[39;49m\u001b[43mappend\u001b[49m(\u001b[38;5;241m4\u001b[39m)\n",
        "\u001b[0;31mAttributeError\u001b[0m: 'numpy.ndarray' object has no attribute 'append'"
       ]
      }
     ],
     "prompt_number": 9
    },
    {
     "cell_type": "markdown",
     "metadata": {},
     "source": [
      "NumPy arrays do not provide an `append` method. For NumPy arrays it is generally expected that you will not change the *size* of an array once it has been defined and the way arrays are stored in memory would make such resize operations inefficient. Python lists on the other can be efficiently appended to, joined and split. However, you gain a lot of functionality in return for this limitation.",
      "",
      "## Array creation routines",
      "",
      "As well as `np.array`, NumPy has various other routines available for creating arrays. For example [`np.arange`](https://numpy.org/doc/stable/reference/generated/numpy.arange.html) provides an array equivalent to the built-in `range` function, with `start`, `stop` and `step` arguments with the same semantics as for `range`. When called with integer arguments `np.arange` will return a NumPy array equivalent to an equivalent call to `range` passed to `np.array`. For example"
     ]
    },
    {
     "cell_type": "code",
     "collapsed": false,
     "input": [
      "np.arange(0, 10)"
     ],
     "language": "python",
     "metadata": {},
     "outputs": [
      {
       "metadata": {},
       "output_type": "pyout",
       "prompt_number": 10,
       "text": [
        "array([0, 1, 2, 3, 4, 5, 6, 7, 8, 9])"
       ]
      }
     ],
     "prompt_number": 10
    },
    {
     "cell_type": "code",
     "collapsed": false,
     "input": [
      "np.array(range(0, 10))"
     ],
     "language": "python",
     "metadata": {},
     "outputs": [
      {
       "metadata": {},
       "output_type": "pyout",
       "prompt_number": 11,
       "text": [
        "array([0, 1, 2, 3, 4, 5, 6, 7, 8, 9])"
       ]
      }
     ],
     "prompt_number": 11
    },
    {
     "cell_type": "code",
     "collapsed": false,
     "input": [
      "np.arange(1, 5, 2)"
     ],
     "language": "python",
     "metadata": {},
     "outputs": [
      {
       "metadata": {},
       "output_type": "pyout",
       "prompt_number": 12,
       "text": [
        "array([1, 3])"
       ]
      }
     ],
     "prompt_number": 12
    },
    {
     "cell_type": "code",
     "collapsed": false,
     "input": [
      "np.array(range(1, 5, 2))"
     ],
     "language": "python",
     "metadata": {},
     "outputs": [
      {
       "metadata": {},
       "output_type": "pyout",
       "prompt_number": 13,
       "text": [
        "array([1, 3])"
       ]
      }
     ],
     "prompt_number": 13
    },
    {
     "cell_type": "markdown",
     "metadata": {},
     "source": [
      "Unlike `range`, `np.arange` can also be used with non-integer arguments, for example"
     ]
    },
    {
     "cell_type": "code",
     "collapsed": false,
     "input": [
      "np.arange(0.0, 0.5, 0.1)"
     ],
     "language": "python",
     "metadata": {},
     "outputs": [
      {
       "metadata": {},
       "output_type": "pyout",
       "prompt_number": 14,
       "text": [
        "array([0. , 0.1, 0.2, 0.3, 0.4])"
       ]
      }
     ],
     "prompt_number": 14
    },
    {
     "cell_type": "markdown",
     "metadata": {},
     "source": [
      "Beware however because of the limits of floating point precision, using `np.arange` with non-integer arguments [can sometimes lead to inconsistent seeming outputs](https://stackoverflow.com/questions/62217178/inconsistent-behavior-in-np-arange):"
     ]
    },
    {
     "cell_type": "code",
     "collapsed": false,
     "input": [
      "print(np.arange(14.1, 15.1, 0.1))",
      "print(np.arange(15.1, 16.1, 0.1))"
     ],
     "language": "python",
     "metadata": {},
     "outputs": [
      {
       "output_type": "stream",
       "stream": "stdout",
       "text": [
        "[14.1 14.2 14.3 14.4 14.5 14.6 14.7 14.8 14.9 15. ]",
        "[15.1 15.2 15.3 15.4 15.5 15.6 15.7 15.8 15.9 16.  16.1]"
       ]
      }
     ],
     "prompt_number": 15
    },
    {
     "cell_type": "markdown",
     "metadata": {},
     "source": [
      "The `np.linspace` function is an alternative array creation routine which offers a safer approach for constructing arrays of equally spaced non-integer values. The first three arguments to `np.linspace` are `start`, `stop` and `num`, corresponding under the default keyword argument values to respectively the starting value of the returned sequence, the  end value of the sequence and the number of values in the sequence. Unlike the `stop` argument to `np.arange` by default the `stop` value in `np.linspace` is an inclusive upper bound on the sequence values and the `num` argument allows explicitly stating the length of the returned sequence, preventing inconsistencies in the returned lengths for similar inputs encountered above for `np.arange`. For example the following cell constructs an array of 11 evenly spaced floating point values between 15.1 and 16.1 inclusive"
     ]
    },
    {
     "cell_type": "code",
     "collapsed": false,
     "input": [
      "np.linspace(15.1, 16.1, 11)"
     ],
     "language": "python",
     "metadata": {},
     "outputs": [
      {
       "metadata": {},
       "output_type": "pyout",
       "prompt_number": 16,
       "text": [
        "array([15.1, 15.2, 15.3, 15.4, 15.5, 15.6, 15.7, 15.8, 15.9, 16. , 16.1])"
       ]
      }
     ],
     "prompt_number": 16
    },
    {
     "cell_type": "markdown",
     "metadata": {},
     "source": [
      "`np.linspace` also accepts an optional boolean keyword argument `endpoint` which can be used to specify whether the `stop` argument corresponds to the last sample; if `False` then the first `num` of the `num + 1` evenly spaced samples between `start` and `stop` (inclusive) are returned. For example"
     ]
    },
    {
     "cell_type": "code",
     "collapsed": false,
     "input": [
      "np.linspace(15.1, 16.1, 10, endpoint=False)"
     ],
     "language": "python",
     "metadata": {},
     "outputs": [
      {
       "metadata": {},
       "output_type": "pyout",
       "prompt_number": 17,
       "text": [
        "array([15.1, 15.2, 15.3, 15.4, 15.5, 15.6, 15.7, 15.8, 15.9, 16. ])"
       ]
      }
     ],
     "prompt_number": 17
    },
    {
     "cell_type": "markdown",
     "metadata": {},
     "source": [
      "NumPy also provides routines for constructing arrays with all one elements (`np.ones`), all zero elements (`np.zeros`) and all elements equal to a specified value (`np.full`)"
     ]
    },
    {
     "cell_type": "code",
     "collapsed": false,
     "input": [
      "np.ones(shape=5)"
     ],
     "language": "python",
     "metadata": {},
     "outputs": [
      {
       "metadata": {},
       "output_type": "pyout",
       "prompt_number": 18,
       "text": [
        "array([1., 1., 1., 1., 1.])"
       ]
      }
     ],
     "prompt_number": 18
    },
    {
     "cell_type": "code",
     "collapsed": false,
     "input": [
      "np.zeros(shape=10)"
     ],
     "language": "python",
     "metadata": {},
     "outputs": [
      {
       "metadata": {},
       "output_type": "pyout",
       "prompt_number": 19,
       "text": [
        "array([0., 0., 0., 0., 0., 0., 0., 0., 0., 0.])"
       ]
      }
     ],
     "prompt_number": 19
    },
    {
     "cell_type": "code",
     "collapsed": false,
     "input": [
      "np.full(shape=100, fill_value=42)"
     ],
     "language": "python",
     "metadata": {},
     "outputs": [
      {
       "metadata": {},
       "output_type": "pyout",
       "prompt_number": 20,
       "text": [
        "array([42, 42, 42, 42, 42, 42, 42, 42, 42, 42, 42, 42, 42, 42, 42, 42, 42,",
        "       42, 42, 42, 42, 42, 42, 42, 42, 42, 42, 42, 42, 42, 42, 42, 42, 42,",
        "       42, 42, 42, 42, 42, 42, 42, 42, 42, 42, 42, 42, 42, 42, 42, 42, 42,",
        "       42, 42, 42, 42, 42, 42, 42, 42, 42, 42, 42, 42, 42, 42, 42, 42, 42,",
        "       42, 42, 42, 42, 42, 42, 42, 42, 42, 42, 42, 42, 42, 42, 42, 42, 42,",
        "       42, 42, 42, 42, 42, 42, 42, 42, 42, 42, 42, 42, 42, 42, 42])"
       ]
      }
     ],
     "prompt_number": 20
    },
    {
     "cell_type": "markdown",
     "metadata": {},
     "source": [
      "The `np.empty` function can be used to construct an array in which the array memory is left uninitialised; while this can potentially be slightly cheaper than initialising arrays with a defined value care needs to be taken to not use the uninitialised values as these will depend on whatever was stored in the memory previously (and may not even evaluate to a valid number)"
     ]
    },
    {
     "cell_type": "code",
     "collapsed": false,
     "input": [
      "np.empty(50)"
     ],
     "language": "python",
     "metadata": {},
     "outputs": [
      {
       "metadata": {},
       "output_type": "pyout",
       "prompt_number": 21,
       "text": [
        "array([ 4.68706651e-310,  0.00000000e+000,  3.30849907e+257,",
        "        2.77361089e-285,  1.26665219e+161,  2.04738149e+190,",
        "        1.33360290e+241,  6.21744767e-311,  3.06836156e+257,",
        "        7.10084082e+194,  7.49088705e+247,  5.17683105e-313,",
        "        1.14822086e-202,  3.87205323e+228,  5.30282490e+180,",
        "        2.88067937e+214,  3.16251369e+180,  4.81807229e+233,",
        "        5.06789000e-314,  0.00000000e+000,  1.90979621e-313,",
        "        6.76046639e-310,  4.03775381e+202,  1.60167159e+135,",
        "        2.49581566e+289,  3.11201452e+295,  8.56361925e-198,",
        "       -4.40064244e-294,  2.60859282e+289,  8.40712539e+250,",
        "        1.97761629e+289,  6.52010661e+091,  2.20195067e+241,",
        "        5.16576064e+120,  2.03632713e+251,  5.87045645e+250,",
        "       -5.22978309e-299,  5.71794521e+279,  6.01347002e-154,",
        "        3.99727171e+252,  2.35510032e+251,  1.10987430e+171,",
        "        2.34953938e+251,  5.28555529e+180,  2.20885204e+161,",
        "        2.13863810e+161,  6.01346953e-154,  7.30417580e-311,",
        "        3.17477471e-120,  2.08421775e+296])"
       ]
      }
     ],
     "prompt_number": 21
    },
    {
     "cell_type": "markdown",
     "metadata": {},
     "source": [
      "## Array data types",
      "",
      "A Python `list` can contain data of mixed type:"
     ]
    },
    {
     "cell_type": "code",
     "collapsed": false,
     "input": [
      "x = ['hello', 2, 3.4, True]",
      "for el in x:",
      "    print(type(el))"
     ],
     "language": "python",
     "metadata": {},
     "outputs": [
      {
       "output_type": "stream",
       "stream": "stdout",
       "text": [
        "<class 'str'>",
        "<class 'int'>",
        "<class 'float'>",
        "<class 'bool'>"
       ]
      }
     ],
     "prompt_number": 22
    },
    {
     "cell_type": "markdown",
     "metadata": {},
     "source": [
      "In *most cases* all the elements of a NumPy array will be of the same type. The [*data type*](https://numpy.org/doc/stable/user/basics.types.html) of an array can be specified by the `dtype` argument to `np.array` (as well as to other array creation routines such as `np.arange` and `np.linspace`). If omitted the default is to use the 'minimum' (least generic) type required to hold the objects in the (nested) sequence, with all the objects cast to this type. The results of this type conversion can sometimes be non-intuitive. For example, in the following"
     ]
    },
    {
     "cell_type": "code",
     "collapsed": false,
     "input": [
      "for el in np.array(x):",
      "    print(type(el))"
     ],
     "language": "python",
     "metadata": {},
     "outputs": [
      {
       "output_type": "stream",
       "stream": "stdout",
       "text": [
        "<class 'numpy.str_'>",
        "<class 'numpy.str_'>",
        "<class 'numpy.str_'>",
        "<class 'numpy.str_'>"
       ]
      }
     ],
     "prompt_number": 23
    },
    {
     "cell_type": "markdown",
     "metadata": {},
     "source": [
      "the array data type has been automatically set to the `numpy.str_` string type as the other integer, float and bool objects can all be represented as strings. In contrast if we repeat the same code snippet but exclude the first string entry in the list `x`"
     ]
    },
    {
     "cell_type": "code",
     "collapsed": false,
     "input": [
      "for el in np.array(x[1:]):",
      "    print(type(el))"
     ],
     "language": "python",
     "metadata": {},
     "outputs": [
      {
       "output_type": "stream",
       "stream": "stdout",
       "text": [
        "<class 'numpy.float64'>",
        "<class 'numpy.float64'>",
        "<class 'numpy.float64'>"
       ]
      }
     ],
     "prompt_number": 24
    },
    {
     "cell_type": "markdown",
     "metadata": {},
     "source": [
      "we see that all the array elements are now `numpy.float64` double-precision floating point values, as both integer and bool values can be represented as floats. The main takeaway here is that when construct NumPy arrays with `np.array` it generally is advisable to either always use (nested) sequences containing objects of a uniform type *or* to explicitly specify the data type using the `dtype` argument to ensure the constructed array has the data type you expect!",
      "",
      "An important exception to the rule-of-thumb that all elements in NumPy arrays are of the same type is the NumPy array with an `object` datatype. This is the 'catch-all' data type used when no other type can represent all the objects in the nested sequence passed to `np.array` or if this data type is explicitly specified via the `dtype` argument. In this case the array stores only references to the objects and when the array elements are accessed the original objects are recovered:"
     ]
    },
    {
     "cell_type": "code",
     "collapsed": false,
     "input": [
      "for el in np.array(x, dtype=object):",
      "    print(type(el))"
     ],
     "language": "python",
     "metadata": {},
     "outputs": [
      {
       "output_type": "stream",
       "stream": "stdout",
       "text": [
        "<class 'str'>",
        "<class 'int'>",
        "<class 'float'>",
        "<class 'bool'>"
       ]
      }
     ],
     "prompt_number": 25
    },
    {
     "cell_type": "markdown",
     "metadata": {},
     "source": [
      "While this flexibility allows arrays to hold objects of any type, as we will see most of NumPy's performance gains arise from using arrays with specific data types that allow using efficient compiled code to implement computations.",
      "",
      "Arrays have a `dtype` attrinute which specifies their data type:"
     ]
    },
    {
     "cell_type": "code",
     "collapsed": false,
     "input": [
      "x = np.array([2., 3.4, 7.2, 0.])",
      "x.dtype"
     ],
     "language": "python",
     "metadata": {},
     "outputs": [
      {
       "metadata": {},
       "output_type": "pyout",
       "prompt_number": 26,
       "text": [
        "dtype('float64')"
       ]
      }
     ],
     "prompt_number": 26
    },
    {
     "cell_type": "markdown",
     "metadata": {},
     "source": [
      "NumPy supports a wide range of numeric data types of varying precision levels. The type code in the data type string representation typically consists of the combination of [a primitive type and integer specifying the bit width of the value](https://numpy.org/devdocs/reference/arrays.scalars.html#sized-aliases).",
      "",
      "NumPy will also convert Python type names to corresponding data types:"
     ]
    },
    {
     "cell_type": "code",
     "collapsed": false,
     "input": [
      "int_array = np.array(x, dtype=int)"
     ],
     "language": "python",
     "metadata": {},
     "outputs": [],
     "prompt_number": 27
    },
    {
     "cell_type": "code",
     "collapsed": false,
     "input": [
      "float_array = np.array(x, dtype=float)"
     ],
     "language": "python",
     "metadata": {},
     "outputs": [],
     "prompt_number": 28
    },
    {
     "cell_type": "code",
     "collapsed": false,
     "input": [
      "int_array"
     ],
     "language": "python",
     "metadata": {},
     "outputs": [
      {
       "metadata": {},
       "output_type": "pyout",
       "prompt_number": 29,
       "text": [
        "array([2, 3, 7, 0])"
       ]
      }
     ],
     "prompt_number": 29
    },
    {
     "cell_type": "code",
     "collapsed": false,
     "input": [
      "float_array"
     ],
     "language": "python",
     "metadata": {},
     "outputs": [
      {
       "metadata": {},
       "output_type": "pyout",
       "prompt_number": 30,
       "text": [
        "array([2. , 3.4, 7.2, 0. ])"
       ]
      }
     ],
     "prompt_number": 30
    },
    {
     "cell_type": "code",
     "collapsed": false,
     "input": [
      "int_array.dtype"
     ],
     "language": "python",
     "metadata": {},
     "outputs": [
      {
       "metadata": {},
       "output_type": "pyout",
       "prompt_number": 31,
       "text": [
        "dtype('int64')"
       ]
      }
     ],
     "prompt_number": 31
    },
    {
     "cell_type": "code",
     "collapsed": false,
     "input": [
      "float_array.dtype"
     ],
     "language": "python",
     "metadata": {},
     "outputs": [
      {
       "metadata": {},
       "output_type": "pyout",
       "prompt_number": 32,
       "text": [
        "dtype('float64')"
       ]
      }
     ],
     "prompt_number": 32
    },
    {
     "cell_type": "markdown",
     "metadata": {},
     "source": [
      "## Elementwise operations and scalar broadcasting",
      "",
      "Most arithmetic operations can be applied directly to NumPy arrays, with the elementwise interpretation of the operations corresponding to what we would intutively expect from the corresponding mathematical notation."
     ]
    },
    {
     "cell_type": "code",
     "collapsed": false,
     "input": [
      "my_array = np.arange(5)",
      "my_array + my_array"
     ],
     "language": "python",
     "metadata": {},
     "outputs": [
      {
       "metadata": {},
       "output_type": "pyout",
       "prompt_number": 33,
       "text": [
        "array([0, 2, 4, 6, 8])"
       ]
      }
     ],
     "prompt_number": 33
    },
    {
     "cell_type": "code",
     "collapsed": false,
     "input": [
      "my_array * my_array"
     ],
     "language": "python",
     "metadata": {},
     "outputs": [
      {
       "metadata": {},
       "output_type": "pyout",
       "prompt_number": 34,
       "text": [
        "array([ 0,  1,  4,  9, 16])"
       ]
      }
     ],
     "prompt_number": 34
    },
    {
     "cell_type": "markdown",
     "metadata": {},
     "source": [
      "We can also use unary operations, for example"
     ]
    },
    {
     "cell_type": "code",
     "collapsed": false,
     "input": [
      "-my_array"
     ],
     "language": "python",
     "metadata": {},
     "outputs": [
      {
       "metadata": {},
       "output_type": "pyout",
       "prompt_number": 35,
       "text": [
        "array([ 0, -1, -2, -3, -4])"
       ]
      }
     ],
     "prompt_number": 35
    },
    {
     "cell_type": "markdown",
     "metadata": {},
     "source": [
      "As well as binary operations between arrays of the same shape as above, we can also apply binary operations to mixes of arrays and scalars, with binary operations involving a scalar and an array being [*broadcast*](https://numpy.org/doc/stable/user/basics.broadcasting.html) such that the scalar is treated as if it was an array of equal shape to the array operand and the operation then performed elementwise. This again gives compact expressions which correspond with how we would typically intepret such expressions in mathematical notation"
     ]
    },
    {
     "cell_type": "code",
     "collapsed": false,
     "input": [
      "my_array * 2"
     ],
     "language": "python",
     "metadata": {},
     "outputs": [
      {
       "metadata": {},
       "output_type": "pyout",
       "prompt_number": 36,
       "text": [
        "array([0, 2, 4, 6, 8])"
       ]
      }
     ],
     "prompt_number": 36
    },
    {
     "cell_type": "code",
     "collapsed": false,
     "input": [
      "my_array + 1"
     ],
     "language": "python",
     "metadata": {},
     "outputs": [
      {
       "metadata": {},
       "output_type": "pyout",
       "prompt_number": 37,
       "text": [
        "array([1, 2, 3, 4, 5])"
       ]
      }
     ],
     "prompt_number": 37
    },
    {
     "cell_type": "code",
     "collapsed": false,
     "input": [
      "2 ** my_array"
     ],
     "language": "python",
     "metadata": {},
     "outputs": [
      {
       "metadata": {},
       "output_type": "pyout",
       "prompt_number": 38,
       "text": [
        "array([ 1,  2,  4,  8, 16])"
       ]
      }
     ],
     "prompt_number": 38
    },
    {
     "cell_type": "markdown",
     "metadata": {},
     "source": [
      "These *vectorised* operations are very fast. For example, we can use the [`%timeit` magic](https://ipython.readthedocs.io/en/stable/interactive/magics.html#magic-timeit) to compare the time taken to use a list comprehension to compute the squares of the first 10&thinsp;000 integers:"
     ]
    },
    {
     "cell_type": "code",
     "collapsed": false,
     "input": [
      "%timeit [x**2 for x in range(10_000)]"
     ],
     "language": "python",
     "metadata": {},
     "outputs": [
      {
       "output_type": "stream",
       "stream": "stdout",
       "text": [
        "2.98 ms \u00b1 3 \u00b5s per loop (mean \u00b1 std. dev. of 7 runs, 100 loops each)"
       ]
      }
     ],
     "prompt_number": 39
    },
    {
     "cell_type": "markdown",
     "metadata": {},
     "source": [
      "with the time taken to compute the corresponding array of squared integers using NumPy:"
     ]
    },
    {
     "cell_type": "code",
     "collapsed": false,
     "input": [
      "%timeit np.arange(10_000)**2"
     ],
     "language": "python",
     "metadata": {},
     "outputs": [
      {
       "output_type": "stream",
       "stream": "stdout",
       "text": [
        "10.3 \u00b5s \u00b1 12.5 ns per loop (mean \u00b1 std. dev. of 7 runs, 100,000 loops each)"
       ]
      }
     ],
     "prompt_number": 40
    },
    {
     "cell_type": "markdown",
     "metadata": {},
     "source": [
      "Note that this speed-up is a consequence of all of the array elements being known in advance to be of a specific data type enabling the use of efficient compiled loop in NumPy's backend when computing the operation. The performance advantage is lost when using arrays with the catch-all `object` data type, as in this case NumPy has to revert to looping over the array elements in Python:"
     ]
    },
    {
     "cell_type": "code",
     "collapsed": false,
     "input": [
      "%timeit np.arange(10_000, dtype=object)**2"
     ],
     "language": "python",
     "metadata": {},
     "outputs": [
      {
       "output_type": "stream",
       "stream": "stdout",
       "text": [
        "3 ms \u00b1 7.02 \u00b5s per loop (mean \u00b1 std. dev. of 7 runs, 100 loops each)"
       ]
      }
     ],
     "prompt_number": 41
    },
    {
     "cell_type": "markdown",
     "metadata": {},
     "source": [
      "## Numpy mathematical functions",
      "",
      "NumPy comes with vectorised versions of [common mathematical functions](https://numpy.org/doc/stable/reference/routines.math.html) which work elementwise when applied to arrays.",
      "",
      "Compared to the list comprehensions used previously these signficantly simplify the process of plotting functions using Matplotlib:"
     ]
    },
    {
     "cell_type": "code",
     "collapsed": false,
     "input": [
      "from matplotlib import pyplot as plt",
      "x = np.linspace(-3, 3, 100)",
      "for func in (np.sin, np.cos, np.tanh, np.arctan, np.absolute):",
      "    plt.plot(x, func(x), label=func.__name__)",
      "plt.legend()"
     ],
     "language": "python",
     "metadata": {},
     "outputs": [
      {
       "metadata": {},
       "output_type": "pyout",
       "prompt_number": 42,
       "text": [
        "<matplotlib.legend.Legend at 0x7fbba8a77640>"
       ]
      },
      {
       "metadata": {},
       "output_type": "display_data",
       "png": "[encoded data removed]",
       "text": [
        "<Figure size 640x480 with 1 Axes>"
       ]
      }
     ],
     "prompt_number": 42
    },
    {
     "cell_type": "markdown",
     "metadata": {},
     "source": [
      "## Multi-dimensional arrays",
      "",
      "A particularly powerful feature of NumPy is its ability to handle arrays of (almost) arbitrary dimension. For example to create a three dimensional array of zeros we can use the following"
     ]
    },
    {
     "cell_type": "code",
     "collapsed": false,
     "input": [
      "np.zeros(shape=(3, 4, 2))  # or equivalently np.zeros((3, 4, 2))"
     ],
     "language": "python",
     "metadata": {},
     "outputs": [
      {
       "metadata": {},
       "output_type": "pyout",
       "prompt_number": 43,
       "text": [
        "array([[[0., 0.],",
        "        [0., 0.],",
        "        [0., 0.],",
        "        [0., 0.]],",
        "",
        "       [[0., 0.],",
        "        [0., 0.],",
        "        [0., 0.],",
        "        [0., 0.]],",
        "",
        "       [[0., 0.],",
        "        [0., 0.],",
        "        [0., 0.],",
        "        [0., 0.]]])"
       ]
      }
     ],
     "prompt_number": 43
    },
    {
     "cell_type": "markdown",
     "metadata": {},
     "source": [
      "Unlike nested lists in Python, we can change the shape of NumPy arrays using the `np.reshape` function (or `ndarray.reshape` method) providing the new total number of elements in the new shape matches the old shape. For example"
     ]
    },
    {
     "cell_type": "code",
     "collapsed": false,
     "input": [
      "x = np.arange(12).reshape((3, 4))",
      "x"
     ],
     "language": "python",
     "metadata": {},
     "outputs": [
      {
       "metadata": {},
       "output_type": "pyout",
       "prompt_number": 44,
       "text": [
        "array([[ 0,  1,  2,  3],",
        "       [ 4,  5,  6,  7],",
        "       [ 8,  9, 10, 11]])"
       ]
      }
     ],
     "prompt_number": 44
    },
    {
     "cell_type": "markdown",
     "metadata": {},
     "source": [
      "We can also reorder the dimensions of arrays using the `np.transpose` function or corresponding `ndarray.transpose` method. By default this reverses the order of the axes (dimensions)"
     ]
    },
    {
     "cell_type": "code",
     "collapsed": false,
     "input": [
      "x.transpose()"
     ],
     "language": "python",
     "metadata": {},
     "outputs": [
      {
       "metadata": {},
       "output_type": "pyout",
       "prompt_number": 45,
       "text": [
        "array([[ 0,  4,  8],",
        "       [ 1,  5,  9],",
        "       [ 2,  6, 10],",
        "       [ 3,  7, 11]])"
       ]
      }
     ],
     "prompt_number": 45
    },
    {
     "cell_type": "markdown",
     "metadata": {},
     "source": [
      "The shorthand `ndarray.T` property can also be used access the result corresponding to calling the `transpose` method with its default arguments"
     ]
    },
    {
     "cell_type": "code",
     "collapsed": false,
     "input": [
      "x.T"
     ],
     "language": "python",
     "metadata": {},
     "outputs": [
      {
       "metadata": {},
       "output_type": "pyout",
       "prompt_number": 46,
       "text": [
        "array([[ 0,  4,  8],",
        "       [ 1,  5,  9],",
        "       [ 2,  6, 10],",
        "       [ 3,  7, 11]])"
       ]
      }
     ],
     "prompt_number": 46
    },
    {
     "cell_type": "markdown",
     "metadata": {},
     "source": [
      "We can also pass in a specific permutation of the axes indices to `transpose` to get different reorderings, for example"
     ]
    },
    {
     "cell_type": "code",
     "collapsed": false,
     "input": [
      "y = np.arange(24).reshape((3, 4, 2))",
      "y.transpose((0, 2, 1))"
     ],
     "language": "python",
     "metadata": {},
     "outputs": [
      {
       "metadata": {},
       "output_type": "pyout",
       "prompt_number": 47,
       "text": [
        "array([[[ 0,  2,  4,  6],",
        "        [ 1,  3,  5,  7]],",
        "",
        "       [[ 8, 10, 12, 14],",
        "        [ 9, 11, 13, 15]],",
        "",
        "       [[16, 18, 20, 22],",
        "        [17, 19, 21, 23]]])"
       ]
      }
     ],
     "prompt_number": 47
    },
    {
     "cell_type": "markdown",
     "metadata": {},
     "source": [
      "The shape of a particular array can always be accessed using the `ndarray.shape` attribute"
     ]
    },
    {
     "cell_type": "code",
     "collapsed": false,
     "input": [
      "y.shape"
     ],
     "language": "python",
     "metadata": {},
     "outputs": [
      {
       "metadata": {},
       "output_type": "pyout",
       "prompt_number": 48,
       "text": [
        "(3, 4, 2)"
       ]
      }
     ],
     "prompt_number": 48
    },
    {
     "cell_type": "code",
     "collapsed": false,
     "input": [
      "y.transpose((0, 2, 1)).shape"
     ],
     "language": "python",
     "metadata": {},
     "outputs": [
      {
       "metadata": {},
       "output_type": "pyout",
       "prompt_number": 49,
       "text": [
        "(3, 2, 4)"
       ]
      }
     ],
     "prompt_number": 49
    },
    {
     "cell_type": "markdown",
     "metadata": {},
     "source": [
      "The total number of dimensions (axes) of an array can be accessed using the `ndarray.ndim` attribute"
     ]
    },
    {
     "cell_type": "code",
     "collapsed": false,
     "input": [
      "y.ndim"
     ],
     "language": "python",
     "metadata": {},
     "outputs": [
      {
       "metadata": {},
       "output_type": "pyout",
       "prompt_number": 50,
       "text": [
        "3"
       ]
      }
     ],
     "prompt_number": 50
    },
    {
     "cell_type": "markdown",
     "metadata": {},
     "source": [
      "## Array indexing and slicing",
      "",
      "A multidimensional array accepts a comma-delimited sequence of integer indices or index ranges enclosed in square brackets, of up to the number of array dimensions. For an array with *n* dimensions if *n* integer indices are specified then the result is a scalar value of the array's data type"
     ]
    },
    {
     "cell_type": "code",
     "collapsed": false,
     "input": [
      "x = np.arange(40).reshape([4, 5, 2])",
      "x[2, 1, 0]"
     ],
     "language": "python",
     "metadata": {},
     "outputs": [
      {
       "metadata": {},
       "output_type": "pyout",
       "prompt_number": 51,
       "text": [
        "22"
       ]
      }
     ],
     "prompt_number": 51
    },
    {
     "cell_type": "markdown",
     "metadata": {},
     "source": [
      "If we pass *m < n* indices, then the indices are used to select a [*slice*](https://docs.python.org/3/glossary.html#term-slice) of the array corresponding to using the specified indices to select the first *m* dimensions and selecting all of the remaining *n - m* dimensions"
     ]
    },
    {
     "cell_type": "code",
     "collapsed": false,
     "input": [
      "x[2, 1]"
     ],
     "language": "python",
     "metadata": {},
     "outputs": [
      {
       "metadata": {},
       "output_type": "pyout",
       "prompt_number": 52,
       "text": [
        "array([22, 23])"
       ]
      }
     ],
     "prompt_number": 52
    },
    {
     "cell_type": "code",
     "collapsed": false,
     "input": [
      "x[2]"
     ],
     "language": "python",
     "metadata": {},
     "outputs": [
      {
       "metadata": {},
       "output_type": "pyout",
       "prompt_number": 53,
       "text": [
        "array([[20, 21],",
        "       [22, 23],",
        "       [24, 25],",
        "       [26, 27],",
        "       [28, 29]])"
       ]
      }
     ],
     "prompt_number": 53
    },
    {
     "cell_type": "markdown",
     "metadata": {},
     "source": [
      "Similar to lists, NumPy arrays also support [an extended indexing syntax](https://numpy.org/devdocs/user/basics.indexing.html#slicing-and-striding) to support selecting portions of a particular dimension; somewhat confusingly the term *slice* is used to refer both to the outcome of selecting a portion of a sequence *and* the object and associated [syntactic sugar](https://en.wikipedia.org/wiki/Syntactic_sugar) used to select such portions. Passing a colon separated range `start:stop:step` as the index for an array dimension, will select the elements for which this dimension's index is in the corresponding range object `range(start, stop, step)` for example"
     ]
    },
    {
     "cell_type": "code",
     "collapsed": false,
     "input": [
      "np.arange(10)[1:10:2]"
     ],
     "language": "python",
     "metadata": {},
     "outputs": [
      {
       "metadata": {},
       "output_type": "pyout",
       "prompt_number": 54,
       "text": [
        "array([1, 3, 5, 7, 9])"
       ]
      }
     ],
     "prompt_number": 54
    },
    {
     "cell_type": "markdown",
     "metadata": {},
     "source": [
      "As for lists the `step` component of the range can be omitted; in this case the second colon can also be left out. "
     ]
    },
    {
     "cell_type": "code",
     "collapsed": false,
     "input": [
      "np.arange(10)[1:3]"
     ],
     "language": "python",
     "metadata": {},
     "outputs": [
      {
       "metadata": {},
       "output_type": "pyout",
       "prompt_number": 55,
       "text": [
        "array([1, 2])"
       ]
      }
     ],
     "prompt_number": 55
    },
    {
     "cell_type": "markdown",
     "metadata": {},
     "source": [
      "If the `start` argument is omitted it is implicitly assumed to be zero - that is to start from the beginning of the dimension. If the `end` argument is omitted it is implicitly assumed to be equal to the length of that dimension, that is to stop at the final index along that dimension. Combining these rules together means that for example a plain colon `:` will be interpreted as referring to all indices in that dimension"
     ]
    },
    {
     "cell_type": "code",
     "collapsed": false,
     "input": [
      "np.arange(10)[:]"
     ],
     "language": "python",
     "metadata": {},
     "outputs": [
      {
       "metadata": {},
       "output_type": "pyout",
       "prompt_number": 56,
       "text": [
        "array([0, 1, 2, 3, 4, 5, 6, 7, 8, 9])"
       ]
      }
     ],
     "prompt_number": 56
    },
    {
     "cell_type": "markdown",
     "metadata": {},
     "source": [
      "For multiple dimensional arrays we can slice along multiple dimensions simultaneously"
     ]
    },
    {
     "cell_type": "code",
     "collapsed": false,
     "input": [
      "x[2:, :1, 0]"
     ],
     "language": "python",
     "metadata": {},
     "outputs": [
      {
       "metadata": {},
       "output_type": "pyout",
       "prompt_number": 57,
       "text": [
        "array([[20],",
        "       [30]])"
       ]
      }
     ],
     "prompt_number": 57
    },
    {
     "cell_type": "markdown",
     "metadata": {},
     "source": [
      "As for lists, the [inbuilt `slice` object](https://docs.python.org/3/library/functions.html#slice) can be used to programatically define slices, for example the following is equivalent to the slicing in the above cell"
     ]
    },
    {
     "cell_type": "code",
     "collapsed": false,
     "input": [
      "x[slice(2, None), slice(None, 1), 0]"
     ],
     "language": "python",
     "metadata": {},
     "outputs": [
      {
       "metadata": {},
       "output_type": "pyout",
       "prompt_number": 58,
       "text": [
        "array([[20],",
        "       [30]])"
       ]
      }
     ],
     "prompt_number": 58
    },
    {
     "cell_type": "markdown",
     "metadata": {
      "tags": []
     },
     "source": [
      "## Reduction operations",
      "",
      "NumPy provides various functions and associate `ndarray` methods which apply an operation along one or more array axes, resulting in an output of reduced dimension. The *reduction* operations include",
      "",
      "  * `sum`, `prod`: compute the sum or product along one or more dimensions,",
      "  * `min`, `max`: compute the minimum or maximum along one or more dimensions,",
      "  * `argmin`, `argmax`: compute the indices corresponding to the minimum or maximum along one or more dimensions,",
      "  * `mean`, `std`: compute the empirical mean or standard deviation along one or dimensions.",
      "  ",
      "All of these operations include both a functional form available in the `numpy` module namespace, and a corresponding `ndarray` method. The interface to the `ndarray` methods match the function other than the first array positional argument being set to array the method is being called on; for example `np.sum(x)` and `x.sum()` will give equivalent results."
     ]
    },
    {
     "cell_type": "code",
     "collapsed": false,
     "input": [
      "x = np.arange(12).reshape(2, 2, 3)",
      "x"
     ],
     "language": "python",
     "metadata": {},
     "outputs": [
      {
       "metadata": {},
       "output_type": "pyout",
       "prompt_number": 59,
       "text": [
        "array([[[ 0,  1,  2],",
        "        [ 3,  4,  5]],",
        "",
        "       [[ 6,  7,  8],",
        "        [ 9, 10, 11]]])"
       ]
      }
     ],
     "prompt_number": 59
    },
    {
     "cell_type": "code",
     "collapsed": false,
     "input": [
      "np.sum(x)  # Sums along all axes"
     ],
     "language": "python",
     "metadata": {},
     "outputs": [
      {
       "metadata": {},
       "output_type": "pyout",
       "prompt_number": 60,
       "text": [
        "66"
       ]
      }
     ],
     "prompt_number": 60
    },
    {
     "cell_type": "code",
     "collapsed": false,
     "input": [
      "x.sum() # Also sums along all axes"
     ],
     "language": "python",
     "metadata": {},
     "outputs": [
      {
       "metadata": {},
       "output_type": "pyout",
       "prompt_number": 61,
       "text": [
        "66"
       ]
      }
     ],
     "prompt_number": 61
    },
    {
     "cell_type": "markdown",
     "metadata": {},
     "source": [
      "All the reduction operations accept an optional `axis` argument which specifies the array axis (dimension) or axes to apply the reduction along. This defaults to `None` corresponding to applying along all axes, with the returned output then a scalar."
     ]
    },
    {
     "cell_type": "code",
     "collapsed": false,
     "input": [
      "x.sum(axis=None)  # Also sums along all axes"
     ],
     "language": "python",
     "metadata": {},
     "outputs": [
      {
       "metadata": {},
       "output_type": "pyout",
       "prompt_number": 62,
       "text": [
        "66"
       ]
      }
     ],
     "prompt_number": 62
    },
    {
     "cell_type": "markdown",
     "metadata": {},
     "source": [
      "If `axis` is set to an integer (corresponding to a valid axis index for the array) then the reduction will be applied only along that axis, resulting in a returned output of dimension one less than the original array."
     ]
    },
    {
     "cell_type": "code",
     "collapsed": false,
     "input": [
      "x.sum(axis=0)  # Sums along the first axis"
     ],
     "language": "python",
     "metadata": {},
     "outputs": [
      {
       "metadata": {},
       "output_type": "pyout",
       "prompt_number": 63,
       "text": [
        "array([[ 6,  8, 10],",
        "       [12, 14, 16]])"
       ]
      }
     ],
     "prompt_number": 63
    },
    {
     "cell_type": "code",
     "collapsed": false,
     "input": [
      "x.sum(axis=1)  # Sums along the second axis"
     ],
     "language": "python",
     "metadata": {},
     "outputs": [
      {
       "metadata": {},
       "output_type": "pyout",
       "prompt_number": 64,
       "text": [
        "array([[ 3,  5,  7],",
        "       [15, 17, 19]])"
       ]
      }
     ],
     "prompt_number": 64
    },
    {
     "cell_type": "code",
     "collapsed": false,
     "input": [
      "x.sum(axis=2)  # Sums along the third axis"
     ],
     "language": "python",
     "metadata": {},
     "outputs": [
      {
       "metadata": {},
       "output_type": "pyout",
       "prompt_number": 65,
       "text": [
        "array([[ 3, 12],",
        "       [21, 30]])"
       ]
      }
     ],
     "prompt_number": 65
    },
    {
     "cell_type": "markdown",
     "metadata": {},
     "source": [
      "If axis is set a *tuple* of integer axis indices, the reduction is applied along all the corresponding axes, with the returned output then of dimension equal to the original array dimension minus the length of the axis index tuple."
     ]
    },
    {
     "cell_type": "code",
     "collapsed": false,
     "input": [
      "x.sum(axis=(0, 1)) # Sums along the first and second axes"
     ],
     "language": "python",
     "metadata": {},
     "outputs": [
      {
       "metadata": {},
       "output_type": "pyout",
       "prompt_number": 66,
       "text": [
        "array([18, 22, 26])"
       ]
      }
     ],
     "prompt_number": 66
    },
    {
     "cell_type": "code",
     "collapsed": false,
     "input": [
      "x.sum(axis=(0, 1, 2))  # Also sums along all axes"
     ],
     "language": "python",
     "metadata": {},
     "outputs": [
      {
       "metadata": {},
       "output_type": "pyout",
       "prompt_number": 67,
       "text": [
        "66"
       ]
      }
     ],
     "prompt_number": 67
    },
    {
     "cell_type": "markdown",
     "metadata": {},
     "source": [
      "## Advanced broadcasting",
      "",
      "We earlier encountered the concept of *broadcasting* in the context of binary operations on mixes of scalars and arrays. A very powerful feature of NumPy is that broadcasting is also extended to apply to operations involving arrays with differing but *compatible* shapes. This allows us to broadcast a smaller array across a larger array without needlessly repeating the data in the smaller array. It also",
      "",
      "NumPy's binary operations are usually applied elementwise on pairs of arrays, with the simplest case being when the arrays have exactly matching shapes"
     ]
    },
    {
     "cell_type": "code",
     "collapsed": false,
     "input": [
      "np.arange(0, 5) * np.arange(5, 10)"
     ],
     "language": "python",
     "metadata": {},
     "outputs": [
      {
       "metadata": {},
       "output_type": "pyout",
       "prompt_number": 68,
       "text": [
        "array([ 0,  6, 14, 24, 36])"
       ]
      }
     ],
     "prompt_number": 68
    },
    {
     "cell_type": "code",
     "collapsed": false,
     "input": [
      "np.ones((3, 2)) + np.zeros((3, 2))"
     ],
     "language": "python",
     "metadata": {},
     "outputs": [
      {
       "metadata": {},
       "output_type": "pyout",
       "prompt_number": 69,
       "text": [
        "array([[1., 1.],",
        "       [1., 1.],",
        "       [1., 1.]])"
       ]
      }
     ],
     "prompt_number": 69
    },
    {
     "cell_type": "markdown",
     "metadata": {},
     "source": [
      "If we apply binary operations to arrays with non-matching shapes we will typically get an error"
     ]
    },
    {
     "cell_type": "code",
     "collapsed": false,
     "input": [
      "np.arange(5) * np.arange(6)"
     ],
     "language": "python",
     "metadata": {},
     "outputs": [
      {
       "ename": "ValueError",
       "evalue": "operands could not be broadcast together with shapes (5,) (6,) ",
       "output_type": "pyerr",
       "traceback": [
        "\u001b[0;31m---------------------------------------------------------------------------\u001b[0m",
        "\u001b[0;31mValueError\u001b[0m                                Traceback (most recent call last)",
        "Cell \u001b[0;32mIn [70], line 1\u001b[0m\n\u001b[0;32m----> 1\u001b[0m \u001b[43mnp\u001b[49m\u001b[38;5;241;43m.\u001b[39;49m\u001b[43marange\u001b[49m\u001b[43m(\u001b[49m\u001b[38;5;241;43m5\u001b[39;49m\u001b[43m)\u001b[49m\u001b[43m \u001b[49m\u001b[38;5;241;43m*\u001b[39;49m\u001b[43m \u001b[49m\u001b[43mnp\u001b[49m\u001b[38;5;241;43m.\u001b[39;49m\u001b[43marange\u001b[49m\u001b[43m(\u001b[49m\u001b[38;5;241;43m6\u001b[39;49m\u001b[43m)\u001b[49m\n",
        "\u001b[0;31mValueError\u001b[0m: operands could not be broadcast together with shapes (5,) (6,) "
       ]
      }
     ],
     "prompt_number": 70
    },
    {
     "cell_type": "code",
     "collapsed": false,
     "input": [
      "np.ones((2, 3)) * np.zeros((2, 4))"
     ],
     "language": "python",
     "metadata": {},
     "outputs": [
      {
       "ename": "ValueError",
       "evalue": "operands could not be broadcast together with shapes (2,3) (2,4) ",
       "output_type": "pyerr",
       "traceback": [
        "\u001b[0;31m---------------------------------------------------------------------------\u001b[0m",
        "\u001b[0;31mValueError\u001b[0m                                Traceback (most recent call last)",
        "Cell \u001b[0;32mIn [71], line 1\u001b[0m\n\u001b[0;32m----> 1\u001b[0m \u001b[43mnp\u001b[49m\u001b[38;5;241;43m.\u001b[39;49m\u001b[43mones\u001b[49m\u001b[43m(\u001b[49m\u001b[43m(\u001b[49m\u001b[38;5;241;43m2\u001b[39;49m\u001b[43m,\u001b[49m\u001b[43m \u001b[49m\u001b[38;5;241;43m3\u001b[39;49m\u001b[43m)\u001b[49m\u001b[43m)\u001b[49m\u001b[43m \u001b[49m\u001b[38;5;241;43m*\u001b[39;49m\u001b[43m \u001b[49m\u001b[43mnp\u001b[49m\u001b[38;5;241;43m.\u001b[39;49m\u001b[43mzeros\u001b[49m\u001b[43m(\u001b[49m\u001b[43m(\u001b[49m\u001b[38;5;241;43m2\u001b[39;49m\u001b[43m,\u001b[49m\u001b[43m \u001b[49m\u001b[38;5;241;43m4\u001b[39;49m\u001b[43m)\u001b[49m\u001b[43m)\u001b[49m\n",
        "\u001b[0;31mValueError\u001b[0m: operands could not be broadcast together with shapes (2,3) (2,4) "
       ]
      }
     ],
     "prompt_number": 71
    },
    {
     "cell_type": "markdown",
     "metadata": {},
     "source": [
      "However, the condition that array shapes exactly match is relaxed to allow operations to be peformed on pairs of arrays for which the shapes are *compatible* under certain rules. The shape of two arguments to a binary operation are considered compatible if: working from the rightmost dimension leftwards all dimensions which are defined for both arrays are either equal or one of them is equal to one. Any dimensions for which one array only has size one, that array is treated as if the array element was repeated a number of times equal to the size of the corresponding dimension of the other array.",
      "",
      "This provides a convenient way for example to perform an outer product operation on vectors (one dimensional arrays)"
     ]
    },
    {
     "cell_type": "code",
     "collapsed": false,
     "input": [
      "np.arange(5).reshape(5, 1) * np.arange(5, 10).reshape(1, 5)"
     ],
     "language": "python",
     "metadata": {},
     "outputs": [
      {
       "metadata": {},
       "output_type": "pyout",
       "prompt_number": 72,
       "text": [
        "array([[ 0,  0,  0,  0,  0],",
        "       [ 5,  6,  7,  8,  9],",
        "       [10, 12, 14, 16, 18],",
        "       [15, 18, 21, 24, 27],",
        "       [20, 24, 28, 32, 36]])"
       ]
      }
     ],
     "prompt_number": 72
    },
    {
     "cell_type": "markdown",
     "metadata": {},
     "source": [
      "Importantly arrays do not need to have the same number of dimensions to have compatible shapes, providing the rightmost dimensions of the array with a larger dimension are compatible with the shape of the smaller array, with the missing leftmost dimensions of the smaller array treated as if they were of size one. For example"
     ]
    },
    {
     "cell_type": "code",
     "collapsed": false,
     "input": [
      "np.arange(6).reshape(3, 2) + np.arange(2)"
     ],
     "language": "python",
     "metadata": {},
     "outputs": [
      {
       "metadata": {},
       "output_type": "pyout",
       "prompt_number": 73,
       "text": [
        "array([[0, 2],",
        "       [2, 4],",
        "       [4, 6]])"
       ]
      }
     ],
     "prompt_number": 73
    },
    {
     "cell_type": "markdown",
     "metadata": {},
     "source": [
      "For a more complete description of NumPy's broadcasting rules including some helpful visualisation [see this article in the official documentation](https://numpy.org/devdocs/user/basics.broadcasting.html).",
      "",
      "## Adding new axes",
      "",
      "Broadcasting is very powerful, and NumPy allows indexing with `np.newaxis` to temporarily create new length one dimensions on the fly, rather than explicitly calling `reshape`."
     ]
    },
    {
     "cell_type": "code",
     "collapsed": false,
     "input": [
      "x = np.arange(10).reshape(2, 5)",
      "y = np.arange(8).reshape(2, 2, 2)"
     ],
     "language": "python",
     "metadata": {},
     "outputs": [],
     "prompt_number": 74
    },
    {
     "cell_type": "code",
     "collapsed": false,
     "input": [
      "x.reshape(2, 5, 1, 1).shape"
     ],
     "language": "python",
     "metadata": {},
     "outputs": [
      {
       "metadata": {},
       "output_type": "pyout",
       "prompt_number": 75,
       "text": [
        "(2, 5, 1, 1)"
       ]
      }
     ],
     "prompt_number": 75
    },
    {
     "cell_type": "code",
     "collapsed": false,
     "input": [
      "x[:, :, np.newaxis, np.newaxis].shape"
     ],
     "language": "python",
     "metadata": {},
     "outputs": [
      {
       "metadata": {},
       "output_type": "pyout",
       "prompt_number": 76,
       "text": [
        "(2, 5, 1, 1)"
       ]
      }
     ],
     "prompt_number": 76
    },
    {
     "cell_type": "code",
     "collapsed": false,
     "input": [
      "y[:, np.newaxis, :, :].shape"
     ],
     "language": "python",
     "metadata": {},
     "outputs": [
      {
       "metadata": {},
       "output_type": "pyout",
       "prompt_number": 77,
       "text": [
        "(2, 1, 2, 2)"
       ]
      }
     ],
     "prompt_number": 77
    },
    {
     "cell_type": "code",
     "collapsed": false,
     "input": [
      "res = x[:, :, np.newaxis, np.newaxis] * y[:, np.newaxis, :, :]",
      "res.shape"
     ],
     "language": "python",
     "metadata": {},
     "outputs": [
      {
       "metadata": {},
       "output_type": "pyout",
       "prompt_number": 78,
       "text": [
        "(2, 5, 2, 2)"
       ]
      }
     ],
     "prompt_number": 78
    },
    {
     "cell_type": "markdown",
     "metadata": {},
     "source": [
      "This is particularly useful when performing outer product type operations"
     ]
    },
    {
     "cell_type": "code",
     "collapsed": false,
     "input": [
      "x = np.arange(5)",
      "y = np.arange(5, 10)",
      "x[:, np.newaxis] * y[np.newaxis, :]"
     ],
     "language": "python",
     "metadata": {},
     "outputs": [
      {
       "metadata": {},
       "output_type": "pyout",
       "prompt_number": 79,
       "text": [
        "array([[ 0,  0,  0,  0,  0],",
        "       [ 5,  6,  7,  8,  9],",
        "       [10, 12, 14, 16, 18],",
        "       [15, 18, 21, 24, 27],",
        "       [20, 24, 28, 32, 36]])"
       ]
      }
     ],
     "prompt_number": 79
    },
    {
     "cell_type": "markdown",
     "metadata": {},
     "source": [
      "Note that `newaxis` works because an array with extra length one dimensions has the same overall size (and so can be a view to the same underlying data) just with a different shape. In other words, a $3 \\times 1 \\times 3$ and a $3 \\times 3$ array contain the same data, differently shaped:"
     ]
    },
    {
     "cell_type": "code",
     "collapsed": false,
     "input": [
      "three_by_three = np.arange(9).reshape(3, 3)",
      "three_by_three"
     ],
     "language": "python",
     "metadata": {},
     "outputs": [
      {
       "metadata": {},
       "output_type": "pyout",
       "prompt_number": 80,
       "text": [
        "array([[0, 1, 2],",
        "       [3, 4, 5],",
        "       [6, 7, 8]])"
       ]
      }
     ],
     "prompt_number": 80
    },
    {
     "cell_type": "code",
     "collapsed": false,
     "input": [
      "three_by_three[:, np.newaxis, :]"
     ],
     "language": "python",
     "metadata": {},
     "outputs": [
      {
       "metadata": {},
       "output_type": "pyout",
       "prompt_number": 81,
       "text": [
        "array([[[0, 1, 2]],",
        "",
        "       [[3, 4, 5]],",
        "",
        "       [[6, 7, 8]]])"
       ]
      }
     ],
     "prompt_number": 81
    },
    {
     "cell_type": "markdown",
     "metadata": {},
     "source": [
      "## Matrix multiplications",
      "",
      "NumPy interprets the standard `*` operator as elementwise multiplication"
     ]
    },
    {
     "cell_type": "code",
     "collapsed": false,
     "input": [
      "a = np.arange(9).reshape(3, 3)",
      "b = np.arange(3, 12).reshape(3, 3)",
      "a * b"
     ],
     "language": "python",
     "metadata": {},
     "outputs": [
      {
       "metadata": {},
       "output_type": "pyout",
       "prompt_number": 82,
       "text": [
        "array([[ 0,  4, 10],",
        "       [18, 28, 40],",
        "       [54, 70, 88]])"
       ]
      }
     ],
     "prompt_number": 82
    },
    {
     "cell_type": "markdown",
     "metadata": {},
     "source": [
      "To perform matrix multiplication we use the `@` operator instead"
     ]
    },
    {
     "cell_type": "code",
     "collapsed": false,
     "input": [
      "a @ b"
     ],
     "language": "python",
     "metadata": {},
     "outputs": [
      {
       "metadata": {},
       "output_type": "pyout",
       "prompt_number": 83,
       "text": [
        "array([[ 24,  27,  30],",
        "       [ 78,  90, 102],",
        "       [132, 153, 174]])"
       ]
      }
     ],
     "prompt_number": 83
    },
    {
     "cell_type": "markdown",
     "metadata": {},
     "source": [
      "As well as matrix-matrix products (that is products of pairs of two dimensional arrays) this can also be used for matrix-vector products (products of a two dimensional array and one dimensional array) and vector-vector products (products of pairs of one dimensional arrays)"
     ]
    },
    {
     "cell_type": "code",
     "collapsed": false,
     "input": [
      "v = np.arange(3)",
      "a @ v"
     ],
     "language": "python",
     "metadata": {},
     "outputs": [
      {
       "metadata": {},
       "output_type": "pyout",
       "prompt_number": 84,
       "text": [
        "array([ 5, 14, 23])"
       ]
      }
     ],
     "prompt_number": 84
    },
    {
     "cell_type": "code",
     "collapsed": false,
     "input": [
      "v @ v"
     ],
     "language": "python",
     "metadata": {},
     "outputs": [
      {
       "metadata": {},
       "output_type": "pyout",
       "prompt_number": 85,
       "text": [
        "5"
       ]
      }
     ],
     "prompt_number": 85
    },
    {
     "cell_type": "markdown",
     "metadata": {},
     "source": [
      "## Structured arrays",
      "",
      "So far we have encountered arrays with 'simple' data types corresponding to a single type. NumPy also offers arrays with [*structured data types*](https://numpy.org/devdocs/user/basics.rec.html#structured-datatypes), sometimes termed *record arrays*, for which each array element is composed of several fields, with each field having the same data type across all array elements. These are a special array structure designed to match the *comma separated variable* (CSV) *record and field* model. We saw this when we looked at CSV files:"
     ]
    },
    {
     "cell_type": "code",
     "collapsed": false,
     "input": [
      "x = np.arange(50).reshape((10, 5))"
     ],
     "language": "python",
     "metadata": {},
     "outputs": [],
     "prompt_number": 86
    },
    {
     "cell_type": "code",
     "collapsed": false,
     "input": [
      "record_x = x.view(",
      "    dtype={",
      "        'names': [\"col1\", \"col2\", \"another\", \"more\", \"last\"], ",
      "        'formats': [int] * 5 ",
      "    } ",
      ")"
     ],
     "language": "python",
     "metadata": {},
     "outputs": [],
     "prompt_number": 87
    },
    {
     "cell_type": "code",
     "collapsed": false,
     "input": [
      "record_x"
     ],
     "language": "python",
     "metadata": {},
     "outputs": [
      {
       "metadata": {},
       "output_type": "pyout",
       "prompt_number": 88,
       "text": [
        "array([[( 0,  1,  2,  3,  4)],",
        "       [( 5,  6,  7,  8,  9)],",
        "       [(10, 11, 12, 13, 14)],",
        "       [(15, 16, 17, 18, 19)],",
        "       [(20, 21, 22, 23, 24)],",
        "       [(25, 26, 27, 28, 29)],",
        "       [(30, 31, 32, 33, 34)],",
        "       [(35, 36, 37, 38, 39)],",
        "       [(40, 41, 42, 43, 44)],",
        "       [(45, 46, 47, 48, 49)]],",
        "      dtype=[('col1', '<i8'), ('col2', '<i8'), ('another', '<i8'), ('more', '<i8'), ('last', '<i8')])"
       ]
      }
     ],
     "prompt_number": 88
    },
    {
     "cell_type": "markdown",
     "metadata": {},
     "source": [
      "Record arrays can be addressed with field names like they were a dictionary:"
     ]
    },
    {
     "cell_type": "code",
     "collapsed": false,
     "input": [
      "record_x['col1']"
     ],
     "language": "python",
     "metadata": {},
     "outputs": [
      {
       "metadata": {},
       "output_type": "pyout",
       "prompt_number": 89,
       "text": [
        "array([[ 0],",
        "       [ 5],",
        "       [10],",
        "       [15],",
        "       [20],",
        "       [25],",
        "       [30],",
        "       [35],",
        "       [40],",
        "       [45]])"
       ]
      }
     ],
     "prompt_number": 89
    },
    {
     "cell_type": "markdown",
     "metadata": {},
     "source": [
      "## Comparison operators and boolean indexing",
      "",
      "Numpy defines comparison operators like `==` and `<` to apply to arrays elementwise and also to broadcast similar to arithmetic operations"
     ]
    },
    {
     "cell_type": "code",
     "collapsed": false,
     "input": [
      "x = np.arange(-1, 2)[:, np.newaxis] * np.arange(-2, 2)[np.newaxis, :]",
      "x"
     ],
     "language": "python",
     "metadata": {},
     "outputs": [
      {
       "metadata": {},
       "output_type": "pyout",
       "prompt_number": 90,
       "text": [
        "array([[ 2,  1,  0, -1],",
        "       [ 0,  0,  0,  0],",
        "       [-2, -1,  0,  1]])"
       ]
      }
     ],
     "prompt_number": 90
    },
    {
     "cell_type": "code",
     "collapsed": false,
     "input": [
      "is_zero = (x == 0)",
      "is_zero"
     ],
     "language": "python",
     "metadata": {},
     "outputs": [
      {
       "metadata": {},
       "output_type": "pyout",
       "prompt_number": 91,
       "text": [
        "array([[False, False,  True, False],",
        "       [ True,  True,  True,  True],",
        "       [False, False,  True, False]])"
       ]
      }
     ],
     "prompt_number": 91
    },
    {
     "cell_type": "markdown",
     "metadata": {},
     "source": [
      "Boolean arrays can also be used to filter the elements of an array matching some condition. For example"
     ]
    },
    {
     "cell_type": "code",
     "collapsed": false,
     "input": [
      "x[is_zero]"
     ],
     "language": "python",
     "metadata": {},
     "outputs": [
      {
       "metadata": {},
       "output_type": "pyout",
       "prompt_number": 92,
       "text": [
        "array([0, 0, 0, 0, 0, 0])"
       ]
      }
     ],
     "prompt_number": 92
    },
    {
     "cell_type": "markdown",
     "metadata": {},
     "source": [
      "We can use the unary negation operator `~` to negate conditions"
     ]
    },
    {
     "cell_type": "code",
     "collapsed": false,
     "input": [
      "x[~is_zero]"
     ],
     "language": "python",
     "metadata": {},
     "outputs": [
      {
       "metadata": {},
       "output_type": "pyout",
       "prompt_number": 93,
       "text": [
        "array([ 2,  1, -1, -2, -1,  1])"
       ]
      }
     ],
     "prompt_number": 93
    },
    {
     "cell_type": "markdown",
     "metadata": {},
     "source": [
      "Although when used to get items from an array, boolean indexing results in a new one dimensional array, if the boolean indexing is instead part of an assignment statement the *selected elements of the array are changed in place*"
     ]
    },
    {
     "cell_type": "code",
     "collapsed": false,
     "input": [
      "x[is_zero] = 5"
     ],
     "language": "python",
     "metadata": {},
     "outputs": [],
     "prompt_number": 94
    },
    {
     "cell_type": "code",
     "collapsed": false,
     "input": [
      "x"
     ],
     "language": "python",
     "metadata": {},
     "outputs": [
      {
       "metadata": {},
       "output_type": "pyout",
       "prompt_number": 95,
       "text": [
        "array([[ 2,  1,  5, -1],",
        "       [ 5,  5,  5,  5],",
        "       [-2, -1,  5,  1]])"
       ]
      }
     ],
     "prompt_number": 95
    },
    {
     "cell_type": "markdown",
     "metadata": {},
     "source": [
      "For more details about boolean array indexing [see the official documentation](https://numpy.org/devdocs/user/basics.indexing.html#boolean-array-indexing).",
      "",
      "## Copies and views",
      "",
      "Care needs to be taken when assigning to slices of a NumPy array"
     ]
    },
    {
     "cell_type": "code",
     "collapsed": false,
     "input": [
      "x = np.arange(6).reshape((3, 2))",
      "x"
     ],
     "language": "python",
     "metadata": {},
     "outputs": [
      {
       "metadata": {},
       "output_type": "pyout",
       "prompt_number": 96,
       "text": [
        "array([[0, 1],",
        "       [2, 3],",
        "       [4, 5]])"
       ]
      }
     ],
     "prompt_number": 96
    },
    {
     "cell_type": "code",
     "collapsed": false,
     "input": [
      "y = x[0, :]",
      "y[1] = -99",
      "x"
     ],
     "language": "python",
     "metadata": {},
     "outputs": [
      {
       "metadata": {},
       "output_type": "pyout",
       "prompt_number": 97,
       "text": [
        "array([[  0, -99],",
        "       [  2,   3],",
        "       [  4,   5]])"
       ]
      }
     ],
     "prompt_number": 97
    },
    {
     "cell_type": "markdown",
     "metadata": {},
     "source": [
      "In general NumPy will try to return *views* to the same underlying array data buffer when performing indexing and slicing operations, where possible. These views share the same underlying data in memory with the original array, and so make such indexing operations cheap in both memory usage and computational cost (by avoiding unnececssary copies). As we saw above however, if we assign to a slice we will therefore also update the original array. We can use the `np.copy` function or corresponding `ndarray.copy` method to force creation of an array referencing a new copy of the underlying data"
     ]
    },
    {
     "cell_type": "code",
     "collapsed": false,
     "input": [
      "x = np.arange(6).reshape((3, 2))",
      "y = x[0, :].copy()",
      "y[1] = -99",
      "x"
     ],
     "language": "python",
     "metadata": {},
     "outputs": [
      {
       "metadata": {},
       "output_type": "pyout",
       "prompt_number": 98,
       "text": [
        "array([[0, 1],",
        "       [2, 3],",
        "       [4, 5]])"
       ]
      }
     ],
     "prompt_number": 98
    },
    {
     "cell_type": "markdown",
     "metadata": {},
     "source": [
      "More details are given [in the official documentation](https://numpy.org/devdocs/user/basics.copies.html).",
      "",
      "## Further reading",
      "",
      "As well as the links to external resource throughout these notes, some suggestions for further reading for those who wish to learn more about NumPy are ",
      "",
      "  * The [NumPy quickstart guide](https://numpy.org/devdocs/user/quickstart.html) in the official documentation.",
      "  * If you have previous experience with MATLAB, [this guide to NumPy for MATLAB users](https://numpy.org/devdocs/user/numpy-for-matlab-users.html) in the official documentation may also be helpful. ",
      "  * [This *Software Carpenty* lesson](https://swcarpentry.github.io/python-novice-inflammation/02-numpy/index.html) also introduces the basics of using NumPy in an applied example.",
      "  * The [NumPy section of this Python tutorial for the Stanford CS231n course](https://cs231n.github.io/python-numpy-tutorial/#numpy) covers a lot of the same topics as we have here.",
      "",
      "We will also see some practical usage of NumPy arrays in one of the subsequent notebooks on simulating flocking dynamics."
     ]
    }
   ],
   "metadata": {}
  }
 ]
}
