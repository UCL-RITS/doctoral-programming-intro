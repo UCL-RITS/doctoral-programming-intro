{
 "cells": [
  {
   "cell_type": "markdown",
   "metadata": {},
   "source": [
    "# Extended exercise: the biggest earthquake in the UK this century\n",
    "\n",
    "## USGS earthquake catalog\n",
    "\n",
    "[GeoJSON](https://en.wikipedia.org/wiki/GeoJSON) is a JSON-based file format for sharing geographic data. One example dataset available in the GeoJSON format is the [<abbr title=\"United States Geological Survey\">USGS</abbr> earthquake catalog](https://www.usgs.gov/natural-hazards/earthquake-hazards/earthquakes). A [web service *application programming interface* (API)](https://earthquake.usgs.gov/fdsnws/event/1/) is provided for programatically accessing events in the earthquake catalog. Specifically the `query` method allows querying the catalog for events with the [query parameters](https://earthquake.usgs.gov/fdsnws/event/1/#parameters) passed as `key=value` pairs.\n",
    "\n",
    "We can use the [`requests` Python library](https://docs.python-requests.org/en/latest/) to simplify constructing the appropriate query string to add to the <abbr title=\"Uniform Resource Locator\">URL</abbr> and to deal with sending the <abbr title=\"Hypertext Transfer Protocol\">HTTP</abbr> request."
   ]
  },
  {
   "cell_type": "code",
   "execution_count": null,
   "metadata": {
    "jupyter": {
     "outputs_hidden": false
    }
   },
   "outputs": [],
   "source": [
    "import requests"
   ]
  },
  {
   "cell_type": "markdown",
   "metadata": {},
   "source": [
    "We first define a variable <abbr title=\"Uniform Resource Locator\">URL</abbr> for the earthquake catalog web service <abbr title=\"application programming interface\">API</abbr>."
   ]
  },
  {
   "cell_type": "code",
   "execution_count": null,
   "metadata": {
    "jupyter": {
     "outputs_hidden": false
    }
   },
   "outputs": [],
   "source": [
    "earthquake_catalog_api_url = \"http://earthquake.usgs.gov/fdsnws/event/1/query\""
   ]
  },
  {
   "cell_type": "markdown",
   "metadata": {},
   "source": [
    "We now need to define the parameters of our query. We want to get the data in GeoJSON format for all events in the earthquake catalog with date on or after 1st January 2000 and with location within [a bounding box covering the UK](http://bboxfinder.com/#49.877000,-8.182000,60.830000,1.767000). We will filter the events to only request those with magnitude greater or equal to 1 to avoid downloading responses for more frequent small magnitude events. Finally we want the results to be returned in order of ascending time."
   ]
  },
  {
   "cell_type": "code",
   "execution_count": null,
   "metadata": {
    "jupyter": {
     "outputs_hidden": false
    }
   },
   "outputs": [],
   "source": [
    "query_parameters = {\n",
    "    \"format\": \"geojson\",\n",
    "    \"starttime\": \"2000-01-01\",\n",
    "    \"maxlatitude\": \"60.830\",\n",
    "    \"minlatitude\": \"49.877\",\n",
    "    \"maxlongitude\": \"1.767\",\n",
    "    \"minlongitude\": \"-8.182\",\n",
    "    \"minmagnitude\": \"1\",\n",
    "    \"orderby\": \"time-asc\"\n",
    "}"
   ]
  },
  {
   "cell_type": "markdown",
   "metadata": {},
   "source": [
    "We now can execute the API query using the [`requests.get` function](https://docs.python-requests.org/en/latest/api/#requests.get). This takes as arguments the <abbr title=\"Uniform Resource Locator\">URL</abbr> to make the request from and, optionally, a dictionary argument `params` containing the parameters to send in the query string for the request. A [`requests.Response` object](https://docs.python-requests.org/en/latest/api/#requests.Response) is returned, which represents the server's response to the HTTP request made."
   ]
  },
  {
   "cell_type": "code",
   "execution_count": null,
   "metadata": {
    "jupyter": {
     "outputs_hidden": false
    }
   },
   "outputs": [],
   "source": [
    "quakes_response = requests.get(earthquake_catalog_api_url, params=query_parameters)"
   ]
  },
  {
   "cell_type": "markdown",
   "metadata": {},
   "source": [
    "The response object has various attributes and methods. A useful attribute to check is the `ok` attribute which will be `False` if the status code for the response to the request corresponds to a client or server error and `True` otherwise."
   ]
  },
  {
   "cell_type": "code",
   "execution_count": null,
   "metadata": {
    "tags": []
   },
   "outputs": [],
   "source": [
    "quakes_response.ok"
   ]
  },
  {
   "cell_type": "markdown",
   "metadata": {},
   "source": [
    "We can also check specifically that the status code corresponds to [the expected `200 OK`](https://en.wikipedia.org/wiki/List_of_HTTP_status_codes#2xx_success) using the `status_code` attribute"
   ]
  },
  {
   "cell_type": "code",
   "execution_count": null,
   "metadata": {},
   "outputs": [],
   "source": [
    "quakes_response.status_code == 200"
   ]
  },
  {
   "cell_type": "markdown",
   "metadata": {},
   "source": [
    "The actual content of the response can be accessed in various formats. The `content` attribute gives the content of the response as [bytes](https://docs.python.org/3/library/stdtypes.html#bytes). As here we expect the response content to be Unicode-encoded text, the `text` attribute is more relevant as it gives the response content as a Python string. We can display the first 100 characters of the response content as follows"
   ]
  },
  {
   "cell_type": "code",
   "execution_count": null,
   "metadata": {},
   "outputs": [],
   "source": [
    "print(quakes_response.text[:100])"
   ]
  },
  {
   "cell_type": "markdown",
   "metadata": {},
   "source": [
    "## Task\n",
    "\n",
    "The task for this exercie is to determine the location of the largest magnitude earthquake in the UK this century, using the data from the <abbr title=\"United States Geological Survey\">USGS</abbr> earthquake catalog.\n",
    "\n",
    "You will need to:\n",
    "\n",
    "  * Query the <abbr title=\"United States Geological Survey\">USGS</abbr> earthquake catalog for the relevant event data (see above).\n",
    "  * Parse the data as <abbr title=\"JavaScript Object Notation\">JSON</abbr>.\n",
    "  * Understand how the data is structured into dictionaries and lists\n",
    "     * Where is the magnitude?\n",
    "     * Where is the place description or coordinates?\n",
    "  * Program a search through all the quakes to find the biggest quake.\n",
    "  * Find the place of the biggest quake.\n",
    "  * Form a <abbr title=\"Uniform Resource Locator\">URL</abbr> for a map tile centered at that latitude and longitude (look back at the introductory example).\n",
    "  * Display that map tile image."
   ]
  }
 ],
 "metadata": {
  "jekyll": {
   "display_name": "Earthquakes exercise"
  },
  "kernelspec": {
   "display_name": "Python 3 (ipykernel)",
   "language": "python",
   "name": "python3"
  },
  "language_info": {
   "codemirror_mode": {
    "name": "ipython",
    "version": 3
   },
   "file_extension": ".py",
   "mimetype": "text/x-python",
   "name": "python",
   "nbconvert_exporter": "python",
   "pygments_lexer": "ipython3",
   "version": "3.8.11"
  }
 },
 "nbformat": 4,
 "nbformat_minor": 4
}
