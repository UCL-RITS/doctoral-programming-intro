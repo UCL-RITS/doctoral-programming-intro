{
 "metadata": {
  "jekyll": {
   "display_name": "Internet"
  },
  "kernelspec": {
   "display_name": "Python 3",
   "language": "python",
   "name": "python3"
  },
  "language_info": {
   "codemirror_mode": {
    "name": "ipython",
    "version": 3
   },
   "file_extension": ".py",
   "mimetype": "text/x-python",
   "name": "python",
   "nbconvert_exporter": "python",
   "pygments_lexer": "ipython3",
   "version": "3.8.14"
  },
  "name": ""
 },
 "nbformat": 2,
 "nbformat_minor": 0,
 "orig_nbformat": 4,
 "orig_nbformat_minor": 5,
 "worksheets": [
  {
   "cells": [
    {
     "cell_type": "markdown",
     "metadata": {},
     "source": [
      "# Getting data from the internet"
     ]
    },
    {
     "cell_type": "markdown",
     "metadata": {},
     "source": [
      "We've seen about obtaining data from our local file system."
     ]
    },
    {
     "cell_type": "markdown",
     "metadata": {},
     "source": [
      "The other common place today that we might want to obtain data is from the internet."
     ]
    },
    {
     "cell_type": "markdown",
     "metadata": {},
     "source": [
      "It's very common today to treat the web as a source and store of information; we need to be able to programmatically",
      "download data, and place it in Python objects."
     ]
    },
    {
     "cell_type": "markdown",
     "metadata": {},
     "source": [
      "We may also want to be able to programmatically *upload* data, for example, to automatically fill in forms."
     ]
    },
    {
     "cell_type": "markdown",
     "metadata": {},
     "source": [
      "This can be really powerful if we want to, for example, do automated meta-analysis across a selection of research papers."
     ]
    },
    {
     "cell_type": "markdown",
     "metadata": {},
     "source": [
      "## Uniform resource locators"
     ]
    },
    {
     "cell_type": "markdown",
     "metadata": {},
     "source": [
      "All internet resources are defined by a [_uniform resource locator_ (URL)](https://en.wikipedia.org/wiki/URL) which are a particular type of [_uniform resource identifier_ (URI)](https://en.wikipedia.org/wiki/Uniform_Resource_Identifier). For example"
     ]
    },
    {
     "cell_type": "code",
     "collapsed": false,
     "input": [
      "\"https://mt0.google.com:443/vt?x=658&y=340&z=10&lyrs=s\""
     ],
     "language": "python",
     "metadata": {},
     "outputs": [
      {
       "metadata": {},
       "output_type": "pyout",
       "prompt_number": 1,
       "text": [
        "'https://mt0.google.com:443/vt?x=658&y=340&z=10&lyrs=s'"
       ]
      }
     ],
     "prompt_number": 1
    },
    {
     "cell_type": "markdown",
     "metadata": {},
     "source": [
      "A URL consists of:",
      "",
      "* A *scheme* (`http` [_hypertext transfer protocol_](https://en.wikipedia.org/wiki/Hypertext_Transfer_Protocol), `https` [_hypertext transfer protocol secure_ ](https://en.wikipedia.org/wiki/HTTPS), `ssh` [_secure shell_](https://en.wikipedia.org/wiki/Secure_Shell), ...)",
      "* A *host* (`mt0.google.com`, the name of the remote computer you want to talk to)",
      "* A *port* (optional, most protocols have a typical port associated with them, e.g. 80 for HTTP, 443 for HTTPS)",
      "* A *path* (analogous to a file path on the machine, here it is just `vt`)",
      "* A *query* part after a ?, (optional, usually ampersand `&` separated *parameters* e.g. `x=658` or `z=10`)"
     ]
    },
    {
     "cell_type": "markdown",
     "metadata": {},
     "source": [
      "**Supplementary materials**: These can actually be different for different protocols, the above is a simplification, you can see more, for example, at",
      "    [the Wikipedia article on URIs](https://en.wikipedia.org/wiki/URI_scheme)."
     ]
    },
    {
     "cell_type": "markdown",
     "metadata": {},
     "source": [
      "URLs are not allowed to include all characters; we need to, for example, [_escape_](https://en.wikipedia.org/wiki/Escape_character) a space that appears inside the URL, replacing it with `%20`, so e.g. a request of `http://some example.com/` would need to be `http://some%20example.com/`."
     ]
    },
    {
     "cell_type": "markdown",
     "metadata": {},
     "source": [
      "**Supplementary materials**: The code used to replace each character is the [ASCII](http://www.asciitable.com) code for it."
     ]
    },
    {
     "cell_type": "markdown",
     "metadata": {},
     "source": [
      "**Supplementary materials**: The escaping rules are quite subtle. See [the Wikipedia article on percent-encoding](https://en.wikipedia.org/wiki/Percent-encoding)."
     ]
    },
    {
     "cell_type": "markdown",
     "metadata": {},
     "source": [
      "## Requests"
     ]
    },
    {
     "cell_type": "markdown",
     "metadata": {},
     "source": [
      "The Python [Requests](http://docs.python-requests.org/en/latest/) library can help us manipulate URLs and requesting the content associated with them. It is easier to use than the `urllib` library that is part of the standard library, and is included with Anaconda and Canopy. It sorts out escaping, parameter encoding, and so on for us."
     ]
    },
    {
     "cell_type": "code",
     "collapsed": false,
     "input": [
      "import requests"
     ],
     "language": "python",
     "metadata": {},
     "outputs": [],
     "prompt_number": 2
    },
    {
     "cell_type": "markdown",
     "metadata": {},
     "source": [
      "To request the above URL, for example, we write:"
     ]
    },
    {
     "cell_type": "code",
     "collapsed": false,
     "input": [
      "response = requests.get(",
      "    url=\"https://mt0.google.com:443/vt\", ",
      "    params={'x': 658, 'y': 340, 'lyrs': 's', 'z': 10}",
      ")"
     ],
     "language": "python",
     "metadata": {},
     "outputs": [],
     "prompt_number": 3
    },
    {
     "cell_type": "markdown",
     "metadata": {},
     "source": [
      "The returned object is a instance of the `requests.Response` class"
     ]
    },
    {
     "cell_type": "code",
     "collapsed": false,
     "input": [
      "response"
     ],
     "language": "python",
     "metadata": {},
     "outputs": [
      {
       "metadata": {},
       "output_type": "pyout",
       "prompt_number": 4,
       "text": [
        "<Response [200]>"
       ]
      }
     ],
     "prompt_number": 4
    },
    {
     "cell_type": "code",
     "collapsed": false,
     "input": [
      "isinstance(response, requests.Response)"
     ],
     "language": "python",
     "metadata": {},
     "outputs": [
      {
       "metadata": {},
       "output_type": "pyout",
       "prompt_number": 5,
       "text": [
        "True"
       ]
      }
     ],
     "prompt_number": 5
    },
    {
     "cell_type": "markdown",
     "metadata": {},
     "source": [
      "The `Response` class defines various useful attributes associated with the responses, for example we can check the [status code](https://en.wikipedia.org/wiki/List_of_HTTP_status_codes) for our request with a value of 200 indicating a successful request"
     ]
    },
    {
     "cell_type": "code",
     "collapsed": false,
     "input": [
      "response.status_code"
     ],
     "language": "python",
     "metadata": {},
     "outputs": [
      {
       "metadata": {},
       "output_type": "pyout",
       "prompt_number": 6,
       "text": [
        "200"
       ]
      }
     ],
     "prompt_number": 6
    },
    {
     "cell_type": "markdown",
     "metadata": {},
     "source": [
      "We can also more directly check if the response was successful or not with the boolean `Response.ok` attribute"
     ]
    },
    {
     "cell_type": "code",
     "collapsed": false,
     "input": [
      "response.ok"
     ],
     "language": "python",
     "metadata": {},
     "outputs": [
      {
       "metadata": {},
       "output_type": "pyout",
       "prompt_number": 7,
       "text": [
        "True"
       ]
      }
     ],
     "prompt_number": 7
    },
    {
     "cell_type": "markdown",
     "metadata": {},
     "source": [
      "We can get the URL that was requested using the `Response.url` attribute"
     ]
    },
    {
     "cell_type": "code",
     "collapsed": false,
     "input": [
      "response.url"
     ],
     "language": "python",
     "metadata": {},
     "outputs": [
      {
       "metadata": {},
       "output_type": "pyout",
       "prompt_number": 8,
       "text": [
        "'https://mt0.google.com:443/vt?x=658&y=340&lyrs=s&z=10'"
       ]
      }
     ],
     "prompt_number": 8
    },
    {
     "cell_type": "markdown",
     "metadata": {},
     "source": [
      "When we do a request, the associated response content, accessible at the `Response.content` attribute, is returned as bytes. For the JPEG image in the above, this isn't very readable:"
     ]
    },
    {
     "cell_type": "code",
     "collapsed": false,
     "input": [
      "type(response.content)"
     ],
     "language": "python",
     "metadata": {},
     "outputs": [
      {
       "metadata": {},
       "output_type": "pyout",
       "prompt_number": 9,
       "text": [
        "bytes"
       ]
      }
     ],
     "prompt_number": 9
    },
    {
     "cell_type": "code",
     "collapsed": false,
     "input": [
      "response.content[:10]"
     ],
     "language": "python",
     "metadata": {},
     "outputs": [
      {
       "metadata": {},
       "output_type": "pyout",
       "prompt_number": 10,
       "text": [
        "b'\\xff\\xd8\\xff\\xe0\\x00\\x10JFIF'"
       ]
      }
     ],
     "prompt_number": 10
    },
    {
     "cell_type": "markdown",
     "metadata": {},
     "source": [
      "We can also get the content as a string using the `Response.content` attribute, though this is even less readable here as some of the returned bytes do not have corresponding character encodings"
     ]
    },
    {
     "cell_type": "code",
     "collapsed": false,
     "input": [
      "type(response.text)"
     ],
     "language": "python",
     "metadata": {},
     "outputs": [
      {
       "metadata": {},
       "output_type": "pyout",
       "prompt_number": 11,
       "text": [
        "str"
       ]
      }
     ],
     "prompt_number": 11
    },
    {
     "cell_type": "code",
     "collapsed": false,
     "input": [
      "response.text[:10]"
     ],
     "language": "python",
     "metadata": {},
     "outputs": [
      {
       "metadata": {},
       "output_type": "pyout",
       "prompt_number": 12,
       "text": [
        "'\ufffd\ufffd\ufffd\ufffd\\x00\\x10JFIF'"
       ]
      }
     ],
     "prompt_number": 12
    },
    {
     "cell_type": "markdown",
     "metadata": {},
     "source": [
      "To get a more useful representation of the data, we will therefore need to process the content we get using a Python function which understands the byte-encoding of the corresponding file format."
     ]
    },
    {
     "cell_type": "markdown",
     "metadata": {},
     "source": [
      "Again, it is important to separate the *transport* model, (e.g. a file system, or a HTTP request for the web), from the data model of the data that is returned."
     ]
    },
    {
     "cell_type": "markdown",
     "metadata": {},
     "source": [
      "## Example: sunspots"
     ]
    },
    {
     "cell_type": "markdown",
     "metadata": {},
     "source": [
      "Let's try to get something scientific: the sunspot cycle data from the [Sunspot Index and Long-term Solar Observations website](http://sidc.be/silso/home)"
     ]
    },
    {
     "cell_type": "code",
     "collapsed": false,
     "input": [
      "spots = requests.get('http://www.sidc.be/silso/INFO/snmtotcsv.php').text"
     ],
     "language": "python",
     "metadata": {},
     "outputs": [],
     "prompt_number": 13
    },
    {
     "cell_type": "code",
     "collapsed": false,
     "input": [
      "spots[-100:]"
     ],
     "language": "python",
     "metadata": {},
     "outputs": [
      {
       "metadata": {},
       "output_type": "pyout",
       "prompt_number": 14,
       "text": [
        "'38;  91.4; 12.2; 1304;0\\n2022;08;2022.623;  75.4; 10.5; 1289;0\\n2022;09;2022.705;  96.3; 16.2; 1130;0\\n'"
       ]
      }
     ],
     "prompt_number": 14
    },
    {
     "cell_type": "markdown",
     "metadata": {},
     "source": [
      "This looks like semicolon-separated data, with different records on different lines. Line separators come out as `\\n` which is the escape-sequence corresponding a newline character in Python."
     ]
    },
    {
     "cell_type": "markdown",
     "metadata": {},
     "source": [
      "There are many many scientific datasets which can now be downloaded like this - integrating the download into your data",
      "pipeline can help to keep your data flows organised."
     ]
    },
    {
     "cell_type": "markdown",
     "metadata": {},
     "source": [
      "## Writing our own parser"
     ]
    },
    {
     "cell_type": "markdown",
     "metadata": {},
     "source": [
      "We'll need a Python library to handle semicolon-separated data like the sunspot data."
     ]
    },
    {
     "cell_type": "markdown",
     "metadata": {},
     "source": [
      "You might be thinking: \"But I can do that myself!\":"
     ]
    },
    {
     "cell_type": "code",
     "collapsed": false,
     "input": [
      "lines = spots.split(\"\\n\")",
      "lines[0:5]"
     ],
     "language": "python",
     "metadata": {},
     "outputs": [
      {
       "metadata": {},
       "output_type": "pyout",
       "prompt_number": 15,
       "text": [
        "['1749;01;1749.042;  96.7; -1.0;   -1;1',",
        " '1749;02;1749.123; 104.3; -1.0;   -1;1',",
        " '1749;03;1749.204; 116.7; -1.0;   -1;1',",
        " '1749;04;1749.288;  92.8; -1.0;   -1;1',",
        " '1749;05;1749.371; 141.7; -1.0;   -1;1']"
       ]
      }
     ],
     "prompt_number": 15
    },
    {
     "cell_type": "code",
     "collapsed": false,
     "input": [
      "years = [line.split(\";\")[0] for line in lines]"
     ],
     "language": "python",
     "metadata": {},
     "outputs": [],
     "prompt_number": 16
    },
    {
     "cell_type": "code",
     "collapsed": false,
     "input": [
      "years[0:15]"
     ],
     "language": "python",
     "metadata": {},
     "outputs": [
      {
       "metadata": {},
       "output_type": "pyout",
       "prompt_number": 17,
       "text": [
        "['1749',",
        " '1749',",
        " '1749',",
        " '1749',",
        " '1749',",
        " '1749',",
        " '1749',",
        " '1749',",
        " '1749',",
        " '1749',",
        " '1749',",
        " '1749',",
        " '1750',",
        " '1750',",
        " '1750']"
       ]
      }
     ],
     "prompt_number": 17
    },
    {
     "cell_type": "markdown",
     "metadata": {},
     "source": [
      "But **don't**: what if, for example, one of the records contains a separator inside it; most computers will put the content in quotes,",
      "so that, for example,",
      "",
      "    \"Something; something\"; something; something",
      "    ",
      "has three fields, the first of which is",
      "",
      "    Something; something",
      "   "
     ]
    },
    {
     "cell_type": "markdown",
     "metadata": {},
     "source": [
      "Our naive code above would however not correctly parse this input:"
     ]
    },
    {
     "cell_type": "code",
     "collapsed": false,
     "input": [
      "'\"Something; something\"; something; something'.split(';')"
     ],
     "language": "python",
     "metadata": {},
     "outputs": [
      {
       "metadata": {},
       "output_type": "pyout",
       "prompt_number": 18,
       "text": [
        "['\"Something', ' something\"', ' something', ' something']"
       ]
      }
     ],
     "prompt_number": 18
    },
    {
     "cell_type": "markdown",
     "metadata": {},
     "source": [
      "You'll never manage to get all that right; so you'll be better off using a library to do it."
     ]
    },
    {
     "cell_type": "markdown",
     "metadata": {},
     "source": [
      "## Writing data to the internet"
     ]
    },
    {
     "cell_type": "markdown",
     "metadata": {},
     "source": [
      "Note that we're using `requests.get`. `get` is used to receive data from the web.",
      "You can also use `post` to fill in a web-form programmatically."
     ]
    },
    {
     "cell_type": "markdown",
     "metadata": {},
     "source": [
      "**Supplementary material**: Learn about using `post` with [Requests](http://docs.python-requests.org/en/latest/user/quickstart/)."
     ]
    },
    {
     "cell_type": "markdown",
     "metadata": {},
     "source": [
      "**Supplementary material**: Learn about the different kinds of [HTTP request](https://en.wikipedia.org/wiki/Hypertext_Transfer_Protocol#Request_methods): [Get, Post, Put, Delete](https://en.wikipedia.org/wiki/Create,_read,_update_and_delete)..."
     ]
    },
    {
     "cell_type": "markdown",
     "metadata": {},
     "source": [
      "This can be used for all kinds of things, for example, to programmatically add data to a web resource. It's all well beyond",
      "our scope for this course, but it's important to know it's possible, and start to think about the scientific possibilities."
     ]
    }
   ],
   "metadata": {}
  }
 ]
}
