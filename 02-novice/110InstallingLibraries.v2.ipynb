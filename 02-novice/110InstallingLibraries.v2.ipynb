{
 "metadata": {
  "jekyll": {
   "display_name": "Installing libraries"
  },
  "kernelspec": {
   "display_name": "Python 3",
   "language": "python",
   "name": "python3"
  },
  "language_info": {
   "codemirror_mode": {
    "name": "ipython",
    "version": 3
   },
   "file_extension": ".py",
   "mimetype": "text/x-python",
   "name": "python",
   "nbconvert_exporter": "python",
   "pygments_lexer": "ipython3",
   "version": "3.8.14"
  },
  "name": ""
 },
 "nbformat": 2,
 "nbformat_minor": 0,
 "orig_nbformat": 4,
 "orig_nbformat_minor": 5,
 "worksheets": [
  {
   "cells": [
    {
     "cell_type": "markdown",
     "metadata": {},
     "source": [
      "# Installing Libraries"
     ]
    },
    {
     "cell_type": "markdown",
     "metadata": {},
     "source": [
      "## Installing Libraries"
     ]
    },
    {
     "cell_type": "markdown",
     "metadata": {},
     "source": [
      "We've seen that PyPI carries lots of python libraries. But how do we install them?"
     ]
    },
    {
     "cell_type": "markdown",
     "metadata": {},
     "source": [
      "In the UCL teaching clusters, we cannot, as these need to be installed by administrators."
     ]
    },
    {
     "cell_type": "markdown",
     "metadata": {},
     "source": [
      "So you'll need to follow this lesson on a computer of your own."
     ]
    },
    {
     "cell_type": "markdown",
     "metadata": {},
     "source": [
      "The main problem is this: *libraries need other libraries*"
     ]
    },
    {
     "cell_type": "markdown",
     "metadata": {},
     "source": [
      "So you can't just install a library by copying code to the computer: you'll find yourself wandering down a tree",
      "of \"dependencies\"; libraries needed by libraries needed by the library you want."
     ]
    },
    {
     "cell_type": "markdown",
     "metadata": {},
     "source": [
      "This is actually a good thing; it means that people are making use of each others'",
      "code. There's a real problem in scientific programming, of people who think they're really clever writing their own",
      "twenty-fifth version of the same thing."
     ]
    },
    {
     "cell_type": "markdown",
     "metadata": {},
     "source": [
      "So using other people's libraries is good."
     ]
    },
    {
     "cell_type": "markdown",
     "metadata": {},
     "source": [
      "Why don't we do it more? Because it can often be quite difficult to **install** other peoples' libraries!"
     ]
    },
    {
     "cell_type": "markdown",
     "metadata": {},
     "source": [
      "Python has developed a good tool for avoiding this: **pip**."
     ]
    },
    {
     "cell_type": "markdown",
     "metadata": {},
     "source": [
      "## Installing Geopy using Pip"
     ]
    },
    {
     "cell_type": "markdown",
     "metadata": {},
     "source": [
      "On a computer you control, on which you have installed python via Anaconda, you will need to open a **terminal**",
      "to invoke the library-installer program, `pip`."
     ]
    },
    {
     "cell_type": "markdown",
     "metadata": {},
     "source": [
      "* On windows, go to start->all programs->Anaconda->Anaconda Command Prompt",
      "* On mac, start *terminal*. ",
      "* On linux, open a bash shell."
     ]
    },
    {
     "cell_type": "markdown",
     "metadata": {},
     "source": [
      "Into this shell, type:",
      "    ",
      "`pip install geopy`"
     ]
    },
    {
     "cell_type": "markdown",
     "metadata": {},
     "source": []
    },
    {
     "cell_type": "markdown",
     "metadata": {},
     "source": [
      "The computer will install the package automatically from PyPI. "
     ]
    },
    {
     "cell_type": "markdown",
     "metadata": {},
     "source": [
      "Now, close IPython notebook if you have it open, and reopen it. Check your new library is installed with:"
     ]
    },
    {
     "cell_type": "code",
     "collapsed": false,
     "input": [
      "import geopy",
      "geocoder = geopy.geocoders.GoogleV3(domain=\"maps.google.co.uk\")",
      "geocoder.geocode('Cambridge',exactly_one=False)"
     ],
     "language": "python",
     "metadata": {},
     "outputs": [
      {
       "ename": "ConfigurationError",
       "evalue": "Since July 2018 Google requires each request to have an API key. Pass a valid `api_key` to GoogleV3 geocoder to fix this error. See https://developers.google.com/maps/documentation/geocoding/usage-and-billing",
       "output_type": "pyerr",
       "traceback": [
        "\u001b[0;31m---------------------------------------------------------------------------\u001b[0m",
        "\u001b[0;31mConfigurationError\u001b[0m                        Traceback (most recent call last)",
        "Cell \u001b[0;32mIn [1], line 2\u001b[0m\n\u001b[1;32m      1\u001b[0m \u001b[38;5;28;01mimport\u001b[39;00m \u001b[38;5;21;01mgeopy\u001b[39;00m\n\u001b[0;32m----> 2\u001b[0m geocoder \u001b[38;5;241m=\u001b[39m \u001b[43mgeopy\u001b[49m\u001b[38;5;241;43m.\u001b[39;49m\u001b[43mgeocoders\u001b[49m\u001b[38;5;241;43m.\u001b[39;49m\u001b[43mGoogleV3\u001b[49m\u001b[43m(\u001b[49m\u001b[43mdomain\u001b[49m\u001b[38;5;241;43m=\u001b[39;49m\u001b[38;5;124;43m\"\u001b[39;49m\u001b[38;5;124;43mmaps.google.co.uk\u001b[39;49m\u001b[38;5;124;43m\"\u001b[39;49m\u001b[43m)\u001b[49m\n\u001b[1;32m      3\u001b[0m geocoder\u001b[38;5;241m.\u001b[39mgeocode(\u001b[38;5;124m'\u001b[39m\u001b[38;5;124mCambridge\u001b[39m\u001b[38;5;124m'\u001b[39m,exactly_one\u001b[38;5;241m=\u001b[39m\u001b[38;5;28;01mFalse\u001b[39;00m)\n",
        "File \u001b[0;32m/opt/hostedtoolcache/Python/3.8.14/x64/lib/python3.8/site-packages/geopy/geocoders/google.py:113\u001b[0m, in \u001b[0;36mGoogleV3.__init__\u001b[0;34m(self, api_key, domain, scheme, client_id, secret_key, timeout, proxies, user_agent, ssl_context, adapter_factory, channel)\u001b[0m\n\u001b[1;32m    110\u001b[0m \u001b[38;5;28mself\u001b[39m\u001b[38;5;241m.\u001b[39msecret_key \u001b[38;5;241m=\u001b[39m secret_key\n\u001b[1;32m    112\u001b[0m \u001b[38;5;28;01mif\u001b[39;00m \u001b[38;5;129;01mnot\u001b[39;00m \u001b[38;5;28mself\u001b[39m\u001b[38;5;241m.\u001b[39mpremier \u001b[38;5;129;01mand\u001b[39;00m \u001b[38;5;129;01mnot\u001b[39;00m api_key:\n\u001b[0;32m--> 113\u001b[0m     \u001b[38;5;28;01mraise\u001b[39;00m ConfigurationError(\n\u001b[1;32m    114\u001b[0m         \u001b[38;5;124m'\u001b[39m\u001b[38;5;124mSince July 2018 Google requires each request to have an API key. \u001b[39m\u001b[38;5;124m'\u001b[39m\n\u001b[1;32m    115\u001b[0m         \u001b[38;5;124m'\u001b[39m\u001b[38;5;124mPass a valid `api_key` to GoogleV3 geocoder to fix this error. \u001b[39m\u001b[38;5;124m'\u001b[39m\n\u001b[1;32m    116\u001b[0m         \u001b[38;5;124m'\u001b[39m\u001b[38;5;124mSee https://developers.google.com/maps/documentation/geocoding/usage-and-billing\u001b[39m\u001b[38;5;124m'\u001b[39m  \u001b[38;5;66;03m# noqa\u001b[39;00m\n\u001b[1;32m    117\u001b[0m     )\n\u001b[1;32m    119\u001b[0m \u001b[38;5;28mself\u001b[39m\u001b[38;5;241m.\u001b[39mapi_key \u001b[38;5;241m=\u001b[39m api_key\n\u001b[1;32m    120\u001b[0m \u001b[38;5;28mself\u001b[39m\u001b[38;5;241m.\u001b[39mdomain \u001b[38;5;241m=\u001b[39m domain\u001b[38;5;241m.\u001b[39mstrip(\u001b[38;5;124m'\u001b[39m\u001b[38;5;124m/\u001b[39m\u001b[38;5;124m'\u001b[39m)\n",
        "\u001b[0;31mConfigurationError\u001b[0m: Since July 2018 Google requires each request to have an API key. Pass a valid `api_key` to GoogleV3 geocoder to fix this error. See https://developers.google.com/maps/documentation/geocoding/usage-and-billing"
       ]
      }
     ],
     "prompt_number": 1
    },
    {
     "cell_type": "markdown",
     "metadata": {},
     "source": [
      "That was actually pretty easy, I hope. This is how you'll install new libraries when you need them."
     ]
    },
    {
     "cell_type": "markdown",
     "metadata": {},
     "source": [
      "Troubleshooting:",
      "    ",
      "On mac or linux, you *might* get a complaint that you need \"superuser\", \"root\", or \"administrator\" access. If so type:",
      "",
      "* `sudo pip install geopy`",
      "",
      "and enter your password.",
      "    ",
      "If you get a complaint like: 'pip is not recognized as an internal or external command', try the following:",
      "        ",
      "* `conda install pip` (Windows)",
      "* `sudo easy_install pip` (Mac, Linux)",
      "",
      "Ask me over email if you run into trouble."
     ]
    },
    {
     "cell_type": "markdown",
     "metadata": {},
     "source": [
      "## Installing binary dependencies with Conda"
     ]
    },
    {
     "cell_type": "markdown",
     "metadata": {},
     "source": [
      "`pip` is the usual Python tool for installing libraries. But there's one area of library installation that is still awkward:",
      "some python libraries depend not on other **python** libraries, but on libraries in C++ or Fortran."
     ]
    },
    {
     "cell_type": "markdown",
     "metadata": {},
     "source": [
      "This can cause you to run into difficulties installing some libraries. ",
      "Fortunately, for lots of these, Continuum, the makers of Anaconda, provide a carefully managed set of scripts for installing",
      "these awkward non-python libraries too. You can do this with the `conda` command line tool, if you're using Anaconda."
     ]
    },
    {
     "cell_type": "markdown",
     "metadata": {},
     "source": [
      "Simply type",
      "",
      "* `conda install <whatever>`",
      "",
      "instead of `pip install`. This will fetch the python package not from PyPI, but from Anaconda's distribution for your platform, and manage any non-python dependencies too."
     ]
    },
    {
     "cell_type": "markdown",
     "metadata": {},
     "source": [
      "Typically, if you're using Anaconda, whenever you come across a python package you want, you should check if Anaconda",
      "package it first using this list: http://docs.continuum.io/anaconda/pkg-docs.html. (Or just by trying `conda install` and hoping!) If you can `conda install` it, you'll likely have less problems. But Continuum don't package everything, so you'll need to `pip install` from time to time."
     ]
    },
    {
     "cell_type": "markdown",
     "metadata": {},
     "source": [
      "## Where do these libraries go? "
     ]
    },
    {
     "cell_type": "code",
     "collapsed": false,
     "input": [
      "import numpy"
     ],
     "language": "python",
     "metadata": {},
     "outputs": [],
     "prompt_number": 2
    },
    {
     "cell_type": "code",
     "collapsed": false,
     "input": [
      "numpy.__path__"
     ],
     "language": "python",
     "metadata": {},
     "outputs": [
      {
       "metadata": {},
       "output_type": "pyout",
       "prompt_number": 3,
       "text": [
        "['/opt/hostedtoolcache/Python/3.8.14/x64/lib/python3.8/site-packages/numpy']"
       ]
      }
     ],
     "prompt_number": 3
    },
    {
     "cell_type": "markdown",
     "metadata": {},
     "source": [
      "Your computer will be configured to keep installed Python packages in a particular place."
     ]
    },
    {
     "cell_type": "markdown",
     "metadata": {},
     "source": [
      "Python knows where to look for possible library installations in a list of places, called the \"PythonPath\".",
      "It will try each of these places in turn, until it finds a matching library name."
     ]
    },
    {
     "cell_type": "code",
     "collapsed": false,
     "input": [
      "import sys",
      "sys.path[-4:] #\u00a0Just list the last few"
     ],
     "language": "python",
     "metadata": {},
     "outputs": [
      {
       "metadata": {},
       "output_type": "pyout",
       "prompt_number": 4,
       "text": [
        "['/opt/hostedtoolcache/Python/3.8.14/x64/lib/python3.8',",
        " '/opt/hostedtoolcache/Python/3.8.14/x64/lib/python3.8/lib-dynload',",
        " '',",
        " '/opt/hostedtoolcache/Python/3.8.14/x64/lib/python3.8/site-packages']"
       ]
      }
     ],
     "prompt_number": 4
    },
    {
     "cell_type": "markdown",
     "metadata": {},
     "source": [
      "## Libraries not in PyPI"
     ]
    },
    {
     "cell_type": "markdown",
     "metadata": {},
     "source": [
      "Sometimes, such as for the Animation library in the Boids example, you'll need to download the source code",
      "directly. This won't automatically follow the dependency tree, but for simple standalone libraries, is sometimes necessary."
     ]
    },
    {
     "cell_type": "markdown",
     "metadata": {},
     "source": [
      "To install these on windows, download and unzip the library into a folder of your choice, e.g. `my_python_libs`. ",
      "",
      "On windows, a reasonable choice",
      "is the folder you end up in when you open the Anaconda terminal. You can get a graphical view on this folder by typing: `explorer .`"
     ]
    },
    {
     "cell_type": "markdown",
     "metadata": {},
     "source": [
      "Make a new folder for your download and unzip the library there."
     ]
    },
    {
     "cell_type": "markdown",
     "metadata": {},
     "source": [
      "Now, you need to move so you're inside your download in the terminal:"
     ]
    },
    {
     "cell_type": "markdown",
     "metadata": {},
     "source": [
      "* `cd my_python_libs`",
      "* `cd <library name>` (e.g. `cd JSAnimation-master`) "
     ]
    },
    {
     "cell_type": "markdown",
     "metadata": {},
     "source": [
      "Now, manually install the library in your PythonPath:"
     ]
    },
    {
     "cell_type": "markdown",
     "metadata": {},
     "source": [
      "* `python setup.py install`",
      "",
      "[You might need to do",
      "",
      "* `sudo python setup.py install` ",
      "",
      "if you get prompted for 'root' or 'admin' access.]"
     ]
    },
    {
     "cell_type": "markdown",
     "metadata": {},
     "source": [
      "This is all pretty awkward, but it is worth practicing this stuff, as most of the power of using programming for",
      "research resides in all the libraries that are out there. "
     ]
    },
    {
     "cell_type": "markdown",
     "metadata": {},
     "source": [
      "Finally, writing your own libraries is beyond the scope of this course, but we cover it in [Our More Advanced Python Course](http://development.rc.ucl.ac.uk/training/engineering)"
     ]
    }
   ],
   "metadata": {}
  }
 ]
}
