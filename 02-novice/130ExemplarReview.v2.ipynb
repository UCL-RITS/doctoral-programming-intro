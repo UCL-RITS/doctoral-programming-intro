{
 "metadata": {
  "jekyll": {
   "display_name": "Understanding the exemplar"
  },
  "kernelspec": {
   "display_name": "Python 3",
   "language": "python",
   "name": "python3"
  },
  "language_info": {
   "codemirror_mode": {
    "name": "ipython",
    "version": 3
   },
   "file_extension": ".py",
   "mimetype": "text/x-python",
   "name": "python",
   "nbconvert_exporter": "python",
   "pygments_lexer": "ipython3",
   "version": "3.8.14"
  },
  "name": ""
 },
 "nbformat": 2,
 "nbformat_minor": 0,
 "orig_nbformat": 4,
 "orig_nbformat_minor": 5,
 "worksheets": [
  {
   "cells": [
    {
     "cell_type": "markdown",
     "metadata": {},
     "source": [
      "# Understanding the \"Greengraph\" Example"
     ]
    },
    {
     "cell_type": "markdown",
     "metadata": {},
     "source": [
      "We now know enough to understand everything we did in the initial example chapter on the \"Greengraph\". Go back to that part of the notes, and re-read the code. "
     ]
    },
    {
     "cell_type": "markdown",
     "metadata": {},
     "source": [
      "Now, we can even write it up into a class, and save it as a module."
     ]
    },
    {
     "cell_type": "markdown",
     "metadata": {},
     "source": [
      "## Classes for Greengraph"
     ]
    },
    {
     "cell_type": "code",
     "collapsed": false,
     "input": [
      "%%bash",
      "mkdir -p greengraph # Create the folder for the module (on mac or linux)"
     ],
     "language": "python",
     "metadata": {},
     "outputs": [],
     "prompt_number": 1
    },
    {
     "cell_type": "code",
     "collapsed": false,
     "input": [
      "%%writefile greengraph/graph.py",
      "import numpy as np",
      "import geopy",
      "from .map import Map",
      "",
      "class Greengraph(object):",
      "    def __init__(self, start, end):",
      "        self.start=start",
      "        self.end=end",
      "        self.geocoder=geopy.geocoders.GoogleV3(domain=\"maps.google.co.uk\")",
      "        ",
      "    def geolocate(self, place):",
      "        return self.geocoder.geocode(place, exactly_one=False)[0][1]",
      "    ",
      "    def location_sequence(self, start,end,steps):",
      "      lats = np.linspace(start[0], end[0], steps)",
      "      longs = np.linspace(start[1],end[1], steps)",
      "      return np.vstack([lats, longs]).transpose()",
      "",
      "    def green_between(self, steps):",
      "        return [Map(*location).count_green()",
      "                for location in self.location_sequence(",
      "                    self.geolocate(self.start), ",
      "                    self.geolocate(self.end),",
      "                    steps)]"
     ],
     "language": "python",
     "metadata": {},
     "outputs": [
      {
       "output_type": "stream",
       "stream": "stdout",
       "text": [
        "Writing greengraph/graph.py"
       ]
      }
     ],
     "prompt_number": 2
    },
    {
     "cell_type": "code",
     "collapsed": false,
     "input": [
      "%%writefile greengraph/map.py",
      "",
      "import numpy as np",
      "from io import BytesIO",
      "from matplotlib import image as img",
      "import requests",
      "",
      "class Map(object):",
      "    def __init__(self, lat, long, satellite=True, zoom=10, size=(400,400), sensor=False):",
      "        base=\"http://maps.googleapis.com/maps/api/staticmap?\"",
      "  ",
      "        params = dict(",
      "            sensor= str(sensor).lower(),",
      "            zoom= zoom,",
      "            size= \"x\".join(map(str, size)),",
      "            center= \",\".join(map(str, (lat, long) )),",
      "            style=\"feature:all|element:labels|visibility:off\"",
      "        )",
      "    ",
      "        if satellite:",
      "            params[\"maptype\"]=\"satellite\"",
      "        ",
      "        self.image = requests.get(base, params=params).content # Fetch our PNG image data",
      "        self.pixels = img.imread(BytesIO(self.image))",
      "        ",
      "    def green(self, threshold):",
      "        # Use NumPy to build an element-by-element logical array",
      "        greener_than_red = self.pixels[:,:,1] > threshold* self.pixels[:,:,0]",
      "        greener_than_blue = self.pixels[:,:,1] > threshold*self.pixels[:,:,2]",
      "        green = np.logical_and(greener_than_red, greener_than_blue) ",
      "        return green",
      "    ",
      "    def count_green(self, threshold = 1.1):",
      "        return np.sum(self.green(threshold))",
      "    ",
      "    def show_green(data, threshold = 1.1):",
      "        green = self.green(threshold)",
      "        out = green[:,:,np.newaxis]*array([0,1,0])[np.newaxis,np.newaxis,:]",
      "        buffer = BytesIO()",
      "        result = img.imsave(buffer, out, format='png')",
      "        return buffer.getvalue()"
     ],
     "language": "python",
     "metadata": {},
     "outputs": [
      {
       "output_type": "stream",
       "stream": "stdout",
       "text": [
        "Writing greengraph/map.py"
       ]
      }
     ],
     "prompt_number": 3
    },
    {
     "cell_type": "code",
     "collapsed": false,
     "input": [
      "%%writefile greengraph/__init__.py",
      "from .graph import Greengraph"
     ],
     "language": "python",
     "metadata": {},
     "outputs": [
      {
       "output_type": "stream",
       "stream": "stdout",
       "text": [
        "Writing greengraph/__init__.py"
       ]
      }
     ],
     "prompt_number": 4
    },
    {
     "cell_type": "markdown",
     "metadata": {},
     "source": [
      "## Invoking our code and making a plot"
     ]
    },
    {
     "cell_type": "code",
     "collapsed": false,
     "input": [
      "%matplotlib inline",
      "from matplotlib import pyplot as plt",
      "from greengraph import Greengraph",
      "",
      "",
      "mygraph = Greengraph('New York','Chicago')",
      "data = mygraph.green_between(20)"
     ],
     "language": "python",
     "metadata": {},
     "outputs": [
      {
       "ename": "ConfigurationError",
       "evalue": "Since July 2018 Google requires each request to have an API key. Pass a valid `api_key` to GoogleV3 geocoder to fix this error. See https://developers.google.com/maps/documentation/geocoding/usage-and-billing",
       "output_type": "pyerr",
       "traceback": [
        "\u001b[0;31m---------------------------------------------------------------------------\u001b[0m",
        "\u001b[0;31mConfigurationError\u001b[0m                        Traceback (most recent call last)",
        "Cell \u001b[0;32mIn [5], line 6\u001b[0m\n\u001b[1;32m      2\u001b[0m \u001b[38;5;28;01mfrom\u001b[39;00m \u001b[38;5;21;01mmatplotlib\u001b[39;00m \u001b[38;5;28;01mimport\u001b[39;00m pyplot \u001b[38;5;28;01mas\u001b[39;00m plt\n\u001b[1;32m      3\u001b[0m \u001b[38;5;28;01mfrom\u001b[39;00m \u001b[38;5;21;01mgreengraph\u001b[39;00m \u001b[38;5;28;01mimport\u001b[39;00m Greengraph\n\u001b[0;32m----> 6\u001b[0m mygraph \u001b[38;5;241m=\u001b[39m \u001b[43mGreengraph\u001b[49m\u001b[43m(\u001b[49m\u001b[38;5;124;43m'\u001b[39;49m\u001b[38;5;124;43mNew York\u001b[39;49m\u001b[38;5;124;43m'\u001b[39;49m\u001b[43m,\u001b[49m\u001b[38;5;124;43m'\u001b[39;49m\u001b[38;5;124;43mChicago\u001b[39;49m\u001b[38;5;124;43m'\u001b[39;49m\u001b[43m)\u001b[49m\n\u001b[1;32m      7\u001b[0m data \u001b[38;5;241m=\u001b[39m mygraph\u001b[38;5;241m.\u001b[39mgreen_between(\u001b[38;5;241m20\u001b[39m)\n",
        "File \u001b[0;32m~/work/doctoral-programming-intro/doctoral-programming-intro/02-novice/greengraph/graph.py:9\u001b[0m, in \u001b[0;36mGreengraph.__init__\u001b[0;34m(self, start, end)\u001b[0m\n\u001b[1;32m      7\u001b[0m \u001b[38;5;28mself\u001b[39m\u001b[38;5;241m.\u001b[39mstart\u001b[38;5;241m=\u001b[39mstart\n\u001b[1;32m      8\u001b[0m \u001b[38;5;28mself\u001b[39m\u001b[38;5;241m.\u001b[39mend\u001b[38;5;241m=\u001b[39mend\n\u001b[0;32m----> 9\u001b[0m \u001b[38;5;28mself\u001b[39m\u001b[38;5;241m.\u001b[39mgeocoder\u001b[38;5;241m=\u001b[39m\u001b[43mgeopy\u001b[49m\u001b[38;5;241;43m.\u001b[39;49m\u001b[43mgeocoders\u001b[49m\u001b[38;5;241;43m.\u001b[39;49m\u001b[43mGoogleV3\u001b[49m\u001b[43m(\u001b[49m\u001b[43mdomain\u001b[49m\u001b[38;5;241;43m=\u001b[39;49m\u001b[38;5;124;43m\"\u001b[39;49m\u001b[38;5;124;43mmaps.google.co.uk\u001b[39;49m\u001b[38;5;124;43m\"\u001b[39;49m\u001b[43m)\u001b[49m\n",
        "File \u001b[0;32m/opt/hostedtoolcache/Python/3.8.14/x64/lib/python3.8/site-packages/geopy/geocoders/google.py:113\u001b[0m, in \u001b[0;36mGoogleV3.__init__\u001b[0;34m(self, api_key, domain, scheme, client_id, secret_key, timeout, proxies, user_agent, ssl_context, adapter_factory, channel)\u001b[0m\n\u001b[1;32m    110\u001b[0m \u001b[38;5;28mself\u001b[39m\u001b[38;5;241m.\u001b[39msecret_key \u001b[38;5;241m=\u001b[39m secret_key\n\u001b[1;32m    112\u001b[0m \u001b[38;5;28;01mif\u001b[39;00m \u001b[38;5;129;01mnot\u001b[39;00m \u001b[38;5;28mself\u001b[39m\u001b[38;5;241m.\u001b[39mpremier \u001b[38;5;129;01mand\u001b[39;00m \u001b[38;5;129;01mnot\u001b[39;00m api_key:\n\u001b[0;32m--> 113\u001b[0m     \u001b[38;5;28;01mraise\u001b[39;00m ConfigurationError(\n\u001b[1;32m    114\u001b[0m         \u001b[38;5;124m'\u001b[39m\u001b[38;5;124mSince July 2018 Google requires each request to have an API key. \u001b[39m\u001b[38;5;124m'\u001b[39m\n\u001b[1;32m    115\u001b[0m         \u001b[38;5;124m'\u001b[39m\u001b[38;5;124mPass a valid `api_key` to GoogleV3 geocoder to fix this error. \u001b[39m\u001b[38;5;124m'\u001b[39m\n\u001b[1;32m    116\u001b[0m         \u001b[38;5;124m'\u001b[39m\u001b[38;5;124mSee https://developers.google.com/maps/documentation/geocoding/usage-and-billing\u001b[39m\u001b[38;5;124m'\u001b[39m  \u001b[38;5;66;03m# noqa\u001b[39;00m\n\u001b[1;32m    117\u001b[0m     )\n\u001b[1;32m    119\u001b[0m \u001b[38;5;28mself\u001b[39m\u001b[38;5;241m.\u001b[39mapi_key \u001b[38;5;241m=\u001b[39m api_key\n\u001b[1;32m    120\u001b[0m \u001b[38;5;28mself\u001b[39m\u001b[38;5;241m.\u001b[39mdomain \u001b[38;5;241m=\u001b[39m domain\u001b[38;5;241m.\u001b[39mstrip(\u001b[38;5;124m'\u001b[39m\u001b[38;5;124m/\u001b[39m\u001b[38;5;124m'\u001b[39m)\n",
        "\u001b[0;31mConfigurationError\u001b[0m: Since July 2018 Google requires each request to have an API key. Pass a valid `api_key` to GoogleV3 geocoder to fix this error. See https://developers.google.com/maps/documentation/geocoding/usage-and-billing"
       ]
      }
     ],
     "prompt_number": 5
    },
    {
     "cell_type": "code",
     "collapsed": false,
     "input": [
      "plt.plot(data)"
     ],
     "language": "python",
     "metadata": {},
     "outputs": [
      {
       "ename": "NameError",
       "evalue": "name 'data' is not defined",
       "output_type": "pyerr",
       "traceback": [
        "\u001b[0;31m---------------------------------------------------------------------------\u001b[0m",
        "\u001b[0;31mNameError\u001b[0m                                 Traceback (most recent call last)",
        "Cell \u001b[0;32mIn [6], line 1\u001b[0m\n\u001b[0;32m----> 1\u001b[0m plt\u001b[38;5;241m.\u001b[39mplot(\u001b[43mdata\u001b[49m)\n",
        "\u001b[0;31mNameError\u001b[0m: name 'data' is not defined"
       ]
      }
     ],
     "prompt_number": 6
    }
   ],
   "metadata": {}
  }
 ]
}
