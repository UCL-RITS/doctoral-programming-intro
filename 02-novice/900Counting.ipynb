{
 "cells": [
  {
   "cell_type": "code",
   "execution_count": null,
   "metadata": {},
   "outputs": [],
   "source": [
    "from IPython.display import HTML\n",
    "\n",
    "HTML('''<script>\n",
    "code_show=true; \n",
    "function code_toggle() {\n",
    " if (code_show){\n",
    " $('div.input').hide();\n",
    " } else {\n",
    " $('div.input').show();\n",
    " }\n",
    " code_show = !code_show\n",
    "} \n",
    "$( document ).ready(code_toggle);\n",
    "</script>\n",
    "<form action=\"javascript:code_toggle()\"><input type=\"submit\" value=\"Click here to show/hide the solution.\"></form>''')"
   ]
  },
  {
   "cell_type": "markdown",
   "metadata": {},
   "source": [
    "One of the least effective way to figure out $\\pi$ is to use a Monte-Carlo sampling method.\n",
    "\n",
    "We will sample points randomly in the interval $[-\\frac{1}{2}, \\frac{1}{2}]^2$ (2D).\n",
    "The ratio of points that fall in a circle of radius $R=\\frac{1}{2}$ vs those in the square $[-\\frac{1}{2}, \\frac{1}{2}]^2$ is equal to $\\frac{\\pi R^2}{1}=\\frac{1}{4}\\pi$\n",
    "\n",
    "Implement the following algorithm:\n",
    "\n",
    "- loop for n iterations\n",
    "  - pick two numbers randomly between $-\\frac{1}{2}$ and $\\frac{1}{2}$\n",
    "  - if the numbers fall inside the circle then add it to list `in_circle`\n",
    "    That means $x^2 + y^2 \\leq R^2$\n",
    "  - otherwise add it to another `out_of_circle`\n",
    "  \n",
    "- Compute pi using the lengths of the two lists, e.g $\\frac{4n_0}{n_0+n_1}$, with $n_0$ the length `in_circle` and $n_1$ the length of `out_of_circle`.\n",
    "- plot the two sets of points in different colors"
   ]
  },
  {
   "cell_type": "code",
   "execution_count": null,
   "metadata": {},
   "outputs": [],
   "source": [
    "from numpy.random import random\n",
    "\n",
    "N = 1000\n",
    "in_circle, out_circle = [], []\n",
    "radius = 0.5\n",
    "\n",
    "def add_sample(in_circle, out_circle, radius):\n",
    "    point = random() - 0.5, random() - 0.5\n",
    "    if point[0] * point[0] + point[1] * point[1] <= radius * radius:\n",
    "        in_circle.append(point)\n",
    "    else:\n",
    "        out_circle.append(point)\n",
    "        \n",
    "for i in range(N):\n",
    "    add_sample(in_circle, out_circle, radius)\n",
    "\n",
    "assert N == len(in_circle) + len(out_circle)\n",
    "print(\"Pi is PI? \", 4 * float(len(in_circle)) / N)"
   ]
  },
  {
   "cell_type": "code",
   "execution_count": null,
   "metadata": {},
   "outputs": [],
   "source": [
    "%matplotlib inline\n",
    "from matplotlib import pyplot as plt\n",
    "from numpy import array\n",
    "\n",
    "in_circle = array(in_circle)\n",
    "out_circle = array(out_circle)\n",
    "\n",
    "plt.scatter(in_circle[:, 0], in_circle[:, 1], linewidth=0, alpha=0.5)\n",
    "plt.scatter(out_circle[:, 0], out_circle[:, 1], alpha=0.5, color='red')\n",
    "plt.axis('equal')\n",
    "plt.show()"
   ]
  },
  {
   "cell_type": "markdown",
   "metadata": {},
   "source": [
    "We could also use the numpy library to do the work for us:"
   ]
  },
  {
   "cell_type": "code",
   "execution_count": null,
   "metadata": {},
   "outputs": [],
   "source": [
    "from numpy import random, sum\n",
    "N = 1000\n",
    "radius = 0.5\n",
    "all_points = random.random((N, 2)) - 0.5\n",
    "norms = sum(all_points * all_points, axis=1)\n",
    "n_in_circle = len(all_points[norms < radius * radius])\n",
    "\n",
    "print(\"Pi is \", 4 * float(n_in_circle) / len(all_points))"
   ]
  },
  {
   "cell_type": "markdown",
   "metadata": {},
   "source": [
    "# Compute Factorial N"
   ]
  },
  {
   "cell_type": "code",
   "execution_count": null,
   "metadata": {},
   "outputs": [],
   "source": [
    "def factorial(N):\n",
    "    if N == 1:\n",
    "        return 1\n",
    "    else:\n",
    "        return N * factorial(N - 1)"
   ]
  },
  {
   "cell_type": "code",
   "execution_count": null,
   "metadata": {},
   "outputs": [],
   "source": [
    "assert factorial(1) == 1\n",
    "assert factorial(2) == 2\n",
    "assert factorial(5) == 5 * 4 * 3 * 2 * 1"
   ]
  },
  {
   "cell_type": "markdown",
   "metadata": {},
   "source": [
    "# Ceasar Cipher\n",
    "\n",
    "https://en.wikipedia.org/wiki/Caesar_cipher"
   ]
  },
  {
   "cell_type": "code",
   "execution_count": null,
   "metadata": {},
   "outputs": [],
   "source": [
    "def caesar_salad(input, n=13):\n",
    "    alphabet = \"abcdefghijklmnopqrstuvwxyz\"\n",
    "    rotabet = alphabet[n:] + alphabet[:n] \n",
    "    \n",
    "    result = \"\"\n",
    "    for letter in input:\n",
    "        index = alphabet.find(letter.lower())\n",
    "        if index == -1:\n",
    "            result += letter\n",
    "        elif letter.islower():\n",
    "            result += rotabet[index]\n",
    "        else:\n",
    "            result += rotabet[index].upper()\n",
    "        \n",
    "    \n",
    "    return result"
   ]
  },
  {
   "cell_type": "code",
   "execution_count": null,
   "metadata": {},
   "outputs": [],
   "source": [
    "assert caesar_salad(\"caesar\", n=0) == \"caesar\"\n",
    "assert caesar_salad(\"a\", n = 1) == \"b\"\n",
    "assert caesar_salad(\"az\", n = 1) == \"ba\"\n",
    "assert caesar_salad(\"AaZz\", n = 1) == \"BbAa\"\n",
    "assert caesar_salad(\"Aa!Z z\", n = 1) == \"Bb!A a\""
   ]
  },
  {
   "cell_type": "code",
   "execution_count": null,
   "metadata": {},
   "outputs": [],
   "source": [
    "caesar_salad(caesar_salad(\"Anything!?\", n =12), n = 26 - 12)"
   ]
  }
 ],
 "metadata": {
  "kernelspec": {
   "display_name": "Python 3",
   "language": "python",
   "name": "python3"
  },
  "language_info": {
   "codemirror_mode": {
    "name": "ipython",
    "version": 3
   },
   "file_extension": ".py",
   "mimetype": "text/x-python",
   "name": "python",
   "nbconvert_exporter": "python",
   "pygments_lexer": "ipython3",
   "version": "3.5.2"
  }
 },
 "nbformat": 4,
 "nbformat_minor": 0
}
