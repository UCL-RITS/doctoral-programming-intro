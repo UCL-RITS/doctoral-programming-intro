{
 "cells": [
  {
   "cell_type": "markdown",
   "metadata": {},
   "source": [
    "## A more advanced example Python data analysis notebook"
   ]
  },
  {
   "cell_type": "markdown",
   "metadata": {},
   "source": [
    "As we did [at the start of the beginner course](../01-beginner/010exemplar.html), we are going to illustrate how to use Python to perform a slight more \"advanced\" analysis: retrieve data, do some computations based on it, and visualise the results.\n",
    "\n",
    "### A tour of capabilities\n",
    "\n",
    "Let's start this second part by taking a look at some of the awesome things that you can do joining programming and the Internet. As before, you will not understand all the detail of the code in this section yet, and *nor should you*. If you do, maybe one of our more advanced courses is more appropriate for you!\n",
    "\n",
    "As we show the code for different parts of the work, we will be touching on various aspects you may want to keep in mind, either related to Python specifically, or to research programming more generally."
   ]
  },
  {
   "cell_type": "markdown",
   "metadata": {},
   "source": [
    "### Why write software to manage your data and plots? "
   ]
  },
  {
   "cell_type": "markdown",
   "metadata": {},
   "source": [
    "We can use programs for our entire research pipeline. Not just big scientific simulation codes, but also the small scripts which we use to tidy up data and produce plots. This should be code, so that the whole research pipeline\n",
    "is recorded for reproducibility. Data manipulation in spreadsheets is much harder to share or \n",
    "check. "
   ]
  },
  {
   "cell_type": "markdown",
   "metadata": {},
   "source": [
    "You can see another similar demonstration on the [Software Carpentry site](https://swcarpentry.github.io/python-novice-inflammation/). \n",
    "We'll try to give links to other sources of Python training along the way.\n",
    "Part of our approach is that we assume you know how to use the internet! If you\n",
    "find something confusing out there, please bring it along to the next session. In this course, we'll always try to draw your attention to other sources of information about what we're learning. Paying attention to as many of these as you need to, is just as important as these core notes."
   ]
  },
  {
   "cell_type": "markdown",
   "metadata": {},
   "source": [
    "### Importing libraries"
   ]
  },
  {
   "cell_type": "markdown",
   "metadata": {},
   "source": [
    "Research programming is all about using libraries: tools other people have provided programs that do many cool things.\n",
    "By combining them we can feel really powerful but doing minimum work ourselves. The Python syntax to import someone else's library is `import`."
   ]
  },
  {
   "cell_type": "code",
   "execution_count": null,
   "metadata": {},
   "outputs": [],
   "source": [
    "import geopy # A Python library for investigating geographic information.\n",
    "# https://pypi.org/project/geopy/"
   ]
  },
  {
   "cell_type": "markdown",
   "metadata": {},
   "source": [
    "Now, if you try to follow along on this example in an Jupyter notebook, you'll probably find that \n",
    "you just got an error message.\n",
    "\n",
    "You'll need to wait until we've covered  [installation of additional Python libraries](./110InstallingLibraries.html) later in the course, then come\n",
    "back to this and try again. For now, just follow along and try get the feel for how programming for data-focused\n",
    "research works."
   ]
  },
  {
   "cell_type": "code",
   "execution_count": null,
   "metadata": {},
   "outputs": [],
   "source": [
    "# Select geocoding service provided by OpenStreetMap's Nominatim - https://wiki.openstreetmap.org/wiki/Nominatim\n",
    "geocoder = geopy.geocoders.Nominatim(user_agent=\"uk/doctoral-programming-intro\") \n",
    "geocoder.geocode('Cambridge', exactly_one=False)"
   ]
  },
  {
   "cell_type": "markdown",
   "metadata": {},
   "source": [
    "The results are returned as a **list** with each element in the list a `Location` object representing a particular location and specifying among other things text specifying the address of the location and a triplet of numbers specifying the latitude, longitude and altitude of the location. Programs represent data in a variety of different containers like this."
   ]
  },
  {
   "cell_type": "markdown",
   "metadata": {},
   "source": [
    "### Functions"
   ]
  },
  {
   "cell_type": "markdown",
   "metadata": {},
   "source": [
    "As we've learnt from the first half, we can wrap code up in a **function**, so that we can repeatedly get just the information we want.\n"
   ]
  },
  {
   "cell_type": "code",
   "execution_count": null,
   "metadata": {},
   "outputs": [],
   "source": [
    "def geolocate(place):\n",
    "    location = geocoder.geocode(place, exactly_one=True)\n",
    "    return (location.latitude, location.longitude)"
   ]
  },
  {
   "cell_type": "markdown",
   "metadata": {},
   "source": [
    "Remember! Defining **functions** which put together code to make a more complex task seem simple from the outside is the most important thing in programming. The output of the function is stated by `return`; the input comes in in brackets after the function name:\n"
   ]
  },
  {
   "cell_type": "code",
   "execution_count": null,
   "metadata": {},
   "outputs": [],
   "source": [
    "geolocate('Cambridge')"
   ]
  },
  {
   "cell_type": "markdown",
   "metadata": {},
   "source": [
    "### Variables"
   ]
  },
  {
   "cell_type": "markdown",
   "metadata": {},
   "source": [
    "We can store a result in a variable (with a self-descriptive name):"
   ]
  },
  {
   "cell_type": "code",
   "execution_count": null,
   "metadata": {},
   "outputs": [],
   "source": [
    "london_location = geolocate(\"London\")\n",
    "print(london_location)"
   ]
  },
  {
   "cell_type": "markdown",
   "metadata": {},
   "source": [
    "### More complex functions (connecting with the Internet)"
   ]
  },
  {
   "cell_type": "markdown",
   "metadata": {},
   "source": [
    "We'll fetch a map of a place from the Google Maps server, given a longitude and latitude.\n",
    "The URLs look like: `https://mt0.google.com/vt?x=658&y=340&z=10&lyrs=s`.\n",
    "Since we'll frequently be generating these URLs, we will create two helper functions to make our life easier.\n",
    "The first is a function to convert our latitude and longitude into the coordinate system used by Google Maps. If interested, you can see [more details of the mathematics](https://wiki.openstreetmap.org/wiki/Slippy_map_tilenames#X_and_Y).\n",
    "We will then create a second function to build up a web request from the URL given our parameters."
   ]
  },
  {
   "cell_type": "code",
   "execution_count": null,
   "metadata": {},
   "outputs": [],
   "source": [
    "import os\n",
    "import math\n",
    "import requests\n",
    "\n",
    "def deg_to_tilenum(lat_deg, lon_deg, zoom):\n",
    "    lat_rad = math.radians(lat_deg)\n",
    "    n = 2.0 ** zoom\n",
    "    xtile = int((lon_deg + 180.0) / 360.0 * n)\n",
    "    ytile = int((1.0 - math.asinh(math.tan(lat_rad)) / math.pi) / 2.0 * n)\n",
    "    return (xtile, ytile)\n",
    "\n",
    "def request_map_at(lat, long, zoom=10, satellite=True):\n",
    "    base_url = \"https://mt0.google.com/vt?\"\n",
    "\n",
    "    x_coord, y_coord = deg_to_tilenum(lat, long, zoom)\n",
    "\n",
    "    params = dict(\n",
    "        x=int(x_coord),\n",
    "        y=int(y_coord),\n",
    "        z=zoom\n",
    "    )\n",
    "    if satellite:\n",
    "        params['lyrs'] = 's'\n",
    "\n",
    "    return requests.get(base_url, params=params)"
   ]
  },
  {
   "cell_type": "code",
   "execution_count": null,
   "metadata": {},
   "outputs": [],
   "source": [
    "map_response = request_map_at(51.5072, -0.1275)"
   ]
  },
  {
   "cell_type": "markdown",
   "metadata": {},
   "source": [
    "### Checking our work"
   ]
  },
  {
   "cell_type": "markdown",
   "metadata": {},
   "source": [
    "Let's see what URL we ended up with:"
   ]
  },
  {
   "cell_type": "code",
   "execution_count": null,
   "metadata": {},
   "outputs": [],
   "source": [
    "url = map_response.url\n",
    "print(url[0:25])\n",
    "print(url[25:])"
   ]
  },
  {
   "cell_type": "markdown",
   "metadata": {},
   "source": [
    "We can write **automated tests** so that if we change our code later, we can check the results are still valid."
   ]
  },
  {
   "cell_type": "code",
   "execution_count": null,
   "metadata": {},
   "outputs": [],
   "source": [
    "assert \"https://mt0.google.com/vt?\" in url\n",
    "assert \"z=10\" in url\n",
    "assert \"lyrs=s\" in url"
   ]
  },
  {
   "cell_type": "markdown",
   "metadata": {},
   "source": [
    "Our previous function comes back with an object representing the web request. In object oriented programming, we use the `.` operator to get access to a particular **property** of the object, in this case, the actual image at that URL is in the `content` property. It's a big file, so we'll just get the first few bytes:"
   ]
  },
  {
   "cell_type": "code",
   "execution_count": null,
   "metadata": {},
   "outputs": [],
   "source": [
    "map_response.content[0:20]"
   ]
  },
  {
   "cell_type": "markdown",
   "metadata": {},
   "source": [
    "### Displaying results"
   ]
  },
  {
   "cell_type": "markdown",
   "metadata": {},
   "source": [
    "We'll need to do this a lot, so we'll wrap up our previous function in another function, to save on typing."
   ]
  },
  {
   "cell_type": "code",
   "execution_count": null,
   "metadata": {},
   "outputs": [],
   "source": [
    "def map_at(*args, **kwargs):\n",
    "    return request_map_at(*args, **kwargs).content"
   ]
  },
  {
   "cell_type": "markdown",
   "metadata": {},
   "source": [
    "We can use a library that comes with Jupyter notebook to display the image. Being able to work with variables which contain images, or documents, or any other weird kind of data, just as easily as we can with numbers or letters, is one of the really powerful things about modern programming languages like Python. "
   ]
  },
  {
   "cell_type": "code",
   "execution_count": null,
   "metadata": {},
   "outputs": [],
   "source": [
    "import IPython\n",
    "map_jpeg = map_at(*london_location)"
   ]
  },
  {
   "cell_type": "code",
   "execution_count": null,
   "metadata": {},
   "outputs": [],
   "source": [
    "print(\"The type of our map result is actually a: \", type(map_jpeg))"
   ]
  },
  {
   "cell_type": "code",
   "execution_count": null,
   "metadata": {},
   "outputs": [],
   "source": [
    "IPython.core.display.Image(map_jpeg)"
   ]
  },
  {
   "cell_type": "code",
   "execution_count": null,
   "metadata": {},
   "outputs": [],
   "source": [
    "IPython.core.display.Image(map_at(*geolocate(\"New Delhi\")))"
   ]
  },
  {
   "cell_type": "markdown",
   "metadata": {},
   "source": [
    "### Manipulating numbers"
   ]
  },
  {
   "cell_type": "markdown",
   "metadata": {},
   "source": [
    "Now we get to our research project: we want to find out how urbanised the world is, based on satellite imagery, along a line\n",
    "    between two cites. We expect the satellite image to be greener in the countryside."
   ]
  },
  {
   "cell_type": "markdown",
   "metadata": {},
   "source": [
    "We'll use lots more libraries to count how much green there is in an image."
   ]
  },
  {
   "cell_type": "code",
   "execution_count": null,
   "metadata": {},
   "outputs": [],
   "source": [
    "from io import BytesIO # A library to convert between files and strings\n",
    "import numpy as np # A library to deal with matrices\n",
    "import imageio # A library to deal with images"
   ]
  },
  {
   "cell_type": "markdown",
   "metadata": {},
   "source": [
    "Let's define what we count as green:"
   ]
  },
  {
   "cell_type": "code",
   "execution_count": null,
   "metadata": {},
   "outputs": [],
   "source": [
    "def is_green(pixels):\n",
    "    threshold = 1.1\n",
    "    greener_than_red = pixels[:,:,1] > threshold * pixels[:,:,0]\n",
    "    greener_than_blue = pixels[:,:,1] > threshold * pixels[:,:,2]\n",
    "    green = np.logical_and(greener_than_red, greener_than_blue) \n",
    "    return green"
   ]
  },
  {
   "cell_type": "markdown",
   "metadata": {},
   "source": [
    "This code has assumed we have our pixel data for the image as a 256 &times; 256 &times; 3 three-dimensional matrix,\n",
    "with each of the three layers being red, green, and blue pixels.\n",
    "\n",
    "We find out which pixels are green by comparing, element-by-element, the middle (green, number 1) layer to the top (red, zero) and bottom (blue, 2)"
   ]
  },
  {
   "cell_type": "markdown",
   "metadata": {},
   "source": [
    "Now we just need to parse in our data, which is a JPEG image, and turn it into our matrix format:"
   ]
  },
  {
   "cell_type": "code",
   "execution_count": null,
   "metadata": {},
   "outputs": [],
   "source": [
    "def count_green_in_image(data):\n",
    "    pixels = imageio.imread(data, format='jpg') # Get our JPEG image as a numpy array\n",
    "    return np.sum(is_green(pixels))"
   ]
  },
  {
   "cell_type": "code",
   "execution_count": null,
   "metadata": {},
   "outputs": [],
   "source": [
    "print(count_green_in_image(map_at(*london_location)))"
   ]
  },
  {
   "cell_type": "markdown",
   "metadata": {},
   "source": [
    "We'll also need a function to get an evenly spaced set of places between two endpoints:"
   ]
  },
  {
   "cell_type": "code",
   "execution_count": null,
   "metadata": {},
   "outputs": [],
   "source": [
    "def location_sequence(start, end, steps):\n",
    "    lats = np.linspace(start[0], end[0], steps) # \"Linearly spaced\" data\n",
    "    longs = np.linspace(start[1], end[1], steps)\n",
    "    return np.vstack([lats, longs]).transpose()"
   ]
  },
  {
   "cell_type": "code",
   "execution_count": null,
   "metadata": {},
   "outputs": [],
   "source": [
    "location_sequence(geolocate(\"London\"), geolocate(\"Cambridge\"), 5)"
   ]
  },
  {
   "cell_type": "markdown",
   "metadata": {},
   "source": [
    "### Creating images"
   ]
  },
  {
   "cell_type": "markdown",
   "metadata": {},
   "source": [
    "We should display the green content to check our work:"
   ]
  },
  {
   "cell_type": "code",
   "execution_count": null,
   "metadata": {},
   "outputs": [],
   "source": [
    "def show_green_in_image(data):\n",
    "    pixels = imageio.imread(data, format='jpg') # Get our JPEG image as rows of pixels\n",
    "    green = is_green(pixels)\n",
    "    out = green[:, :, np.newaxis] * np.array([0, 255, 0])[np.newaxis, np.newaxis, :]  \n",
    "    buffer = BytesIO()\n",
    "    result = imageio.imwrite(buffer, out.astype('uint8'), format='png')\n",
    "    return buffer.getvalue()"
   ]
  },
  {
   "cell_type": "code",
   "execution_count": null,
   "metadata": {},
   "outputs": [],
   "source": [
    "IPython.core.display.Image(\n",
    "    map_at(*london_location, satellite=True)\n",
    ")"
   ]
  },
  {
   "cell_type": "code",
   "execution_count": null,
   "metadata": {},
   "outputs": [],
   "source": [
    "IPython.core.display.Image(\n",
    "    show_green_in_image(\n",
    "        map_at(*london_location, satellite=True)\n",
    "    )\n",
    ")"
   ]
  },
  {
   "cell_type": "markdown",
   "metadata": {},
   "source": [
    "### Looping"
   ]
  },
  {
   "cell_type": "markdown",
   "metadata": {},
   "source": [
    "We can loop over each element in out list of coordinates, and get a map for that place:"
   ]
  },
  {
   "cell_type": "code",
   "execution_count": null,
   "metadata": {},
   "outputs": [],
   "source": [
    "for location in location_sequence(\n",
    "    geolocate(\"London\"), geolocate(\"Birmingham\"), 4\n",
    "):\n",
    "    IPython.display.display( \n",
    "        IPython.core.display.Image(map_at(*location))\n",
    "    )"
   ]
  },
  {
   "cell_type": "markdown",
   "metadata": {},
   "source": [
    "So now we can count the green from London to Birmingham!"
   ]
  },
  {
   "cell_type": "code",
   "execution_count": null,
   "metadata": {},
   "outputs": [],
   "source": [
    "[\n",
    "    count_green_in_image(map_at(*location))\n",
    "    for location in location_sequence(\n",
    "        geolocate(\"London\"), geolocate(\"Birmingham\"), 10\n",
    "    )\n",
    "]"
   ]
  },
  {
   "cell_type": "markdown",
   "metadata": {},
   "source": [
    "### Plotting graphs"
   ]
  },
  {
   "cell_type": "markdown",
   "metadata": {},
   "source": [
    "Let's plot a graph."
   ]
  },
  {
   "cell_type": "code",
   "execution_count": null,
   "metadata": {},
   "outputs": [],
   "source": [
    "import matplotlib.pyplot as plt"
   ]
  },
  {
   "cell_type": "code",
   "execution_count": null,
   "metadata": {},
   "outputs": [],
   "source": [
    "plt.plot([\n",
    "    count_green_in_image(map_at(*location))\n",
    "    for location in location_sequence(\n",
    "        geolocate(\"London\"), geolocate(\"Birmingham\"), 10\n",
    "    )\n",
    "])"
   ]
  },
  {
   "cell_type": "markdown",
   "metadata": {},
   "source": [
    "From a research perspective, of course, this code needs a lot of work. But I hope the power of using programming is clear.\n"
   ]
  },
  {
   "cell_type": "markdown",
   "metadata": {},
   "source": [
    "### Composing program elements"
   ]
  },
  {
   "cell_type": "markdown",
   "metadata": {},
   "source": [
    "We built little pieces of useful code, to:\n",
    "\n",
    "* Find latitude and longitude of a place\n",
    "* Get a map at a given latitude and longitude\n",
    "* Decide whether a (red, green, blue) triple is mainly green\n",
    "* Decide whether each pixel is mainly green\n",
    "* Plot a new image showing the green places\n",
    "* Find evenly spaced points between two places"
   ]
  },
  {
   "cell_type": "markdown",
   "metadata": {},
   "source": [
    "By putting these together, we can make a function which can plot this graph automatically for any two places:"
   ]
  },
  {
   "cell_type": "code",
   "execution_count": null,
   "metadata": {},
   "outputs": [],
   "source": [
    "def green_between(start, end,steps):\n",
    "    return [\n",
    "        count_green_in_image( map_at(*location) )\n",
    "        for location in location_sequence(\n",
    "            geolocate(start), geolocate(end), steps\n",
    "        )\n",
    "    ]"
   ]
  },
  {
   "cell_type": "code",
   "execution_count": null,
   "metadata": {},
   "outputs": [],
   "source": [
    "plt.plot(green_between('New York', 'Chicago', 20))"
   ]
  },
  {
   "cell_type": "markdown",
   "metadata": {},
   "source": [
    "And that's it! We've covered, very very quickly, the majority of the Python language, and much of the theory of software engineering."
   ]
  },
  {
   "cell_type": "markdown",
   "metadata": {},
   "source": [
    "Now we'll go back, carefully, through all the concepts we touched on, and learn how to use them properly ourselves."
   ]
  }
 ],
 "metadata": {
  "jekyll": {
   "display_name": "An example program (ii)"
  },
  "kernelspec": {
   "display_name": "Python 3",
   "language": "python",
   "name": "python3"
  },
  "language_info": {
   "codemirror_mode": {
    "name": "ipython",
    "version": 3
   },
   "file_extension": ".py",
   "mimetype": "text/x-python",
   "name": "python",
   "nbconvert_exporter": "python",
   "pygments_lexer": "ipython3",
   "version": "3.9.7"
  }
 },
 "nbformat": 4,
 "nbformat_minor": 4
}
