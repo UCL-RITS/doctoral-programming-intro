{
 "cells": [
  {
   "cell_type": "markdown",
   "metadata": {},
   "source": [
    "# Defining your own classes"
   ]
  },
  {
   "cell_type": "markdown",
   "metadata": {},
   "source": [
    "## User defined types"
   ]
  },
  {
   "cell_type": "markdown",
   "metadata": {},
   "source": [
    "A **class** is a user-programmed Python type."
   ]
  },
  {
   "cell_type": "markdown",
   "metadata": {},
   "source": [
    "A minimal class can be defined like this:"
   ]
  },
  {
   "cell_type": "code",
   "execution_count": null,
   "metadata": {},
   "outputs": [],
   "source": [
    "class Room:\n",
    "    pass"
   ]
  },
  {
   "cell_type": "markdown",
   "metadata": {},
   "source": [
    "Just as with other Python types, you use the name of the type as a function to make a variable of that type:"
   ]
  },
  {
   "cell_type": "code",
   "execution_count": null,
   "metadata": {},
   "outputs": [],
   "source": [
    "zero = int()"
   ]
  },
  {
   "cell_type": "code",
   "execution_count": null,
   "metadata": {},
   "outputs": [],
   "source": [
    "zero"
   ]
  },
  {
   "cell_type": "code",
   "execution_count": null,
   "metadata": {},
   "outputs": [],
   "source": [
    "print(type(zero))"
   ]
  },
  {
   "cell_type": "code",
   "execution_count": null,
   "metadata": {},
   "outputs": [],
   "source": [
    "my_room = Room()"
   ]
  },
  {
   "cell_type": "code",
   "execution_count": null,
   "metadata": {},
   "outputs": [],
   "source": [
    "my_room"
   ]
  },
  {
   "cell_type": "code",
   "execution_count": null,
   "metadata": {},
   "outputs": [],
   "source": [
    "print(type(my_room))"
   ]
  },
  {
   "cell_type": "markdown",
   "metadata": {},
   "source": [
    "In the jargon, we say that an **object** is an **instance** of a particular **class**."
   ]
  },
  {
   "cell_type": "markdown",
   "metadata": {},
   "source": [
    "Once we have an object with a type of our own devising, we can add properties at will:"
   ]
  },
  {
   "cell_type": "code",
   "execution_count": null,
   "metadata": {},
   "outputs": [],
   "source": [
    "my_room.name = \"Living\""
   ]
  },
  {
   "cell_type": "code",
   "execution_count": null,
   "metadata": {},
   "outputs": [],
   "source": [
    "print(my_room.name)"
   ]
  },
  {
   "cell_type": "markdown",
   "metadata": {},
   "source": [
    "The most common use of a class is to allow us to group data into an object in a way that is \n",
    "easier to read and understand than organising data into lists and dictionaries."
   ]
  },
  {
   "cell_type": "code",
   "execution_count": null,
   "metadata": {},
   "outputs": [],
   "source": [
    "my_room.capacity = 3\n",
    "my_room.occupants = [\"Alice\", \"Bob\"]"
   ]
  },
  {
   "cell_type": "code",
   "execution_count": null,
   "metadata": {},
   "outputs": [],
   "source": [
    "my_string = \"Hello\"\n",
    "my_string.upper()"
   ]
  },
  {
   "cell_type": "markdown",
   "metadata": {},
   "source": [
    "## Methods"
   ]
  },
  {
   "cell_type": "markdown",
   "metadata": {},
   "source": [
    "So far, our class doesn't do much!"
   ]
  },
  {
   "cell_type": "markdown",
   "metadata": {},
   "source": [
    "We define functions **inside** the definition of a class, in order to give them capabilities, just like the methods on built-in\n",
    "types."
   ]
  },
  {
   "cell_type": "code",
   "execution_count": null,
   "metadata": {},
   "outputs": [],
   "source": [
    "class Room:\n",
    "\n",
    "    def overfull(self):\n",
    "        \"\"\"Whether room is currently full beyond its capacity.\"\"\"\n",
    "        return len(self.occupants) > self.capacity"
   ]
  },
  {
   "cell_type": "code",
   "execution_count": null,
   "metadata": {},
   "outputs": [],
   "source": [
    "my_room = Room()\n",
    "my_room.capacity = 3\n",
    "my_room.occupants = [\"Alice\", \"Bob\"]"
   ]
  },
  {
   "cell_type": "code",
   "execution_count": null,
   "metadata": {},
   "outputs": [],
   "source": [
    "my_room.overfull()"
   ]
  },
  {
   "cell_type": "code",
   "execution_count": null,
   "metadata": {},
   "outputs": [],
   "source": [
    "my_room.occupants.append(['Carol'])"
   ]
  },
  {
   "cell_type": "code",
   "execution_count": null,
   "metadata": {},
   "outputs": [],
   "source": [
    "my_room.occupants.append(['Dan'])"
   ]
  },
  {
   "cell_type": "code",
   "execution_count": null,
   "metadata": {},
   "outputs": [],
   "source": [
    "my_room.overfull()"
   ]
  },
  {
   "cell_type": "markdown",
   "metadata": {},
   "source": [
    "When we write methods, we always write the first function argument as `self`, to refer to the object instance itself."
   ]
  },
  {
   "cell_type": "markdown",
   "metadata": {},
   "source": [
    "## Constructors"
   ]
  },
  {
   "cell_type": "markdown",
   "metadata": {},
   "source": [
    "Normally, though, we don't want to add data to the class attributes on the fly like that. \n",
    "Instead, we define a **constructor** that converts input data into an object. "
   ]
  },
  {
   "cell_type": "code",
   "execution_count": null,
   "metadata": {},
   "outputs": [],
   "source": [
    "class Room:\n",
    "\n",
    "    def __init__(self, name, exits, capacity, occupants=[]):\n",
    "        self.name = name\n",
    "        self.occupants = occupants # Note the default argument, occupants start empty\n",
    "        self.exits = exits\n",
    "        self.capacity = capacity\n",
    "        \n",
    "    def overfull(self):\n",
    "        \"\"\"Whether room is currently full beyond its capacity.\"\"\"\n",
    "        return len(self.occupants) > self.capacity"
   ]
  },
  {
   "cell_type": "code",
   "execution_count": null,
   "metadata": {},
   "outputs": [],
   "source": [
    "living_room = Room(\"Living room\", {'north': 'garden'}, 3)"
   ]
  },
  {
   "cell_type": "code",
   "execution_count": null,
   "metadata": {},
   "outputs": [],
   "source": [
    "living_room.capacity"
   ]
  },
  {
   "cell_type": "markdown",
   "metadata": {},
   "source": [
    "Methods which begin and end with **two underscores** in their names fulfil special capabilities in Python, such as\n",
    "constructors."
   ]
  },
  {
   "cell_type": "markdown",
   "metadata": {},
   "source": [
    "## Object-oriented design"
   ]
  },
  {
   "cell_type": "markdown",
   "metadata": {},
   "source": [
    "In building a computer system to model a problem, therefore, we often want to make:\n",
    "\n",
    "* classes for each *kind of thing* in our system\n",
    "* methods for each *capability* of that kind\n",
    "* properties (defined in a constructor) for each *piece of information describing* that kind\n"
   ]
  },
  {
   "cell_type": "markdown",
   "metadata": {},
   "source": [
    "For example, the below program might describe our \"Maze of Rooms\" system:"
   ]
  },
  {
   "cell_type": "markdown",
   "metadata": {},
   "source": [
    "We define a `Maze` class which can hold rooms:"
   ]
  },
  {
   "cell_type": "code",
   "execution_count": null,
   "metadata": {},
   "outputs": [],
   "source": [
    "class Maze:\n",
    "    \"\"\"A maze containing zero or more rooms.\"\"\"\n",
    "    \n",
    "    def __init__(self, name):\n",
    "        self.name = name\n",
    "        self.rooms = {}\n",
    "        \n",
    "    def add_room(self, room):\n",
    "        \"\"\"Add a room to the maze.\"\"\"\n",
    "        room.maze = self  # the room needs to know which maze it is a part of\n",
    "        self.rooms[room.name] = room\n",
    "    \n",
    "    def occupants(self):\n",
    "        \"\"\"Get list of occupants of all rooms in maze.\"\"\"\n",
    "        return  [\n",
    "            occupant \n",
    "            for room in self.rooms.values()\n",
    "            for occupant in room.occupants.values()\n",
    "        ]\n",
    "    \n",
    "    def wander(self):\n",
    "        \"\"\"Move all room occupants in a random direction.\"\"\"\n",
    "        for occupant in self.occupants():\n",
    "            occupant.wander()\n",
    "                \n",
    "    def describe(self):\n",
    "        \"\"\"Print a summary of the current state of the maze.\"\"\"\n",
    "        for room in self.rooms.values():\n",
    "            room.describe()\n",
    "            \n",
    "    def step(self):\n",
    "        \"\"\"Print summary of current maze state and then update.\"\"\"\n",
    "        print('=' * 80)\n",
    "        self.describe()\n",
    "        print('-' * 80)\n",
    "        self.wander()\n",
    "        \n",
    "    def simulate(self, steps):\n",
    "        \"\"\"Simulate maze by iteratively randomly moving occupants.\"\"\"\n",
    "        for _ in range(steps):\n",
    "            self.step()"
   ]
  },
  {
   "cell_type": "markdown",
   "metadata": {},
   "source": [
    "And a `Room` class with exits, and people:"
   ]
  },
  {
   "cell_type": "code",
   "execution_count": null,
   "metadata": {},
   "outputs": [],
   "source": [
    "import random\n",
    "\n",
    "class Room:\n",
    "    \"\"\"A room within a maze containing zero or more occupants.\"\"\"\n",
    "    \n",
    "    def __init__(self, name, exits, capacity, maze=None):\n",
    "        self.maze = maze\n",
    "        self.name = name\n",
    "        self.occupants = {} # Room occupants starts empty\n",
    "        self.exits = exits  # Should be a dictionary from directions to room names\n",
    "        self.capacity = capacity\n",
    "        \n",
    "    def has_space(self):\n",
    "        \"\"\"Whether the room has space for more occupants.\"\"\"\n",
    "        return len(self.occupants) < self.capacity\n",
    "    \n",
    "    def available_exits(self):\n",
    "        \"\"\"Get list of exits to rooms with space for more occupants.\"\"\"\n",
    "        return [\n",
    "            exit for exit, target in self.exits.items()\n",
    "            if self.maze.rooms[target].has_space()\n",
    "        ]\n",
    "            \n",
    "    def random_valid_exit(self):\n",
    "        \"\"\"Choose a random exit from those with space for more occupants.\"\"\"\n",
    "        if not self.available_exits():\n",
    "            return None\n",
    "        return random.choice(self.available_exits())\n",
    "\n",
    "    def destination(self, exit):\n",
    "        \"\"\"Get room destination corresponding to specified exit.\"\"\"\n",
    "        return self.maze.rooms[self.exits[exit]]\n",
    "    \n",
    "    def add_occupant(self, occupant):\n",
    "        \"\"\"Add an occupant to room.\"\"\"\n",
    "        occupant.room = self # The person needs to know which room it is in\n",
    "        self.occupants[occupant.name] = occupant\n",
    "        \n",
    "    def delete_occupant(self, occupant):\n",
    "        \"\"\"Remove an occupant from room.\"\"\"\n",
    "        self.occupants.pop(occupant.name)\n",
    "        \n",
    "    def describe(self):\n",
    "        \"\"\"Print a description of the current occupants of the room.\"\"\"\n",
    "        if self.occupants:\n",
    "            print(f\"{self.name.capitalize()}: {', '.join(self.occupants.keys())}\")"
   ]
  },
  {
   "cell_type": "markdown",
   "metadata": {},
   "source": [
    "We define a `Person` class for room occupants:"
   ]
  },
  {
   "cell_type": "code",
   "execution_count": null,
   "metadata": {},
   "outputs": [],
   "source": [
    "class Person:\n",
    "    \"\"\"A person within a room in maze.\"\"\"\n",
    "    \n",
    "    def __init__(self, name):\n",
    "        self.name = name\n",
    "    \n",
    "    def use(self, exit):\n",
    "        \"\"\"Use the specified exit to move to another room.\"\"\"\n",
    "        self.room.delete_occupant(self)\n",
    "        destination = self.room.destination(exit)\n",
    "        destination.add_occupant(self)\n",
    "        print(f\"{self.name} goes {exit} to the {destination.name}.\")\n",
    "    \n",
    "    def wander(self):\n",
    "        \"\"\"Try to move to another room via a random exit.\"\"\"\n",
    "        exit = self.room.random_valid_exit()\n",
    "        if exit:\n",
    "            self.use(exit)"
   ]
  },
  {
   "cell_type": "markdown",
   "metadata": {},
   "source": [
    "And we use these classes to define our people, rooms, and their relationships:"
   ]
  },
  {
   "cell_type": "code",
   "execution_count": null,
   "metadata": {},
   "outputs": [],
   "source": [
    "alice = Person('Alice')\n",
    "bob = Person('Bob')\n",
    "carol = Person('Carol')\n",
    "dan = Person('Dan')"
   ]
  },
  {
   "cell_type": "code",
   "execution_count": null,
   "metadata": {},
   "outputs": [],
   "source": [
    "living_room = Room('living room', {'outside': 'garden', 'upstairs': 'bedroom', 'north': 'kitchen'}, 2)\n",
    "kitchen = Room('kitchen', {'south': 'living room'}, 1)\n",
    "garden = Room('garden', {'inside': 'living room'}, 3)\n",
    "bedroom = Room('bedroom', {'jump': 'garden', 'downstairs': 'living room'}, 1)"
   ]
  },
  {
   "cell_type": "code",
   "execution_count": null,
   "metadata": {},
   "outputs": [],
   "source": [
    "house = Maze('house')\n",
    "for room in [living_room, kitchen, garden, bedroom]:\n",
    "    house.add_room(room)"
   ]
  },
  {
   "cell_type": "code",
   "execution_count": null,
   "metadata": {},
   "outputs": [],
   "source": [
    "living_room.add_occupant(alice)"
   ]
  },
  {
   "cell_type": "code",
   "execution_count": null,
   "metadata": {},
   "outputs": [],
   "source": [
    "garden.add_occupant(bob)\n",
    "garden.add_occupant(carol)"
   ]
  },
  {
   "cell_type": "code",
   "execution_count": null,
   "metadata": {},
   "outputs": [],
   "source": [
    "bedroom.add_occupant(dan)"
   ]
  },
  {
   "cell_type": "markdown",
   "metadata": {},
   "source": [
    "And we can run a \"simulation\" of our model:"
   ]
  },
  {
   "cell_type": "code",
   "execution_count": null,
   "metadata": {},
   "outputs": [],
   "source": [
    "house.simulate(3)"
   ]
  },
  {
   "cell_type": "markdown",
   "metadata": {},
   "source": [
    "## Object oriented design"
   ]
  },
  {
   "cell_type": "markdown",
   "metadata": {},
   "source": [
    "There are many choices for how to design programs to do this. Another choice would be to separately define exits as a different class from rooms. This way, \n",
    "we can use arrays instead of dictionaries, but we have to first define all our rooms, then define all our exits."
   ]
  },
  {
   "cell_type": "code",
   "execution_count": null,
   "metadata": {},
   "outputs": [],
   "source": [
    "class Maze:\n",
    "    \"\"\"A maze containing zero or more rooms.\"\"\"\n",
    "    \n",
    "    def __init__(self, name):\n",
    "        self.name = name\n",
    "        self.rooms = []\n",
    "        self.occupants = []\n",
    "        \n",
    "    def add_room(self, name, capacity):\n",
    "        \"\"\"Add room to maze with specified name and capacity.\"\"\"\n",
    "        result = Room(name, capacity)\n",
    "        self.rooms.append(result)\n",
    "        return result\n",
    "        \n",
    "    def add_exit(self, name, source, target, reverse=None):\n",
    "        \"\"\"Add exit from source to target room and optionally the reverse exit.\"\"\"\n",
    "        source.add_exit(name, target)\n",
    "        if reverse:\n",
    "            target.add_exit(reverse, source)\n",
    "            \n",
    "    def add_occupant(self, name, room):\n",
    "        \"\"\"Add an occupant to the specified room.\"\"\"\n",
    "        self.occupants.append(Person(name, room))\n",
    "        room.occupancy += 1\n",
    "    \n",
    "    def wander(self):\n",
    "        \"\"\"Move all room occupants in a random direction.\"\"\"\n",
    "        for occupant in self.occupants:\n",
    "            occupant.wander()\n",
    "                \n",
    "    def describe(self):\n",
    "        \"\"\"Print a summary of the current state of the maze.\"\"\"\n",
    "        for occupant in self.occupants:\n",
    "            occupant.describe()\n",
    "            \n",
    "    def step(self):\n",
    "        \"\"\"Print summary of current maze state and then update.\"\"\"\n",
    "        print('=' * 80)\n",
    "        self.describe()\n",
    "        print('-' * 80)\n",
    "        self.wander()\n",
    "        \n",
    "    def simulate(self, steps):\n",
    "        \"\"\"Simulate maze by iteratively randomly moving occupants.\"\"\"\n",
    "        for _ in range(steps):\n",
    "            self.step()"
   ]
  },
  {
   "cell_type": "code",
   "execution_count": null,
   "metadata": {},
   "outputs": [],
   "source": [
    "import random\n",
    "\n",
    "class Room:\n",
    "    \"\"\"A room within a maze containing zero or more occupants.\"\"\"\n",
    "    \n",
    "    def __init__(self, name, capacity):\n",
    "        self.name = name\n",
    "        self.capacity = capacity\n",
    "        self.occupancy = 0\n",
    "        self.exits = []\n",
    "        \n",
    "    def has_space(self):\n",
    "        \"\"\"Whether the room has space for more occupants.\"\"\"\n",
    "        return self.occupancy < self.capacity\n",
    "    \n",
    "    def available_exits(self):\n",
    "        \"\"\"Get list of exits to rooms with space for more occupants.\"\"\"\n",
    "        return [exit for exit in self.exits if exit.valid()]\n",
    "            \n",
    "    def random_valid_exit(self):\n",
    "        \"\"\"Choose a random exit from those with space for more occupants.\"\"\"\n",
    "        if not self.available_exits():\n",
    "            return None\n",
    "        return random.choice(self.available_exits())\n",
    "    \n",
    "    def add_exit(self, name, target):\n",
    "        \"\"\"Add an exit to the room.\"\"\"\n",
    "        self.exits.append(Exit(name, target))\n",
    "    "
   ]
  },
  {
   "cell_type": "code",
   "execution_count": null,
   "metadata": {},
   "outputs": [],
   "source": [
    "class Person:\n",
    "    \"\"\"A person within a room in maze.\"\"\"\n",
    "    \n",
    "    def __init__(self, name, room=None):\n",
    "        self.name = name\n",
    "        self.room = room\n",
    "    \n",
    "    def use(self, exit):\n",
    "        \"\"\"Use the specified exit to move to another room.\"\"\"\n",
    "        self.room.occupancy -= 1\n",
    "        destination = exit.target\n",
    "        destination.occupancy += 1\n",
    "        self.room = destination\n",
    "        print(f\"{self.name} goes {exit.name} to the {destination.name}.\")\n",
    "    \n",
    "    def wander(self):\n",
    "        \"\"\"Try to move to another room via a random exit.\"\"\"\n",
    "        exit = self.room.random_valid_exit()\n",
    "        if exit:\n",
    "            self.use(exit)\n",
    "            \n",
    "    def describe(self):\n",
    "        \"\"\"Print a description of current location in maze.\"\"\"\n",
    "        print(f\"{self.name} is in the {self.room.name}.\")"
   ]
  },
  {
   "cell_type": "code",
   "execution_count": null,
   "metadata": {},
   "outputs": [],
   "source": [
    "class Exit:\n",
    "    \"\"\"An exit from one room in maze to another.\"\"\"\n",
    "    \n",
    "    def __init__(self, name, target):\n",
    "        self.name = name\n",
    "        self.target = target\n",
    "    \n",
    "    def valid(self):\n",
    "        return self.target.has_space()"
   ]
  },
  {
   "cell_type": "code",
   "execution_count": null,
   "metadata": {},
   "outputs": [],
   "source": [
    "house = Maze('house')"
   ]
  },
  {
   "cell_type": "code",
   "execution_count": null,
   "metadata": {},
   "outputs": [],
   "source": [
    "living_room = house.add_room('living room', 2)\n",
    "bed = house.add_room('bedroom', 1)\n",
    "garden = house.add_room('garden', 3)\n",
    "kitchen = house.add_room('kitchen', 1)"
   ]
  },
  {
   "cell_type": "code",
   "execution_count": null,
   "metadata": {},
   "outputs": [],
   "source": [
    "house.add_exit('north', living_room, kitchen, 'south')"
   ]
  },
  {
   "cell_type": "code",
   "execution_count": null,
   "metadata": {},
   "outputs": [],
   "source": [
    "house.add_exit('upstairs', living_room, bed, 'downstairs')"
   ]
  },
  {
   "cell_type": "code",
   "execution_count": null,
   "metadata": {},
   "outputs": [],
   "source": [
    "house.add_exit('outside', living_room, garden, 'inside')"
   ]
  },
  {
   "cell_type": "code",
   "execution_count": null,
   "metadata": {},
   "outputs": [],
   "source": [
    "house.add_exit('jump', bed, garden)"
   ]
  },
  {
   "cell_type": "code",
   "execution_count": null,
   "metadata": {},
   "outputs": [],
   "source": [
    "house.add_occupant('Alice', living_room)\n",
    "house.add_occupant('Bob', garden)\n",
    "house.add_occupant('Carol', bed)\n",
    "house.add_occupant('Dan', garden)"
   ]
  },
  {
   "cell_type": "code",
   "execution_count": null,
   "metadata": {},
   "outputs": [],
   "source": [
    "house.simulate(3)"
   ]
  },
  {
   "cell_type": "markdown",
   "metadata": {},
   "source": [
    "This is a huge topic, about which many books have been written. The differences between these two designs are important, and will have long-term consequences for the project. That is the how we start to think about **software engineering**, as opposed to learning to program, and is where this course ends, and future courses begin!"
   ]
  },
  {
   "cell_type": "markdown",
   "metadata": {},
   "source": [
    "## Exercise: your own solution"
   ]
  },
  {
   "cell_type": "markdown",
   "metadata": {},
   "source": [
    "Compare the two solutions above. Which do you like better, and why? Sarting from scratch, design your own. What choices did you make that are different?"
   ]
  }
 ],
 "metadata": {
  "jekyll": {
   "display_name": "Classes"
  },
  "kernelspec": {
   "display_name": "Python 3",
   "language": "python",
   "name": "python3"
  },
  "language_info": {
   "codemirror_mode": {
    "name": "ipython",
    "version": 3
   },
   "file_extension": ".py",
   "mimetype": "text/x-python",
   "name": "python",
   "nbconvert_exporter": "python",
   "pygments_lexer": "ipython3",
   "version": "3.9.7"
  }
 },
 "nbformat": 4,
 "nbformat_minor": 4
}
