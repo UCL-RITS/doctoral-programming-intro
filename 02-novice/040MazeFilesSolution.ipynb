{
 "cells": [
  {
   "cell_type": "markdown",
   "metadata": {},
   "source": [
    "## Solution: saving and loading a maze\n",
    "\n",
    "An example maze data object:"
   ]
  },
  {
   "cell_type": "code",
   "execution_count": null,
   "metadata": {
    "tags": []
   },
   "outputs": [],
   "source": [
    "maze = {\n",
    "    'living' : {\n",
    "        'exits': {\n",
    "            'north' : 'kitchen',\n",
    "            'outside' : 'garden',\n",
    "            'upstairs' : 'bedroom'\n",
    "        },\n",
    "        'people' : ['James'],\n",
    "        'capacity' : 2\n",
    "    },\n",
    "    'kitchen' : {\n",
    "        'exits': {\n",
    "            'south' : 'living'\n",
    "        },\n",
    "        'people' : [],\n",
    "        'capacity' : 1\n",
    "    },\n",
    "    'garden' : {\n",
    "        'exits': {\n",
    "            'inside' : 'living'\n",
    "        },\n",
    "        'people' : ['Sue'],\n",
    "        'capacity' : 3\n",
    "    },\n",
    "    'bedroom' : {\n",
    "        'exits': {\n",
    "            'downstairs' : 'living',\n",
    "            'jump' : 'garden'\n",
    "        },\n",
    "        'people' : [],\n",
    "        'capacity' : 1\n",
    "    }\n",
    "}"
   ]
  },
  {
   "cell_type": "markdown",
   "metadata": {},
   "source": [
    "### JSON\n",
    "\n",
    "We can save the maze to a file using the `json` module as follows:"
   ]
  },
  {
   "cell_type": "code",
   "execution_count": null,
   "metadata": {
    "jupyter": {
     "outputs_hidden": false
    }
   },
   "outputs": [],
   "source": [
    "import json\n",
    "with open('maze.json', 'w') as json_maze_out:\n",
    "    json.dump(maze, json_maze_out)"
   ]
  },
  {
   "cell_type": "markdown",
   "metadata": {},
   "source": [
    "We can then load the saved JSON file in to another variable as follows"
   ]
  },
  {
   "cell_type": "code",
   "execution_count": null,
   "metadata": {
    "jupyter": {
     "outputs_hidden": false
    }
   },
   "outputs": [],
   "source": [
    "with open('maze.json', 'r') as json_maze_in:\n",
    "    loaded_maze = json.load(json_maze_in)\n",
    "print(loaded_maze)"
   ]
  },
  {
   "cell_type": "markdown",
   "metadata": {},
   "source": [
    "As a sanity check we can evaluate whether the loaded maze object is equal to the maze object we first defined"
   ]
  },
  {
   "cell_type": "code",
   "execution_count": null,
   "metadata": {
    "jupyter": {
     "outputs_hidden": false
    }
   },
   "outputs": [],
   "source": [
    "print(loaded_maze == maze)"
   ]
  },
  {
   "cell_type": "markdown",
   "metadata": {},
   "source": [
    "### YAML\n",
    "\n",
    "We can save the maze to a file using the `yaml` module as follows:"
   ]
  },
  {
   "cell_type": "code",
   "execution_count": null,
   "metadata": {
    "tags": []
   },
   "outputs": [],
   "source": [
    "import yaml\n",
    "with open('maze.yaml', 'w') as yaml_maze_out:\n",
    "    yaml.dump(maze, stream=yaml_maze_out)"
   ]
  },
  {
   "cell_type": "markdown",
   "metadata": {
    "tags": []
   },
   "source": [
    "We can then load the saved YAML file in to another variable as follows"
   ]
  },
  {
   "cell_type": "code",
   "execution_count": null,
   "metadata": {
    "jupyter": {
     "outputs_hidden": false
    }
   },
   "outputs": [],
   "source": [
    "with open('maze.yaml', 'r') as yaml_maze_in:\n",
    "    loaded_maze = yaml.safe_load(yaml_maze_in)\n",
    "print(loaded_maze)"
   ]
  },
  {
   "cell_type": "markdown",
   "metadata": {},
   "source": [
    "As a sanity check we can evaluate whether the loaded maze object is equal to the maze object `house` we first defined"
   ]
  },
  {
   "cell_type": "code",
   "execution_count": null,
   "metadata": {
    "tags": []
   },
   "outputs": [],
   "source": [
    "print(loaded_maze == maze)"
   ]
  }
 ],
 "metadata": {
  "jekyll": {
   "display_name": "Maze files solution"
  },
  "kernelspec": {
   "display_name": "Python 3 (ipykernel)",
   "language": "python",
   "name": "python3"
  },
  "language_info": {
   "codemirror_mode": {
    "name": "ipython",
    "version": 3
   },
   "file_extension": ".py",
   "mimetype": "text/x-python",
   "name": "python",
   "nbconvert_exporter": "python",
   "pygments_lexer": "ipython3",
   "version": "3.8.11"
  }
 },
 "nbformat": 4,
 "nbformat_minor": 4
}
