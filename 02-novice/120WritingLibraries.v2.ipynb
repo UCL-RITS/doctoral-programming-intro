{
 "metadata": {
  "jekyll": {
   "display_name": "Writing libraries"
  },
  "kernelspec": {
   "display_name": "Python 3",
   "language": "python",
   "name": "python3"
  },
  "language_info": {
   "codemirror_mode": {
    "name": "ipython",
    "version": 3
   },
   "file_extension": ".py",
   "mimetype": "text/x-python",
   "name": "python",
   "nbconvert_exporter": "python",
   "pygments_lexer": "ipython3",
   "version": "3.8.14"
  },
  "name": ""
 },
 "nbformat": 2,
 "nbformat_minor": 0,
 "orig_nbformat": 4,
 "orig_nbformat_minor": 5,
 "worksheets": [
  {
   "cells": [
    {
     "cell_type": "markdown",
     "metadata": {},
     "source": [
      "# Writing your Own Libraries"
     ]
    },
    {
     "cell_type": "markdown",
     "metadata": {},
     "source": [
      "We will often want to save our Python classes, for use in multiple Notebooks.",
      "We can do this by writing text files with a .py extension, and then `importing` them."
     ]
    },
    {
     "cell_type": "markdown",
     "metadata": {},
     "source": [
      "## Writing Python in Text Files"
     ]
    },
    {
     "cell_type": "markdown",
     "metadata": {},
     "source": [
      "You can use a text editor like [Atom](https://atom.io) for Mac or [Notepad++](https://notepad-plus-plus.org) for windows to do this. If you create your own Python files ending in .py, then you can import them with `import` just like external libraries."
     ]
    },
    {
     "cell_type": "markdown",
     "metadata": {},
     "source": [
      "You can also maintain your library code in a Notebook, and use %%writefile to create your library."
     ]
    },
    {
     "cell_type": "markdown",
     "metadata": {},
     "source": [
      "Libraries are usually structured with multiple files, one for each class."
     ]
    },
    {
     "cell_type": "markdown",
     "metadata": {},
     "source": [
      "We group our modules into packages, by putting them together into a folder. You can do this with explorer, or using a shell, or even with Python:"
     ]
    },
    {
     "cell_type": "code",
     "collapsed": false,
     "input": [
      "import os",
      "if 'mazetool' not in os.listdir(os.getcwd()):",
      "    os.mkdir('mazetool')"
     ],
     "language": "python",
     "metadata": {},
     "outputs": [],
     "prompt_number": 1
    },
    {
     "cell_type": "code",
     "collapsed": false,
     "input": [
      "%%writefile mazetool/maze.py",
      "from .room import Room",
      "from .person import Person",
      "",
      "class Maze(object):",
      "    def __init__(self, name):",
      "        self.name = name",
      "        self.rooms = []",
      "        self.occupants = []",
      "        ",
      "    def add_room(self, name, capacity):",
      "        result = Room(name, capacity)",
      "        self.rooms.append(result)",
      "        return result",
      "        ",
      "    def add_exit(self, name, source, target, reverse= None):",
      "        source.add_exit(name, target)",
      "        if reverse:",
      "            target.add_exit(reverse, source)",
      "            ",
      "    def add_occupant(self, name, room):",
      "        self.occupants.append(Person(name, room))",
      "        room.occupancy += 1",
      "    ",
      "    def wander(self):",
      "        \"Move all the people in a random direction\"",
      "        for occupant in self.occupants:",
      "            occupant.wander()",
      "                ",
      "    def describe(self):",
      "        for occupant in self.occupants:",
      "            occupant.describe()",
      "            ",
      "    def step(self):",
      "        house.describe()",
      "        print()",
      "        house.wander()",
      "        print()",
      "        ",
      "    def simulate(self, steps):",
      "        for _ in range(steps):",
      "            self.step()"
     ],
     "language": "python",
     "metadata": {},
     "outputs": [
      {
       "output_type": "stream",
       "stream": "stdout",
       "text": [
        "Writing mazetool/maze.py"
       ]
      }
     ],
     "prompt_number": 2
    },
    {
     "cell_type": "code",
     "collapsed": false,
     "input": [
      "%%writefile mazetool/room.py",
      "from .exit import Exit",
      "",
      "",
      "class Room(object):",
      "    def __init__(self, name, capacity):",
      "        self.name = name",
      "        self.capacity = capacity",
      "        self.occupancy = 0",
      "        self.exits = []",
      "        ",
      "    def has_space(self):",
      "        return self.occupancy < self.capacity",
      "    ",
      "    def available_exits(self):",
      "        return [exit for exit in self.exits if exit.valid() ]",
      "            ",
      "    def random_valid_exit(self):",
      "        import random",
      "        if not self.available_exits():",
      "            return None",
      "        return random.choice(self.available_exits())",
      "    ",
      "    def add_exit(self, name, target):",
      "        self.exits.append(Exit(name, target))",
      "    "
     ],
     "language": "python",
     "metadata": {},
     "outputs": [
      {
       "output_type": "stream",
       "stream": "stdout",
       "text": [
        "Writing mazetool/room.py"
       ]
      }
     ],
     "prompt_number": 3
    },
    {
     "cell_type": "code",
     "collapsed": false,
     "input": [
      "%%writefile mazetool/person.py",
      "",
      "class Person(object):",
      "    def __init__(self, name, room = None):",
      "        self.name=name",
      "        self.room=room",
      "    ",
      "    def use(self, exit):",
      "        self.room.occupancy -= 1",
      "        destination=exit.target",
      "        destination.occupancy +=1",
      "        self.room=destination",
      "        print(self.name, \"goes\", exit.name, \"to the\", destination.name)",
      "    ",
      "    def wander(self):",
      "        exit = self.room.random_valid_exit()",
      "        if exit:",
      "            self.use(exit)",
      "            ",
      "    def describe(self):",
      "        print(self.name, \"is in the\", self.room.name)"
     ],
     "language": "python",
     "metadata": {},
     "outputs": [
      {
       "output_type": "stream",
       "stream": "stdout",
       "text": [
        "Writing mazetool/person.py"
       ]
      }
     ],
     "prompt_number": 4
    },
    {
     "cell_type": "code",
     "collapsed": false,
     "input": [
      "%%writefile mazetool/exit.py",
      "",
      "class Exit(object):",
      "    def __init__(self, name, target):",
      "        self.name = name",
      "        self.target = target",
      "    ",
      "    def valid(self):",
      "        return self.target.has_space()"
     ],
     "language": "python",
     "metadata": {},
     "outputs": [
      {
       "output_type": "stream",
       "stream": "stdout",
       "text": [
        "Writing mazetool/exit.py"
       ]
      }
     ],
     "prompt_number": 5
    },
    {
     "cell_type": "markdown",
     "metadata": {},
     "source": [
      "In order to tell Python that our \"mazetool\" folder is a Python package, ",
      "we have to make a special file called `__init__.py`. If you import things in there, they are imported as part of the package:"
     ]
    },
    {
     "cell_type": "code",
     "collapsed": false,
     "input": [
      "%%writefile mazetool/__init__.py",
      "from .maze import Maze"
     ],
     "language": "python",
     "metadata": {},
     "outputs": [
      {
       "output_type": "stream",
       "stream": "stdout",
       "text": [
        "Writing mazetool/__init__.py"
       ]
      }
     ],
     "prompt_number": 6
    },
    {
     "cell_type": "markdown",
     "metadata": {},
     "source": [
      "## Loading Our Package"
     ]
    },
    {
     "cell_type": "markdown",
     "metadata": {},
     "source": [
      "We just wrote the files, there is no \"Maze\" class in this notebook yet:"
     ]
    },
    {
     "cell_type": "code",
     "collapsed": false,
     "input": [
      "myhouse = Maze()"
     ],
     "language": "python",
     "metadata": {},
     "outputs": [
      {
       "ename": "NameError",
       "evalue": "name 'Maze' is not defined",
       "output_type": "pyerr",
       "traceback": [
        "\u001b[0;31m---------------------------------------------------------------------------\u001b[0m",
        "\u001b[0;31mNameError\u001b[0m                                 Traceback (most recent call last)",
        "Cell \u001b[0;32mIn [7], line 1\u001b[0m\n\u001b[0;32m----> 1\u001b[0m myhouse \u001b[38;5;241m=\u001b[39m \u001b[43mMaze\u001b[49m()\n",
        "\u001b[0;31mNameError\u001b[0m: name 'Maze' is not defined"
       ]
      }
     ],
     "prompt_number": 7
    },
    {
     "cell_type": "markdown",
     "metadata": {},
     "source": [
      "But now, we can import Maze, (and the other files will get imported via the chained Import statements, starting from the `__init__.py` file."
     ]
    },
    {
     "cell_type": "code",
     "collapsed": false,
     "input": [
      "from mazetool import Maze"
     ],
     "language": "python",
     "metadata": {},
     "outputs": [],
     "prompt_number": 8
    },
    {
     "cell_type": "code",
     "collapsed": false,
     "input": [
      "house=Maze('My New House')",
      "living=house.add_room('livingroom', 2)"
     ],
     "language": "python",
     "metadata": {},
     "outputs": [],
     "prompt_number": 9
    },
    {
     "cell_type": "markdown",
     "metadata": {},
     "source": [
      "Note the files we have created are on the disk in the folder we made:"
     ]
    },
    {
     "cell_type": "code",
     "collapsed": false,
     "input": [
      "import os"
     ],
     "language": "python",
     "metadata": {},
     "outputs": [],
     "prompt_number": 10
    },
    {
     "cell_type": "code",
     "collapsed": false,
     "input": [
      "os.listdir(os.path.join(os.getcwd(),'mazetool') )"
     ],
     "language": "python",
     "metadata": {},
     "outputs": [
      {
       "metadata": {},
       "output_type": "pyout",
       "prompt_number": 11,
       "text": [
        "['__pycache__', 'exit.py', 'room.py', 'maze.py', 'person.py', '__init__.py']"
       ]
      }
     ],
     "prompt_number": 11
    },
    {
     "cell_type": "markdown",
     "metadata": {},
     "source": [
      "`.pyc` files are \"Compiled\" temporary python files that the system generates to speed things up. They'll be regenerated",
      "on the fly when your `.py` files change."
     ]
    },
    {
     "cell_type": "markdown",
     "metadata": {},
     "source": [
      "## The Python Path"
     ]
    },
    {
     "cell_type": "markdown",
     "metadata": {},
     "source": [
      "We want to `import` these from notebooks elsewhere on our computer:",
      "it would be a bad idea to keep all our Python work in one folder."
     ]
    },
    {
     "cell_type": "markdown",
     "metadata": {},
     "source": [
      "**Supplementary material** The best way to do this is to learn how to make our code",
      "into a proper module that we can install. That's beyond the scope of this course, but read about [setuptools](https://pythonhosted.org/setuptools/) if you want to know more."
     ]
    },
    {
     "cell_type": "markdown",
     "metadata": {},
     "source": [
      "Alternatively, we can add a folder to the \"Python Path\", where python searches for modules:"
     ]
    },
    {
     "cell_type": "code",
     "collapsed": false,
     "input": [
      "import sys",
      "for path in sys.path[::-1]:",
      "    print(path)"
     ],
     "language": "python",
     "metadata": {},
     "outputs": [
      {
       "output_type": "stream",
       "stream": "stdout",
       "text": [
        "/opt/hostedtoolcache/Python/3.8.14/x64/lib/python3.8/site-packages",
        "",
        "/opt/hostedtoolcache/Python/3.8.14/x64/lib/python3.8/lib-dynload",
        "/opt/hostedtoolcache/Python/3.8.14/x64/lib/python3.8",
        "/opt/hostedtoolcache/Python/3.8.14/x64/lib/python38.zip",
        "/home/runner/work/doctoral-programming-intro/doctoral-programming-intro/02-novice"
       ]
      }
     ],
     "prompt_number": 12
    },
    {
     "cell_type": "code",
     "collapsed": false,
     "input": [
      "sys.path.append('/home/jamespjh/devel/libraries/python')"
     ],
     "language": "python",
     "metadata": {},
     "outputs": [],
     "prompt_number": 13
    },
    {
     "cell_type": "code",
     "collapsed": false,
     "input": [
      "print(sys.path[-1])"
     ],
     "language": "python",
     "metadata": {},
     "outputs": [
      {
       "output_type": "stream",
       "stream": "stdout",
       "text": [
        "/home/jamespjh/devel/libraries/python"
       ]
      }
     ],
     "prompt_number": 14
    },
    {
     "cell_type": "markdown",
     "metadata": {},
     "source": [
      "I've thus added a folder to the list of places searched. If you want to do this permanently, you should set the PYTHONPATH Environment Variable,",
      "which you can learn about in a shell course, or can read about online for your operating system."
     ]
    }
   ],
   "metadata": {}
  }
 ]
}
