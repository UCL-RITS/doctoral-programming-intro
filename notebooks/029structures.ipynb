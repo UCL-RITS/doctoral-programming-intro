{
 "cells": [
  {
   "cell_type": "markdown",
   "metadata": {},
   "source": [
    "# Data structures"
   ]
  },
  {
   "cell_type": "markdown",
   "metadata": {},
   "source": [
    "## Nested Lists and Dictionaries"
   ]
  },
  {
   "cell_type": "markdown",
   "metadata": {},
   "source": [
    "In research programming, one of our most common tasks is building an appropriate *structure* to model our complicated\n",
    "data. Later in the course, we'll see how we can define our own types, with their own attributes, properties, and methods. But probably the most common approach is to use nested structures of lists, dictionaries, and sets to model our data. For example, an address might be modelled as a dictionary with appropriately named fields:"
   ]
  },
  {
   "cell_type": "code",
   "execution_count": 1,
   "metadata": {
    "collapsed": true
   },
   "outputs": [],
   "source": [
    "UCL={'City': 'London', \n",
    "     'Street': 'Gower Street',\n",
    "     'Postcode': 'WC1E 6BT'}"
   ]
  },
  {
   "cell_type": "code",
   "execution_count": 2,
   "metadata": {
    "collapsed": true
   },
   "outputs": [],
   "source": [
    "MyHouse={\n",
    "    'City': 'London',\n",
    "    'Street': 'Waterson Street',\n",
    "    'Postcode': 'E2 8HH'\n",
    "}"
   ]
  },
  {
   "cell_type": "markdown",
   "metadata": {},
   "source": [
    "A collection of people's addresses is then a list of dictionaries:"
   ]
  },
  {
   "cell_type": "code",
   "execution_count": 3,
   "metadata": {
    "collapsed": true
   },
   "outputs": [],
   "source": [
    "addresses=[UCL, MyHouse]"
   ]
  },
  {
   "cell_type": "code",
   "execution_count": 4,
   "metadata": {},
   "outputs": [
    {
     "data": {
      "text/plain": [
       "[{'City': 'London', 'Postcode': 'WC1E 6BT', 'Street': 'Gower Street'},\n",
       " {'City': 'London', 'Postcode': 'E2 8HH', 'Street': 'Waterson Street'}]"
      ]
     },
     "execution_count": 4,
     "metadata": {},
     "output_type": "execute_result"
    }
   ],
   "source": [
    "addresses"
   ]
  },
  {
   "cell_type": "markdown",
   "metadata": {},
   "source": [
    "A more complicated data structure, for example for a census database, might have a list of residents or employees at each address:"
   ]
  },
  {
   "cell_type": "code",
   "execution_count": 5,
   "metadata": {
    "collapsed": true
   },
   "outputs": [],
   "source": [
    "UCL['people'] = ['Clare','James', 'Owain']"
   ]
  },
  {
   "cell_type": "code",
   "execution_count": 6,
   "metadata": {
    "collapsed": true
   },
   "outputs": [],
   "source": [
    "MyHouse['people'] = ['Sue', 'James']"
   ]
  },
  {
   "cell_type": "code",
   "execution_count": 7,
   "metadata": {},
   "outputs": [
    {
     "data": {
      "text/plain": [
       "[{'City': 'London',\n",
       "  'Postcode': 'WC1E 6BT',\n",
       "  'Street': 'Gower Street',\n",
       "  'people': ['Clare', 'James', 'Owain']},\n",
       " {'City': 'London',\n",
       "  'Postcode': 'E2 8HH',\n",
       "  'Street': 'Waterson Street',\n",
       "  'people': ['Sue', 'James']}]"
      ]
     },
     "execution_count": 7,
     "metadata": {},
     "output_type": "execute_result"
    }
   ],
   "source": [
    "addresses"
   ]
  },
  {
   "cell_type": "markdown",
   "metadata": {},
   "source": [
    "Which is then a list of dictionaries, with keys which are strings or lists."
   ]
  },
  {
   "cell_type": "markdown",
   "metadata": {},
   "source": [
    "We can go further, e.g.:"
   ]
  },
  {
   "cell_type": "code",
   "execution_count": 8,
   "metadata": {
    "collapsed": true
   },
   "outputs": [],
   "source": [
    "UCL['Residential'] = False"
   ]
  },
  {
   "cell_type": "markdown",
   "metadata": {},
   "source": [
    "And we can write code against our structures:"
   ]
  },
  {
   "cell_type": "code",
   "execution_count": 9,
   "metadata": {},
   "outputs": [
    {
     "name": "stdout",
     "output_type": "stream",
     "text": [
      "['Clare', 'Sue']\n"
     ]
    }
   ],
   "source": [
    "leaders =  [place['people'][0] for place in addresses]\n",
    "print(leaders)"
   ]
  },
  {
   "cell_type": "markdown",
   "metadata": {},
   "source": [
    "This was an example of a 'list comprehension', which have used to get data of this structure, and which we'll see more of in a moment..."
   ]
  },
  {
   "cell_type": "markdown",
   "metadata": {},
   "source": [
    "## Exercise: a Maze Model."
   ]
  },
  {
   "cell_type": "markdown",
   "metadata": {},
   "source": [
    "Work with a partner to design a data structure to represent a maze using dictionaries and lists."
   ]
  },
  {
   "cell_type": "markdown",
   "metadata": {},
   "source": [
    "* Each place in the maze has a name, which is a string.\n",
    "* Each place in the maze has zero or more people currently standing at it, by name.\n",
    "* Each place in the maze has a maximum capacity of people that can fit in it.\n",
    "* From each place in the maze, you can go from that place to a few other places, using a direction like 'up', 'north', \n",
    "or 'sideways'"
   ]
  },
  {
   "cell_type": "markdown",
   "metadata": {},
   "source": [
    "Create an example instance, in a notebook, of a simple structure for your maze:"
   ]
  },
  {
   "cell_type": "markdown",
   "metadata": {},
   "source": [
    "* The front room can hold 2 people. James is currently there. You can go outside to the garden, or upstairs to the bedroom, or north to the kitchen.\n",
    "* From the kitchen, you can go south to the front room. It fits 1 person.\n",
    "* From the garden you can go inside to living room. It fits 3 people. Sue is currently there.\n",
    "* From the bedroom, you can go downstairs. You can also jump out of the window to the garden. It fits 2 people."
   ]
  },
  {
   "cell_type": "markdown",
   "metadata": {},
   "source": [
    "Make sure that your model:\n",
    "\n",
    "* Allows empty rooms\n",
    "* Allows you to jump out of the upstairs window, but not to fly back up.\n",
    "* Allows rooms which people can't fit in."
   ]
  },
  {
   "cell_type": "code",
   "execution_count": 10,
   "metadata": {},
   "outputs": [],
   "source": [
    "cities = [{'name': \"London\", \"capacity\": 8, \"residents\": [\"Me\",\"Sue\"]}, \n",
    " {'name': \"Edinburgh\", \"capacity\": 1, \"residents\": [\"Dave\"]},\n",
    " {'name': \"Cardiff\", \"capacity\": 1, \"residents\": []}]"
   ]
  },
  {
   "cell_type": "code",
   "execution_count": 11,
   "metadata": {},
   "outputs": [
    {
     "data": {
      "text/plain": [
       "0"
      ]
     },
     "execution_count": 11,
     "metadata": {},
     "output_type": "execute_result"
    }
   ],
   "source": [
    "len(cities[2]['residents'])"
   ]
  }
 ],
 "metadata": {
  "jekyll": {
   "display_name": "Structures"
  },
  "kernelspec": {
   "display_name": "Python 3",
   "language": "python",
   "name": "python3"
  },
  "language_info": {
   "codemirror_mode": {
    "name": "ipython",
    "version": 3
   },
   "file_extension": ".py",
   "mimetype": "text/x-python",
   "name": "python",
   "nbconvert_exporter": "python",
   "pygments_lexer": "ipython3",
   "version": "3.6.3"
  }
 },
 "nbformat": 4,
 "nbformat_minor": 1
}
