{
 "cells": [
  {
   "cell_type": "markdown",
   "metadata": {},
   "source": [
    "# Introduction"
   ]
  },
  {
   "cell_type": "markdown",
   "metadata": {},
   "source": [
    "## Why teach Python?"
   ]
  },
  {
   "cell_type": "markdown",
   "metadata": {},
   "source": [
    "\n",
    "* In this first session, we will introduce [Python](http://www.python.org).\n",
    "* This course is about programming for data analysis and visualisation in research.\n",
    "* It's not mainly about Python.\n",
    "* But we have to use some language.\n"
   ]
  },
  {
   "cell_type": "markdown",
   "metadata": {},
   "source": [
    "### Why Python?"
   ]
  },
  {
   "cell_type": "markdown",
   "metadata": {},
   "source": [
    "\n",
    "* Python is quick to program in\n",
    "* Python is popular in research, and has lots of libraries for science\n",
    "* Python interfaces well with faster languages\n",
    "* Python is free, so you'll never have a problem getting hold of it, wherever you go.\n"
   ]
  },
  {
   "cell_type": "markdown",
   "metadata": {},
   "source": [
    "### Why write programs for research?"
   ]
  },
  {
   "cell_type": "markdown",
   "metadata": {},
   "source": [
    "\n",
    "* Not just labour saving\n",
    "* Scripted research can be tested and reproduced\n"
   ]
  },
  {
   "cell_type": "markdown",
   "metadata": {},
   "source": [
    "### Sensible Input  - Reasonable Output"
   ]
  },
  {
   "cell_type": "markdown",
   "metadata": {},
   "source": [
    "Programs are a rigorous way of describing data analysis for other researchers, as well as for computers.\n",
    "\n",
    "Computational research suffers from people assuming each other's data manipulation is correct. By sharing codes,\n",
    "which are much more easy for a non-author to understand than spreadsheets, we can avoid the \"SIRO\" problem. The old saw \"Garbage in Garbage out\" is not the real problem for science:\n",
    "\n",
    "* Sensible input\n",
    "* Reasonable output\n",
    "\n"
   ]
  },
  {
   "cell_type": "markdown",
   "metadata": {},
   "source": [
    "## Many kinds of Python"
   ]
  },
  {
   "cell_type": "markdown",
   "metadata": {},
   "source": [
    "### The Jupyter Notebook (IPython)"
   ]
  },
  {
   "cell_type": "markdown",
   "metadata": {},
   "source": [
    "The easiest way to get started using Python, and one of the best for research data work, is the Jupyter Notebook (IPython)."
   ]
  },
  {
   "cell_type": "markdown",
   "metadata": {},
   "source": [
    "In the notebook, you can easily mix code with discussion and commentary, and mix code with the results of that code;\n",
    "including graphs and other data visualisations."
   ]
  },
  {
   "cell_type": "code",
   "execution_count": 1,
   "metadata": {},
   "outputs": [
    {
     "data": {
      "text/plain": [
       "[<matplotlib.lines.Line2D at 0x7fdccb0e0128>]"
      ]
     },
     "execution_count": 1,
     "metadata": {},
     "output_type": "execute_result"
    },
    {
     "data": {
      "image/png": "[encoded data removed]",
      "text/plain": [
       "<matplotlib.figure.Figure at 0x7fdce85fc9e8>"
      ]
     },
     "metadata": {},
     "output_type": "display_data"
    }
   ],
   "source": [
    "### Make plot\n",
    "%matplotlib inline\n",
    "import numpy as np\n",
    "import math\n",
    "import matplotlib.pyplot as plt\n",
    "\n",
    "theta=np.arange(0,4*math.pi,0.1)\n",
    "eight=plt.figure()\n",
    "axes=eight.add_axes([0,0,1,1])\n",
    "axes.plot(0.5*np.sin(theta),np.cos(theta/2))"
   ]
  },
  {
   "cell_type": "markdown",
   "metadata": {},
   "source": [
    "We're going to be mainly working in the Jupyter notebook in this course. To get hold of a copy of the notebook, follow the setup instructions shown on the course website, or use the installation in UCL teaching cluster rooms."
   ]
  },
  {
   "cell_type": "markdown",
   "metadata": {},
   "source": [
    "Jupyter notebooks consist of discussion cells, referred to as \"markdown cells\", and \"code cells\", which contain Python. This document has been created using Jupyter notebook, and this very cell is a **Markdown Cell**. "
   ]
  },
  {
   "cell_type": "code",
   "execution_count": 2,
   "metadata": {},
   "outputs": [
    {
     "name": "stdout",
     "output_type": "stream",
     "text": [
      "This cell is a code cell\n"
     ]
    }
   ],
   "source": [
    "print(\"This cell is a code cell\")"
   ]
  },
  {
   "cell_type": "markdown",
   "metadata": {},
   "source": [
    "Code cell inputs are numbered, and show the output below."
   ]
  },
  {
   "cell_type": "markdown",
   "metadata": {},
   "source": [
    "Markdown cells contain text which uses a simple format to achive pretty layout, \n",
    "for example, to obtain:\n",
    "\n",
    "**bold**, *italic*, ~~striketrough~~, `monospace`\n",
    "\n",
    "* Bullet\n",
    "\n",
    "> Quote\n",
    "\n",
    "[Link to search](https://duckduckgo.com/)\n",
    "\n",
    "We write:\n",
    "\n",
    "    **bold**, *italic*, ~~striketrough~~, `monospace`\n",
    "\n",
    "    * Bullet\n",
    "\n",
    "    > Quote\n",
    "    \n",
    "    [Link to search](https://duckduckgo.com/)\n",
    "\n",
    "For more information [see the Markdown documentation](http://daringfireball.net/projects/markdown/)."
   ]
  },
  {
   "cell_type": "markdown",
   "metadata": {},
   "source": [
    "### Typing code in the notebook"
   ]
  },
  {
   "cell_type": "markdown",
   "metadata": {},
   "source": [
    "When working with the notebook, you can either be in a cell, typing its contents, or outside cells, moving around the notebook.\n",
    "\n",
    "* When in a cell, press escape to leave it. When moving around outside cells, press return to enter.\n",
    "* Outside a cell:\n",
    "  * Use arrow keys to move around.\n",
    "  * Press `b` to add a new cell below the cursor.\n",
    "  * Press `m` to turn a cell from code mode to markdown mode.\n",
    "  * Press `shift`+`enter` to calculate the code in the block.\n",
    "  * Press `h` to see a list of useful keys in the notebook.\n",
    "* Inside a cell:\n",
    "  * Press `tab` to suggest completions of variables. (Try it!)"
   ]
  },
  {
   "cell_type": "markdown",
   "metadata": {},
   "source": [
    "*Supplementary material*: Learn more about the [notebooks](http://jupyter.org/)."
   ]
  },
  {
   "cell_type": "markdown",
   "metadata": {},
   "source": [
    "### Python at the command line"
   ]
  },
  {
   "cell_type": "markdown",
   "metadata": {},
   "source": [
    "Data science experts tend to use a \"command line environment\" to work. You'll be able to learn this at our \"Software Carpentry\" workshops, which cover other skills for computationally based research."
   ]
  },
  {
   "cell_type": "code",
   "execution_count": 3,
   "metadata": {},
   "outputs": [
    {
     "name": "stdout",
     "output_type": "stream",
     "text": [
      "8\n"
     ]
    }
   ],
   "source": [
    "%%bash\n",
    "# Above line tells Python to execute this cell as *shell code*\n",
    "# not Python, as if we were in a command line\n",
    "# This is called a 'cell magic'\n",
    "\n",
    "python -c \"print(2*4)\""
   ]
  },
  {
   "cell_type": "markdown",
   "metadata": {},
   "source": [
    "### Python scripts"
   ]
  },
  {
   "cell_type": "markdown",
   "metadata": {},
   "source": [
    "Once you get good at programming, you'll  want to be able to write your own full programs in Python, which work just\n",
    "like any other program on your computer. We'll not cover this in this course, you can learn more about this in [MPHYG001](http://github-pages.ucl.ac.uk/rsd-engineeringcourse/). Here are some examples:"
   ]
  },
  {
   "cell_type": "code",
   "execution_count": 4,
   "metadata": {},
   "outputs": [
    {
     "name": "stdout",
     "output_type": "stream",
     "text": [
      "Overwriting eight.py\n"
     ]
    }
   ],
   "source": [
    "%%writefile eight.py\n",
    "print(2*4)"
   ]
  },
  {
   "cell_type": "code",
   "execution_count": 5,
   "metadata": {},
   "outputs": [
    {
     "name": "stdout",
     "output_type": "stream",
     "text": [
      "8\n"
     ]
    }
   ],
   "source": [
    "%%bash\n",
    "python eight.py"
   ]
  },
  {
   "cell_type": "markdown",
   "metadata": {},
   "source": [
    "We can make the script directly executable (on Linux or Mac) by inserting \n",
    "a [hashbang](https://en.wikipedia.org/wiki/Shebang_(Unix) and \n",
    "[setting the permissions](http://v4.software-carpentry.org/shell/perm.html) to execute."
   ]
  },
  {
   "cell_type": "code",
   "execution_count": 6,
   "metadata": {},
   "outputs": [
    {
     "name": "stdout",
     "output_type": "stream",
     "text": [
      "Overwriting eight.py\n"
     ]
    }
   ],
   "source": [
    "%%writefile eight.py\n",
    "#! /usr/bin/env python\n",
    "print(2*7)"
   ]
  },
  {
   "cell_type": "code",
   "execution_count": 7,
   "metadata": {
    "collapsed": true
   },
   "outputs": [],
   "source": [
    "%%bash\n",
    "chmod u+x eight.py"
   ]
  },
  {
   "cell_type": "code",
   "execution_count": 8,
   "metadata": {
    "scrolled": true
   },
   "outputs": [
    {
     "name": "stdout",
     "output_type": "stream",
     "text": [
      "14\n"
     ]
    }
   ],
   "source": [
    "%%bash\n",
    "./eight.py"
   ]
  },
  {
   "cell_type": "markdown",
   "metadata": {},
   "source": [
    "### Python Libraries"
   ]
  },
  {
   "cell_type": "markdown",
   "metadata": {},
   "source": [
    "We can write our own python libraries, called modules which we can import into the notebook and invoke:"
   ]
  },
  {
   "cell_type": "code",
   "execution_count": 9,
   "metadata": {},
   "outputs": [
    {
     "name": "stdout",
     "output_type": "stream",
     "text": [
      "Writing draw_eight.py\n"
     ]
    }
   ],
   "source": [
    "%%writefile draw_eight.py \n",
    "# Above line tells the notebook to treat the rest of this\n",
    "# cell as content for a file on disk.\n",
    "\n",
    "import numpy as np\n",
    "import math\n",
    "import matplotlib.pyplot as plt\n",
    "\n",
    "def make_figure():\n",
    "  theta = np.arange(0, 4 * math.pi, 0.1)\n",
    "  eight = plt.figure()\n",
    "  axes = eight.add_axes([0, 0, 1, 1])\n",
    "  axes.plot(0.5 * np.sin(theta), np.cos(theta / 2))\n",
    "  return eight"
   ]
  },
  {
   "cell_type": "markdown",
   "metadata": {},
   "source": [
    "In a real example, we could edit the file on disk\n",
    "using a program such as [Notepad++](https://notepad-plus-plus.org)\n",
    "for windows or [Atom](https://atom.io) for Mac."
   ]
  },
  {
   "cell_type": "code",
   "execution_count": 10,
   "metadata": {
    "collapsed": true
   },
   "outputs": [],
   "source": [
    "import draw_eight # Load the library file we just wrote to disk"
   ]
  },
  {
   "cell_type": "code",
   "execution_count": 11,
   "metadata": {},
   "outputs": [
    {
     "data": {
      "image/png": "[encoded data removed]",
      "text/plain": [
       "<matplotlib.figure.Figure at 0x7fdcc327a668>"
      ]
     },
     "metadata": {},
     "output_type": "display_data"
    }
   ],
   "source": [
    "image=draw_eight.make_figure()"
   ]
  },
  {
   "cell_type": "markdown",
   "metadata": {},
   "source": [
    "There is a huge variety of available packages to do pretty much anything. For instance, try ``import antigravity``"
   ]
  },
  {
   "cell_type": "markdown",
   "metadata": {},
   "source": [
    "The `%%` at the beginning of a cell is called *magics*. There's a \n",
    "[large list of them available](http://ipython.readthedocs.io/en/stable/interactive/magics.html) \n",
    "and you can [create your own](http://ipython.readthedocs.io/en/stable/config/custommagics.html)."
   ]
  }
 ],
 "metadata": {
  "anaconda-cloud": {},
  "jekyll": {
   "display_name": "Many kinds of Python"
  },
  "kernelspec": {
   "display_name": "Python 3",
   "language": "python",
   "name": "python3"
  },
  "language_info": {
   "codemirror_mode": {
    "name": "ipython",
    "version": 3
   },
   "file_extension": ".py",
   "mimetype": "text/x-python",
   "name": "python",
   "nbconvert_exporter": "python",
   "pygments_lexer": "ipython3",
   "version": "3.6.3"
  }
 },
 "nbformat": 4,
 "nbformat_minor": 1
}
