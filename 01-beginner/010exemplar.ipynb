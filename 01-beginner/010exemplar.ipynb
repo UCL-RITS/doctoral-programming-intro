{
 "cells": [
  {
   "cell_type": "markdown",
   "metadata": {
    "tags": []
   },
   "source": [
    "## An example Python data analysis notebook"
   ]
  },
  {
   "cell_type": "markdown",
   "metadata": {
    "jp-MarkdownHeadingCollapsed": true,
    "tags": []
   },
   "source": [
    "This page illustrates how to use Python to perform a simple but complete analysis: load data, explore trends in the data by plotting some charts, and run computations based on what we see.\n",
    "\n",
    "### A tour of capabilities\n",
    "\n",
    "We're going to start with a look at some of the awesome things that you can do with programming, for motivation for when it gets difficult. However, you will not understand all the detail of the code in this section, and *nor should you*. If you do, maybe one of our more advanced courses is more appropriate for you!\n",
    "\n",
    "As we show the code for different parts of the work, we will be touching on various aspects you may want to keep in mind, either related to Python specifically, or to research programming more generally."
   ]
  },
  {
   "cell_type": "markdown",
   "metadata": {},
   "source": [
    "### Why write software to manage your data and plots?"
   ]
  },
  {
   "cell_type": "markdown",
   "metadata": {},
   "source": [
    "We can use programs for our entire research pipeline. Not just big scientific simulation codes, but also the small scripts which we use to tidy up data and produce plots. This should be code, so that the whole research pipeline\n",
    "is recorded for reproducibility. Data manipulation in spreadsheets is much harder to share or\n",
    "check."
   ]
  },
  {
   "cell_type": "markdown",
   "metadata": {},
   "source": [
    "You can see a more advanced demonstration of similar ideas on the [Software Carpentry site](https://swcarpentry.github.io/python-novice-inflammation/).\n",
    "We'll try to give links to other sources of Python training along the way.\n",
    "Part of our approach is that we assume you know how to use the internet! If you\n",
    "find something confusing out there, please bring it along to the next session. In this course, we'll always try to draw your attention to other sources of information about what we're learning. Paying attention to as many of these as you need to, is just as important as these core notes."
   ]
  },
  {
   "cell_type": "markdown",
   "metadata": {},
   "source": [
    "### Importing libraries"
   ]
  },
  {
   "cell_type": "markdown",
   "metadata": {},
   "source": [
    "Research programming is all about using libraries: tools other people have provided programs that do many cool things.\n",
    "By combining them we can feel really powerful but doing minimum work ourselves. The Python syntax to import someone else's library is `import`."
   ]
  },
  {
   "cell_type": "code",
   "execution_count": null,
   "metadata": {},
   "outputs": [],
   "source": [
    "import csv  # A Python library for reading and writing CSV files\n",
    "import os  # A library for interfacing with the operating system\n",
    "from datetime import datetime  #  Another library, useful for handling dates\n",
    "import matplotlib.pyplot as plt  # For visualising data, info at: https://matplotlib.org/\n",
    "import statistics  # For computing summary statistics of data"
   ]
  },
  {
   "cell_type": "markdown",
   "metadata": {},
   "source": [
    "If you are following along running it locally, this should work unless you used a different installation method than the recommended. Is that's the case, then you'll need to wait until we've covered [installation of additional Python libraries](../02-novice/110InstallingLibraries.html) in the second part of this course."
   ]
  },
  {
   "cell_type": "markdown",
   "metadata": {},
   "source": [
    "### Comments"
   ]
  },
  {
   "cell_type": "markdown",
   "metadata": {},
   "source": [
    "Code after a `#` symbol doesn't get run. This makes it possible to leave notes for others - and your future self! - about how a particular section of code works."
   ]
  },
  {
   "cell_type": "code",
   "execution_count": null,
   "metadata": {},
   "outputs": [],
   "source": [
    "print(\"This runs\")  # print(\"This doesn't\")\n",
    "# print(\"This doesn't either\")"
   ]
  },
  {
   "cell_type": "markdown",
   "metadata": {},
   "source": [
    "### Functions and loops"
   ]
  },
  {
   "cell_type": "markdown",
   "metadata": {},
   "source": [
    "We can wrap code up in a **function**, so that we can repeatedly get just the information we want. One way that this is useful in the example that follows is for handling data storage. If we look in the `data` directory we can see there are three similarly named _comma separated value_ (CSV) files:\n"
   ]
  },
  {
   "cell_type": "code",
   "execution_count": null,
   "metadata": {},
   "outputs": [],
   "source": [
    "[filename for filename in os.listdir('data') if filename.endswith('csv')]"
   ]
  },
  {
   "cell_type": "markdown",
   "metadata": {},
   "source": [
    "If we know we are going to use all three files, and we want to future-proof our code against changes to our data sources, e.g. an update in the data version number `5.0.1.0`, we could use a function so that we only need to make this change in one place rather than one for each file:"
   ]
  },
  {
   "cell_type": "code",
   "execution_count": null,
   "metadata": {},
   "outputs": [],
   "source": [
    "def build_filepath(file_id, version=\"5.0.1.0\"):\n",
    "    filepath = f\"./data/HadCRUT.{version}.analysis.summary_series.{file_id}.monthly.csv\"\n",
    "    return filepath"
   ]
  },
  {
   "cell_type": "markdown",
   "metadata": {},
   "source": [
    "This enables us to specify the filepath using only its unique part:"
   ]
  },
  {
   "cell_type": "code",
   "execution_count": null,
   "metadata": {},
   "outputs": [],
   "source": [
    "build_filepath(\"global\")"
   ]
  },
  {
   "cell_type": "markdown",
   "metadata": {},
   "source": [
    "Defining **functions** which put together code to make a more complex task seem simple from the outside is the most important thing in programming. The output of the function is stated by `return`; the input is specified in brackets after the function name.\n"
   ]
  },
  {
   "cell_type": "markdown",
   "metadata": {},
   "source": [
    " **Loops** are a way of processing items in a series one-by-one, and the syntax in Python for doing this is `for x in y`, where `x` is an arbitrary name that you can use to refer back to each item in the section of code that follows. This function will load a CSV then loop through its rows, extracting the data we need:"
   ]
  },
  {
   "cell_type": "code",
   "execution_count": null,
   "metadata": {},
   "outputs": [],
   "source": [
    "def load_data(filepath):\n",
    "    dates = []\n",
    "    values = []\n",
    "    with open(filepath) as csvfile:\n",
    "        for row in csv.DictReader(csvfile):\n",
    "            year_month = row[\"Time\"]\n",
    "            date = datetime.strptime(year_month, \"%Y-%m\")\n",
    "            dates.append(date)\n",
    "            values.append(float(row[\"Anomaly (deg C)\"]))\n",
    "    return (dates, values)"
   ]
  },
  {
   "cell_type": "markdown",
   "metadata": {},
   "source": [
    "Loops are not the most efficient way of processing large datasets, but they are very readable and a great way to get started with programmatic data analysis."
   ]
  },
  {
   "cell_type": "markdown",
   "metadata": {},
   "source": [
    "### Variables"
   ]
  },
  {
   "cell_type": "markdown",
   "metadata": {},
   "source": [
    "We can store data in variables by using the equals sign to assign a value to a name, e.g. `day = 'Friday'`. In this case the first function returns the filepath we need to load the \"global\" data, and the second function returns both dates and values extracted from the CSV at this location - we can capture both at the same time by separating them with a comma, as follows:"
   ]
  },
  {
   "cell_type": "code",
   "execution_count": null,
   "metadata": {},
   "outputs": [],
   "source": [
    "global_filepath = build_filepath(\"global\")\n",
    "global_dates, global_values = load_data(global_filepath)"
   ]
  },
  {
   "cell_type": "markdown",
   "metadata": {},
   "source": [
    "Because our `load_data` function returns two lists - a list of dates and a list of values - we can take a look at a small subset of the data by using a technique known as slicing. The following syntax will print only the first three entries in the lists stored in each of the two variable names:"
   ]
  },
  {
   "cell_type": "code",
   "execution_count": null,
   "metadata": {},
   "outputs": [],
   "source": [
    "first_n = 3\n",
    "print(\"Dates:\")\n",
    "print(global_dates[:first_n])\n",
    "print(\"-----\")\n",
    "print(\"Values:\")\n",
    "print(global_values[:first_n])\n",
    "print(\"-----\")"
   ]
  },
  {
   "cell_type": "markdown",
   "metadata": {},
   "source": [
    "Python is telling us that the dates variable contains a series of `datetime` objects, starting in January 1850, and the values variable contains a series of decimal numbers, known in Python as `float` (although this is not explicit in the output above).\n",
    "\n",
    "Knowing their type, we can create a function that prints that information in a more readable fashion:"
   ]
  },
  {
   "cell_type": "code",
   "execution_count": null,
   "metadata": {},
   "outputs": [],
   "source": [
    "def display_first_n(file_id, n=5):\n",
    "    global_filepath = build_filepath(file_id)\n",
    "    global_dates, global_values = load_data(global_filepath)\n",
    "    print('-----')\n",
    "    print(f\"{file_id.upper()}\")\n",
    "    print(\"Dates: \\t\" + \"\\t\".join(f\"{gd:%Y-%b}\" for gd in global_dates[:n]))\n",
    "    print(\"Values:\\t\" + \"\\t\".join(f\"{gv:3.5f}\" for gv in global_values[:n]))\n",
    "    print('-----')\n",
    "\n",
    "\n",
    "display_first_n('global', 4)"
   ]
  },
  {
   "cell_type": "markdown",
   "metadata": {},
   "source": [
    "### Visualising the data"
   ]
  },
  {
   "cell_type": "markdown",
   "metadata": {},
   "source": [
    "Using the matplotlib library that we loaded earlier and just two lines of code, we can visualise this data, which has been produced and made available for download by [the UK Met Office's Hadley Centre](https://www.metoffice.gov.uk/hadobs/hadcrut5/) and shows monthly global temparature anomalies since 1850:"
   ]
  },
  {
   "cell_type": "code",
   "execution_count": null,
   "metadata": {},
   "outputs": [],
   "source": [
    "plt.title(\"Global monthly temperature anomalies, degrees C\")\n",
    "plt.plot(global_dates, global_values);"
   ]
  },
  {
   "cell_type": "markdown",
   "metadata": {},
   "source": [
    "As you will have spotted in the list of filepaths we saw earlier, the Hadley Centre helpfully breaks down this global data into its two constituent hemispheres. We can load this data, re-using the functions we prepared earlier, with the output of `build_filepath` directly becoming the input of `load_data`:"
   ]
  },
  {
   "cell_type": "code",
   "execution_count": null,
   "metadata": {},
   "outputs": [],
   "source": [
    "north_dates, north_values = load_data(build_filepath(\"northern_hemisphere\"))\n",
    "south_dates, south_values = load_data(build_filepath(\"southern_hemisphere\"))"
   ]
  },
  {
   "cell_type": "markdown",
   "metadata": {},
   "source": [
    "We can write **automated tests** so that if we run our analysis again later, using updated data, we can check our assumptions that the three data sources all cover the same time period:"
   ]
  },
  {
   "cell_type": "code",
   "execution_count": null,
   "metadata": {},
   "outputs": [],
   "source": [
    "assert global_dates == north_dates\n",
    "assert north_dates == south_dates"
   ]
  },
  {
   "cell_type": "markdown",
   "metadata": {},
   "source": [
    "We are now ready to plot the northern hemisphere data alongside the southern hemisphere data, adding labels and a legend to identify which line is which:"
   ]
  },
  {
   "cell_type": "code",
   "execution_count": null,
   "metadata": {},
   "outputs": [],
   "source": [
    "plt.title(\"Comparison of monthly temperature\\nanomalies by hemisphere, degrees C\")\n",
    "plt.plot(global_dates, north_values, label=\"Northern\")\n",
    "plt.plot(global_dates, south_values, label=\"Southern\")\n",
    "plt.legend(loc=\"lower right\");"
   ]
  },
  {
   "cell_type": "markdown",
   "metadata": {},
   "source": [
    "If building similar plots is something we're going to do more than once in our analysis, we may want to turn this too into - you guessed it! - a function. Here we add one more feature to our data-plotting function, which will credit our sources, using matlotlib's `annotate` function."
   ]
  },
  {
   "cell_type": "code",
   "execution_count": null,
   "metadata": {},
   "outputs": [],
   "source": [
    "def plot_data(title_text, dates, datasets, labels, source_text):\n",
    "    plt.title(title_text)\n",
    "    for values, label in zip(datasets, labels):\n",
    "        plt.plot(dates, values, label=label)\n",
    "    plt.annotate(\n",
    "        text=source_text,\n",
    "        xy=(0, 0),\n",
    "        xytext=(0, -22),\n",
    "        xycoords=\"axes fraction\",\n",
    "        textcoords=\"offset points\",\n",
    "        va=\"top\",\n",
    "    )\n",
    "    plt.legend(loc=\"lower right\")\n",
    "\n",
    "\n",
    "plot_data(\n",
    "    title_text=\"Comparison of monthly temperature\\nanomalies by hemisphere, degrees C\",\n",
    "    dates=global_dates,\n",
    "    datasets=[north_values, south_values],\n",
    "    labels=[\"Northern\", \"Southern\"],\n",
    "    source_text=\"Source: Met Office Hadley Centre\",\n",
    ")"
   ]
  },
  {
   "cell_type": "markdown",
   "metadata": {},
   "source": [
    "### Filtering"
   ]
  },
  {
   "cell_type": "markdown",
   "metadata": {},
   "source": [
    "It looks like there has been a significant divergence between the two hemispheres since about the year 2000. If we write a function that can filter the data by date, we can test this hypothesis."
   ]
  },
  {
   "cell_type": "code",
   "execution_count": null,
   "metadata": {},
   "outputs": [],
   "source": [
    "def filter_data(threshold_year, values):\n",
    "    threshold_date = datetime(year=threshold_year, month=1, day=1)\n",
    "    filtered_values = []\n",
    "    for date, value in zip(global_dates, values):\n",
    "        if date >= threshold_date:\n",
    "            filtered_values.append(value)\n",
    "    return filtered_values\n",
    "\n",
    "\n",
    "north_since_2000 = filter_data(2000, north_values)\n",
    "south_since_2000 = filter_data(2000, south_values)"
   ]
  },
  {
   "cell_type": "markdown",
   "metadata": {},
   "source": [
    "Python has some helpful built-in functions to help us understand our data, like this one which can tell us how many observations we have now in our filtered data, aka its `len`gth:"
   ]
  },
  {
   "cell_type": "code",
   "execution_count": null,
   "metadata": {},
   "outputs": [],
   "source": [
    "print(len(north_since_2000))\n",
    "print(len(south_since_2000))"
   ]
  },
  {
   "cell_type": "markdown",
   "metadata": {},
   "source": [
    "We may want to plot this data to double-check our filtering function is working as expected. To do this we will need to obtain the corresponding dates to our filtered values, and we can use the list slicing feature to count the requisiste number of values back from the end of the list of dates, by using the `-` sign and putting this value before the `:`. We can then build the plot by re-using our `plot_data` function. Note that if we wish we don't have to name all the inputs to the function, e.g. `title_text = 'Title'`, we can just send them off to the function in the right order."
   ]
  },
  {
   "cell_type": "code",
   "execution_count": null,
   "metadata": {},
   "outputs": [],
   "source": [
    "num_data_points = len(north_since_2000)\n",
    "dates_since_2000 = global_dates[-num_data_points:]\n",
    "plot_data(\n",
    "    \"Comparison of monthly temperature\\nanomalies by hemisphere, degrees C\",\n",
    "    dates_since_2000,\n",
    "    [north_since_2000, south_since_2000],\n",
    "    [\"Northern\", \"Southern\"],\n",
    "    \"Source: Met Office Hadley Centre\",\n",
    ")"
   ]
  },
  {
   "cell_type": "markdown",
   "metadata": {},
   "source": [
    "Reassuringly, this looks like the data we saw in the previous chart, zoomed in as expected."
   ]
  },
  {
   "cell_type": "markdown",
   "metadata": {},
   "source": [
    "### Summary statistics"
   ]
  },
  {
   "cell_type": "markdown",
   "metadata": {},
   "source": [
    "We can now quantify some measure of the difference between these two sets of data. There are many ways of doing this in Python, but we're just going to look at a simple comparison of the average value here, using a Python library called `statistics`:"
   ]
  },
  {
   "cell_type": "code",
   "execution_count": null,
   "metadata": {},
   "outputs": [],
   "source": [
    "north_mean = statistics.mean(north_since_2000)\n",
    "south_mean = statistics.mean(south_since_2000)"
   ]
  },
  {
   "cell_type": "markdown",
   "metadata": {},
   "source": [
    "We can now report our \"findings\", using the `format` method to show only the first 3dp in our summary statistics:"
   ]
  },
  {
   "cell_type": "code",
   "execution_count": null,
   "metadata": {},
   "outputs": [],
   "source": [
    "print(\"Northern hemisphere average: {:.3f}\".format(north_mean))\n",
    "print(\"Southern hemisphere average: {:.3f}\".format(south_mean))\n",
    "print(\"Difference:                  {:.3f}\".format(north_mean - south_mean))"
   ]
  },
  {
   "cell_type": "markdown",
   "metadata": {},
   "source": [
    "And that's it! We've covered, very very quickly, the majority of the Python language, and much of the theory of software engineering."
   ]
  },
  {
   "cell_type": "markdown",
   "metadata": {},
   "source": [
    "Now we'll go back, carefully, through all the concepts we touched on, and learn how to use them properly ourselves.\n",
    "But before, let's make a nice graph as in [#ShowYourStripes](https://showyourstripes.info/s/globe)."
   ]
  },
  {
   "cell_type": "code",
   "execution_count": null,
   "metadata": {},
   "outputs": [],
   "source": [
    "plt.axis('off')\n",
    "plt.pcolormesh([global_values], cmap=plt.cm.coolwarm)"
   ]
  }
 ],
 "metadata": {
  "jekyll": {
   "display_name": "An example program"
  },
  "kernelspec": {
   "display_name": "Python 3 (ipykernel)",
   "language": "python",
   "name": "python3"
  },
  "language_info": {
   "codemirror_mode": {
    "name": "ipython",
    "version": 3
   },
   "file_extension": ".py",
   "mimetype": "text/x-python",
   "name": "python",
   "nbconvert_exporter": "python",
   "pygments_lexer": "ipython3",
   "version": "3.8.11"
  }
 },
 "nbformat": 4,
 "nbformat_minor": 4
}
