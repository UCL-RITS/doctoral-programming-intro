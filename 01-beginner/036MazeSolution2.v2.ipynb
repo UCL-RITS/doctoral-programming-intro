{
 "metadata": {
  "jekyll": {
   "display_name": "Maze Control Solution"
  },
  "kernelspec": {
   "display_name": "Python 3 (ipykernel)",
   "language": "python",
   "name": "python3"
  },
  "language_info": {
   "codemirror_mode": {
    "name": "ipython",
    "version": 3
   },
   "file_extension": ".py",
   "mimetype": "text/x-python",
   "name": "python",
   "nbconvert_exporter": "python",
   "pygments_lexer": "ipython3",
   "version": "3.8.14"
  },
  "name": ""
 },
 "nbformat": 2,
 "nbformat_minor": 0,
 "orig_nbformat": 4,
 "orig_nbformat_minor": 5,
 "worksheets": [
  {
   "cells": [
    {
     "cell_type": "markdown",
     "metadata": {},
     "source": [
      "### Solution: counting people in the maze"
     ]
    },
    {
     "cell_type": "markdown",
     "metadata": {},
     "source": [
      "With this maze structure:"
     ]
    },
    {
     "cell_type": "code",
     "collapsed": false,
     "input": [
      "house = {",
      "    'living' : {",
      "        'exits': {",
      "            'north' : 'kitchen',",
      "            'outside' : 'garden',",
      "            'upstairs' : 'bedroom'",
      "        },",
      "        'people' : ['James', 'Frank'],",
      "        'capacity' : 2",
      "    },",
      "    'kitchen' : {",
      "        'exits': {",
      "            'south' : 'living'",
      "        },",
      "        'people' : [],",
      "        'capacity' : 1",
      "    },",
      "    'garden' : {",
      "        'exits': {",
      "            'inside' : 'living'",
      "        },",
      "        'people' : ['Sue'],",
      "        'capacity' : 3",
      "    },",
      "    'bedroom' : {",
      "        'exits': {",
      "            'downstairs' : 'living',",
      "            'jump' : 'garden'",
      "        },",
      "        'people' : [],",
      "        'capacity' : 1",
      "    }",
      "}"
     ],
     "language": "python",
     "metadata": {},
     "outputs": [],
     "prompt_number": 1
    },
    {
     "cell_type": "markdown",
     "metadata": {},
     "source": [
      "We can count the occupants and capacity like this:"
     ]
    },
    {
     "cell_type": "code",
     "collapsed": false,
     "input": [
      "for room_name in house:",
      "    print(room_name)"
     ],
     "language": "python",
     "metadata": {},
     "outputs": [
      {
       "output_type": "stream",
       "stream": "stdout",
       "text": [
        "living",
        "kitchen",
        "garden",
        "bedroom"
       ]
      }
     ],
     "prompt_number": 2
    },
    {
     "cell_type": "code",
     "collapsed": false,
     "input": [
      "house"
     ],
     "language": "python",
     "metadata": {},
     "outputs": [
      {
       "metadata": {},
       "output_type": "pyout",
       "prompt_number": 3,
       "text": [
        "{'living': {'exits': {'north': 'kitchen',",
        "   'outside': 'garden',",
        "   'upstairs': 'bedroom'},",
        "  'people': ['James', 'Frank'],",
        "  'capacity': 2},",
        " 'kitchen': {'exits': {'south': 'living'}, 'people': [], 'capacity': 1},",
        " 'garden': {'exits': {'inside': 'living'}, 'people': ['Sue'], 'capacity': 3},",
        " 'bedroom': {'exits': {'downstairs': 'living', 'jump': 'garden'},",
        "  'people': [],",
        "  'capacity': 1}}"
       ]
      }
     ],
     "prompt_number": 3
    },
    {
     "cell_type": "code",
     "collapsed": false,
     "input": [
      "house.values()"
     ],
     "language": "python",
     "metadata": {},
     "outputs": [
      {
       "metadata": {},
       "output_type": "pyout",
       "prompt_number": 4,
       "text": [
        "dict_values([{'exits': {'north': 'kitchen', 'outside': 'garden', 'upstairs': 'bedroom'}, 'people': ['James', 'Frank'], 'capacity': 2}, {'exits': {'south': 'living'}, 'people': [], 'capacity': 1}, {'exits': {'inside': 'living'}, 'people': ['Sue'], 'capacity': 3}, {'exits': {'downstairs': 'living', 'jump': 'garden'}, 'people': [], 'capacity': 1}])"
       ]
      }
     ],
     "prompt_number": 4
    },
    {
     "cell_type": "code",
     "collapsed": false,
     "input": [
      "running_total = 0",
      "",
      "for room_data in house.values():",
      "    running_total += len(room_data[\"people\"])",
      "",
      "print(running_total)"
     ],
     "language": "python",
     "metadata": {},
     "outputs": [
      {
       "output_type": "stream",
       "stream": "stdout",
       "text": [
        "3"
       ]
      }
     ],
     "prompt_number": 5
    }
   ],
   "metadata": {}
  }
 ]
}
