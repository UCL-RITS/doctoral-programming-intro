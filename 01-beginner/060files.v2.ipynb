{
 "metadata": {
  "jekyll": {
   "display_name": "Working with files"
  },
  "kernelspec": {
   "display_name": "Python 3 (ipykernel)",
   "language": "python",
   "name": "python3"
  },
  "language_info": {
   "codemirror_mode": {
    "name": "ipython",
    "version": 3
   },
   "file_extension": ".py",
   "mimetype": "text/x-python",
   "name": "python",
   "nbconvert_exporter": "python",
   "pygments_lexer": "ipython3",
   "version": "3.8.14"
  },
  "name": ""
 },
 "nbformat": 2,
 "nbformat_minor": 0,
 "orig_nbformat": 4,
 "orig_nbformat_minor": 5,
 "worksheets": [
  {
   "cells": [
    {
     "cell_type": "markdown",
     "metadata": {},
     "source": [
      "# Loading data from files"
     ]
    },
    {
     "cell_type": "markdown",
     "metadata": {},
     "source": [
      "## Loading data"
     ]
    },
    {
     "cell_type": "markdown",
     "metadata": {},
     "source": [
      "An important part of this course is about using Python to analyse and visualise data.",
      "Most data, of course, is supplied to us in various *formats*: spreadsheets, database dumps, or text files in various formats (csv, tsv, json, yaml, hdf5, netcdf).",
      "It is also stored in some *medium*: on a local disk, a network drive, or on the internet in various ways.",
      "It is important to distinguish the data format (how the data is structured into a file) from the data's storage (where it is put). ",
      "",
      "We'll look first at the question of data *transport*: loading data from a disk, and at downloading data from the internet.",
      "Then we'll look at data *parsing*: building Python structures from the data.",
      "These are related, but separate questions."
     ]
    },
    {
     "cell_type": "markdown",
     "metadata": {},
     "source": [
      "## An example datafile"
     ]
    },
    {
     "cell_type": "markdown",
     "metadata": {},
     "source": [
      "Let's write an example datafile to disk so we can investigate it. We'll just use a plain-text file. Jupyter notebook provides a way to do this: if we put",
      "`%%writefile` at the top of a cell, instead of being interpreted as python, the cell contents are saved to disk."
     ]
    },
    {
     "cell_type": "code",
     "collapsed": false,
     "input": [
      "%%writefile mydata.txt",
      "A poet once said, 'The whole universe is in a glass of wine.'",
      "We will probably never know in what sense he meant it, ",
      "for poets do not write to be understood. ",
      "But it is true that if we look at a glass of wine closely enough we see the entire universe. ",
      "There are the things of physics: the twisting liquid which evaporates depending",
      "on the wind and weather, the reflection in the glass;",
      "and our imagination adds atoms.",
      "The glass is a distillation of the earth's rocks,",
      "and in its composition we see the secrets of the universe's age, and the evolution of stars. ",
      "What strange array of chemicals are in the wine? How did they come to be? ",
      "There are the ferments, the enzymes, the substrates, and the products.",
      "There in wine is found the great generalization; all life is fermentation.",
      "Nobody can discover the chemistry of wine without discovering, ",
      "as did Louis Pasteur, the cause of much disease.",
      "How vivid is the claret, pressing its existence into the consciousness that watches it!",
      "If our small minds, for some convenience, divide this glass of wine, this universe, ",
      "into parts -- ",
      "physics, biology, geology, astronomy, psychology, and so on -- ",
      "remember that nature does not know it!",
      "",
      "So let us put it all back together, not forgetting ultimately what it is for.",
      "Let it give us one more final pleasure; drink it and forget it all!",
      "   - Richard Feynman"
     ],
     "language": "python",
     "metadata": {},
     "outputs": [
      {
       "output_type": "stream",
       "stream": "stdout",
       "text": [
        "Writing mydata.txt"
       ]
      }
     ],
     "prompt_number": 1
    },
    {
     "cell_type": "markdown",
     "metadata": {},
     "source": [
      "Where did that go? It went to the current folder, which for a notebook, by default, is where the notebook is on disk."
     ]
    },
    {
     "cell_type": "code",
     "collapsed": false,
     "input": [
      "import os  # The 'os' module gives us all the tools we need to search in the file system",
      "",
      "os.getcwd()  # Use the 'getcwd' function from the 'os' module to find where we are on disk."
     ],
     "language": "python",
     "metadata": {},
     "outputs": [
      {
       "metadata": {},
       "output_type": "pyout",
       "prompt_number": 2,
       "text": [
        "'/home/runner/work/doctoral-programming-intro/doctoral-programming-intro/01-beginner'"
       ]
      }
     ],
     "prompt_number": 2
    },
    {
     "cell_type": "markdown",
     "metadata": {},
     "source": [
      "Can we see it is there?"
     ]
    },
    {
     "cell_type": "code",
     "collapsed": false,
     "input": [
      "os.listdir(os.getcwd())"
     ],
     "language": "python",
     "metadata": {},
     "outputs": [
      {
       "metadata": {},
       "output_type": "pyout",
       "prompt_number": 3,
       "text": [
        "['mydata.txt',",
        " 'index.md',",
        " '015variables.ipynb',",
        " '023types.ipynb',",
        " '038SolutionComprehension.ipynb',",
        " '016using_functions.ipynb',",
        " '035looping.ipynb',",
        " '032conditionality.ipynb',",
        " '030MazeSolution.ipynb',",
        " '029structures.ipynb',",
        " '036MazeSolution2.ipynb',",
        " '037comprehensions.ipynb',",
        " 'data',",
        " '037comprehensions.html',",
        " '060files.nbconvert.ipynb',",
        " '040functions.ipynb',",
        " '028dictionaries.ipynb',",
        " '028dictionaries.html',",
        " '00pythons.ipynb',",
        " '010exemplar.ipynb',",
        " '025containers.ipynb',",
        " '028dictionaries.nbconvert.ipynb',",
        " '060MatplotlibPyplot.ipynb',",
        " '050import.ipynb',",
        " '037comprehensions.nbconvert.ipynb',",
        " '060files.ipynb']"
       ]
      }
     ],
     "prompt_number": 3
    },
    {
     "cell_type": "code",
     "collapsed": false,
     "input": [
      "[x for x in os.listdir(os.getcwd()) if \".txt\" in x]"
     ],
     "language": "python",
     "metadata": {},
     "outputs": [
      {
       "metadata": {},
       "output_type": "pyout",
       "prompt_number": 4,
       "text": [
        "['mydata.txt']"
       ]
      }
     ],
     "prompt_number": 4
    },
    {
     "cell_type": "markdown",
     "metadata": {},
     "source": [
      "Yep! Note how we used a list comprehension to filter all the extraneous files."
     ]
    },
    {
     "cell_type": "markdown",
     "metadata": {},
     "source": [
      "## Path independence and `os`"
     ]
    },
    {
     "cell_type": "markdown",
     "metadata": {},
     "source": [
      "We can use `dirname` to get the parent folder for a folder, in a platform independent-way."
     ]
    },
    {
     "cell_type": "code",
     "collapsed": false,
     "input": [
      "os.path.dirname(os.getcwd())"
     ],
     "language": "python",
     "metadata": {},
     "outputs": [
      {
       "metadata": {},
       "output_type": "pyout",
       "prompt_number": 5,
       "text": [
        "'/home/runner/work/doctoral-programming-intro/doctoral-programming-intro'"
       ]
      }
     ],
     "prompt_number": 5
    },
    {
     "cell_type": "markdown",
     "metadata": {},
     "source": [
      "We could do this manually using `split`:"
     ]
    },
    {
     "cell_type": "code",
     "collapsed": false,
     "input": [
      "\"/\".join(os.getcwd().split(\"/\")[:-1])"
     ],
     "language": "python",
     "metadata": {},
     "outputs": [
      {
       "metadata": {},
       "output_type": "pyout",
       "prompt_number": 6,
       "text": [
        "'/home/runner/work/doctoral-programming-intro/doctoral-programming-intro'"
       ]
      }
     ],
     "prompt_number": 6
    },
    {
     "cell_type": "markdown",
     "metadata": {},
     "source": [
      "But this would not work on windows, where path elements are separated with a `\\` instead of a `/`. So it's important ",
      "to use `os.path` for this stuff."
     ]
    },
    {
     "cell_type": "markdown",
     "metadata": {},
     "source": [
      "**Supplementary Materials**: If you're not already comfortable with how files fit into folders, and folders form a tree,",
      "    with folders containing subfolders, then look at http://swcarpentry.github.io/shell-novice/02-filedir/. ",
      "",
      "Satisfy yourself that after using `%%writedir`, you can then find the file on disk with Windows Explorer, OSX Finder, or the Linux Shell."
     ]
    },
    {
     "cell_type": "markdown",
     "metadata": {},
     "source": [
      "We can see how in Python we can investigate the file system with functions in the `os` module, using just the same programming approaches as for anything else."
     ]
    },
    {
     "cell_type": "markdown",
     "metadata": {},
     "source": [
      "We'll gradually learn more features of the `os` module as we go, allowing us to move around the disk, `walk` around the",
      "disk looking for relevant files, and so on. These will be important to master for automating our data analyses."
     ]
    },
    {
     "cell_type": "markdown",
     "metadata": {},
     "source": [
      "## File objects"
     ]
    },
    {
     "cell_type": "markdown",
     "metadata": {},
     "source": [
      "So, let's read our file:"
     ]
    },
    {
     "cell_type": "code",
     "collapsed": false,
     "input": [
      "myfile = open(\"mydata.txt\")"
     ],
     "language": "python",
     "metadata": {},
     "outputs": [],
     "prompt_number": 7
    },
    {
     "cell_type": "code",
     "collapsed": false,
     "input": [
      "type(myfile)"
     ],
     "language": "python",
     "metadata": {},
     "outputs": [
      {
       "metadata": {},
       "output_type": "pyout",
       "prompt_number": 8,
       "text": [
        "_io.TextIOWrapper"
       ]
      }
     ],
     "prompt_number": 8
    },
    {
     "cell_type": "markdown",
     "metadata": {},
     "source": [
      "We can go line-by-line, by treating the file as an iterable:"
     ]
    },
    {
     "cell_type": "code",
     "collapsed": false,
     "input": [
      "[x for x in myfile]"
     ],
     "language": "python",
     "metadata": {},
     "outputs": [
      {
       "metadata": {},
       "output_type": "pyout",
       "prompt_number": 9,
       "text": [
        "[\"A poet once said, 'The whole universe is in a glass of wine.'\\n\",",
        " 'We will probably never know in what sense he meant it, \\n',",
        " 'for poets do not write to be understood. \\n',",
        " 'But it is true that if we look at a glass of wine closely enough we see the entire universe. \\n',",
        " 'There are the things of physics: the twisting liquid which evaporates depending\\n',",
        " 'on the wind and weather, the reflection in the glass;\\n',",
        " 'and our imagination adds atoms.\\n',",
        " \"The glass is a distillation of the earth's rocks,\\n\",",
        " \"and in its composition we see the secrets of the universe's age, and the evolution of stars. \\n\",",
        " 'What strange array of chemicals are in the wine? How did they come to be? \\n',",
        " 'There are the ferments, the enzymes, the substrates, and the products.\\n',",
        " 'There in wine is found the great generalization; all life is fermentation.\\n',",
        " 'Nobody can discover the chemistry of wine without discovering, \\n',",
        " 'as did Louis Pasteur, the cause of much disease.\\n',",
        " 'How vivid is the claret, pressing its existence into the consciousness that watches it!\\n',",
        " 'If our small minds, for some convenience, divide this glass of wine, this universe, \\n',",
        " 'into parts -- \\n',",
        " 'physics, biology, geology, astronomy, psychology, and so on -- \\n',",
        " 'remember that nature does not know it!\\n',",
        " '\\n',",
        " 'So let us put it all back together, not forgetting ultimately what it is for.\\n',",
        " 'Let it give us one more final pleasure; drink it and forget it all!\\n',",
        " '   - Richard Feynman\\n']"
       ]
      }
     ],
     "prompt_number": 9
    },
    {
     "cell_type": "markdown",
     "metadata": {},
     "source": [
      "If we do that again, the file has already finished, there is no more data."
     ]
    },
    {
     "cell_type": "code",
     "collapsed": false,
     "input": [
      "[x for x in myfile]"
     ],
     "language": "python",
     "metadata": {},
     "outputs": [
      {
       "metadata": {},
       "output_type": "pyout",
       "prompt_number": 10,
       "text": [
        "[]"
       ]
      }
     ],
     "prompt_number": 10
    },
    {
     "cell_type": "markdown",
     "metadata": {},
     "source": [
      "We need to 'rewind' it!"
     ]
    },
    {
     "cell_type": "code",
     "collapsed": false,
     "input": [
      "myfile.seek(0)",
      "[len(x) for x in myfile if \"ut\" in x]"
     ],
     "language": "python",
     "metadata": {},
     "outputs": [
      {
       "metadata": {},
       "output_type": "pyout",
       "prompt_number": 11,
       "text": [
        "[94, 94, 64, 78]"
       ]
      }
     ],
     "prompt_number": 11
    },
    {
     "cell_type": "markdown",
     "metadata": {},
     "source": [
      "It's really important to remember that a file is a *different* built-in type than a string."
     ]
    },
    {
     "cell_type": "markdown",
     "metadata": {},
     "source": [
      "## Working with files"
     ]
    },
    {
     "cell_type": "markdown",
     "metadata": {},
     "source": [
      "We can read one line at a time with `readline`: "
     ]
    },
    {
     "cell_type": "code",
     "collapsed": false,
     "input": [
      "myfile.seek(0)",
      "first = myfile.readline()"
     ],
     "language": "python",
     "metadata": {},
     "outputs": [],
     "prompt_number": 12
    },
    {
     "cell_type": "code",
     "collapsed": false,
     "input": [
      "first"
     ],
     "language": "python",
     "metadata": {},
     "outputs": [
      {
       "metadata": {},
       "output_type": "pyout",
       "prompt_number": 13,
       "text": [
        "\"A poet once said, 'The whole universe is in a glass of wine.'\\n\""
       ]
      }
     ],
     "prompt_number": 13
    },
    {
     "cell_type": "code",
     "collapsed": false,
     "input": [
      "second = myfile.readline()"
     ],
     "language": "python",
     "metadata": {},
     "outputs": [],
     "prompt_number": 14
    },
    {
     "cell_type": "code",
     "collapsed": false,
     "input": [
      "second"
     ],
     "language": "python",
     "metadata": {},
     "outputs": [
      {
       "metadata": {},
       "output_type": "pyout",
       "prompt_number": 15,
       "text": [
        "'We will probably never know in what sense he meant it, \\n'"
       ]
      }
     ],
     "prompt_number": 15
    },
    {
     "cell_type": "markdown",
     "metadata": {},
     "source": [
      "We can read the whole remaining file with `read`:"
     ]
    },
    {
     "cell_type": "code",
     "collapsed": false,
     "input": [
      "rest = myfile.read()"
     ],
     "language": "python",
     "metadata": {},
     "outputs": [],
     "prompt_number": 16
    },
    {
     "cell_type": "code",
     "collapsed": false,
     "input": [
      "rest"
     ],
     "language": "python",
     "metadata": {},
     "outputs": [
      {
       "metadata": {},
       "output_type": "pyout",
       "prompt_number": 17,
       "text": [
        "\"for poets do not write to be understood. \\nBut it is true that if we look at a glass of wine closely enough we see the entire universe. \\nThere are the things of physics: the twisting liquid which evaporates depending\\non the wind and weather, the reflection in the glass;\\nand our imagination adds atoms.\\nThe glass is a distillation of the earth's rocks,\\nand in its composition we see the secrets of the universe's age, and the evolution of stars. \\nWhat strange array of chemicals are in the wine? How did they come to be? \\nThere are the ferments, the enzymes, the substrates, and the products.\\nThere in wine is found the great generalization; all life is fermentation.\\nNobody can discover the chemistry of wine without discovering, \\nas did Louis Pasteur, the cause of much disease.\\nHow vivid is the claret, pressing its existence into the consciousness that watches it!\\nIf our small minds, for some convenience, divide this glass of wine, this universe, \\ninto parts -- \\nphysics, biology, geology, astronomy, psychology, and so on -- \\nremember that nature does not know it!\\n\\nSo let us put it all back together, not forgetting ultimately what it is for.\\nLet it give us one more final pleasure; drink it and forget it all!\\n   - Richard Feynman\\n\""
       ]
      }
     ],
     "prompt_number": 17
    },
    {
     "cell_type": "markdown",
     "metadata": {},
     "source": [
      "Which means that when a file is first opened, read is useful to just get the whole thing as a string:"
     ]
    },
    {
     "cell_type": "code",
     "collapsed": false,
     "input": [
      "feynman_quote = open(\"mydata.txt\")"
     ],
     "language": "python",
     "metadata": {},
     "outputs": [],
     "prompt_number": 18
    },
    {
     "cell_type": "code",
     "collapsed": false,
     "input": [
      "open(\"mydata.txt\").read()"
     ],
     "language": "python",
     "metadata": {},
     "outputs": [
      {
       "metadata": {},
       "output_type": "pyout",
       "prompt_number": 19,
       "text": [
        "\"A poet once said, 'The whole universe is in a glass of wine.'\\nWe will probably never know in what sense he meant it, \\nfor poets do not write to be understood. \\nBut it is true that if we look at a glass of wine closely enough we see the entire universe. \\nThere are the things of physics: the twisting liquid which evaporates depending\\non the wind and weather, the reflection in the glass;\\nand our imagination adds atoms.\\nThe glass is a distillation of the earth's rocks,\\nand in its composition we see the secrets of the universe's age, and the evolution of stars. \\nWhat strange array of chemicals are in the wine? How did they come to be? \\nThere are the ferments, the enzymes, the substrates, and the products.\\nThere in wine is found the great generalization; all life is fermentation.\\nNobody can discover the chemistry of wine without discovering, \\nas did Louis Pasteur, the cause of much disease.\\nHow vivid is the claret, pressing its existence into the consciousness that watches it!\\nIf our small minds, for some convenience, divide this glass of wine, this universe, \\ninto parts -- \\nphysics, biology, geology, astronomy, psychology, and so on -- \\nremember that nature does not know it!\\n\\nSo let us put it all back together, not forgetting ultimately what it is for.\\nLet it give us one more final pleasure; drink it and forget it all!\\n   - Richard Feynman\\n\""
       ]
      }
     ],
     "prompt_number": 19
    },
    {
     "cell_type": "markdown",
     "metadata": {},
     "source": [
      "You can also read just a few characters:"
     ]
    },
    {
     "cell_type": "code",
     "collapsed": false,
     "input": [
      "myfile.seek(1335)"
     ],
     "language": "python",
     "metadata": {},
     "outputs": [
      {
       "metadata": {},
       "output_type": "pyout",
       "prompt_number": 20,
       "text": [
        "1335"
       ]
      }
     ],
     "prompt_number": 20
    },
    {
     "cell_type": "code",
     "collapsed": false,
     "input": [
      "myfile.read(15)"
     ],
     "language": "python",
     "metadata": {},
     "outputs": [
      {
       "metadata": {},
       "output_type": "pyout",
       "prompt_number": 21,
       "text": [
        "'\\n   - Richard F'"
       ]
      }
     ],
     "prompt_number": 21
    },
    {
     "cell_type": "markdown",
     "metadata": {},
     "source": [
      "## Converting Strings to Files"
     ]
    },
    {
     "cell_type": "markdown",
     "metadata": {},
     "source": [
      "Because files and strings are different types, we CANNOT just treat strings as if they were files:"
     ]
    },
    {
     "cell_type": "code",
     "collapsed": false,
     "input": [
      "mystring = \"Hello World\\n My name is James\""
     ],
     "language": "python",
     "metadata": {},
     "outputs": [],
     "prompt_number": 22
    },
    {
     "cell_type": "code",
     "collapsed": false,
     "input": [
      "mystring"
     ],
     "language": "python",
     "metadata": {},
     "outputs": [
      {
       "metadata": {},
       "output_type": "pyout",
       "prompt_number": 23,
       "text": [
        "'Hello World\\n My name is James'"
       ]
      }
     ],
     "prompt_number": 23
    },
    {
     "cell_type": "code",
     "collapsed": false,
     "input": [
      "mystring.readline()"
     ],
     "language": "python",
     "metadata": {},
     "outputs": [
      {
       "ename": "AttributeError",
       "evalue": "'str' object has no attribute 'readline'",
       "output_type": "pyerr",
       "traceback": [
        "\u001b[0;31m---------------------------------------------------------------------------\u001b[0m",
        "\u001b[0;31mAttributeError\u001b[0m                            Traceback (most recent call last)",
        "Cell \u001b[0;32mIn [24], line 1\u001b[0m\n\u001b[0;32m----> 1\u001b[0m \u001b[43mmystring\u001b[49m\u001b[38;5;241;43m.\u001b[39;49m\u001b[43mreadline\u001b[49m()\n",
        "\u001b[0;31mAttributeError\u001b[0m: 'str' object has no attribute 'readline'"
       ]
      }
     ],
     "prompt_number": 24
    },
    {
     "cell_type": "markdown",
     "metadata": {},
     "source": [
      "This is important, because some file format parsers expect input from a **file** and not a string. ",
      "We can convert between them using the StringIO module in the standard library:"
     ]
    },
    {
     "cell_type": "code",
     "collapsed": false,
     "input": [
      "from io import StringIO"
     ],
     "language": "python",
     "metadata": {},
     "outputs": [],
     "prompt_number": 25
    },
    {
     "cell_type": "code",
     "collapsed": false,
     "input": [
      "mystringasafile = StringIO(mystring)"
     ],
     "language": "python",
     "metadata": {},
     "outputs": [],
     "prompt_number": 26
    },
    {
     "cell_type": "code",
     "collapsed": false,
     "input": [
      "mystringasafile.readline()"
     ],
     "language": "python",
     "metadata": {},
     "outputs": [
      {
       "metadata": {},
       "output_type": "pyout",
       "prompt_number": 27,
       "text": [
        "'Hello World\\n'"
       ]
      }
     ],
     "prompt_number": 27
    },
    {
     "cell_type": "code",
     "collapsed": false,
     "input": [
      "mystringasafile.readline()"
     ],
     "language": "python",
     "metadata": {},
     "outputs": [
      {
       "metadata": {},
       "output_type": "pyout",
       "prompt_number": 28,
       "text": [
        "' My name is James'"
       ]
      }
     ],
     "prompt_number": 28
    },
    {
     "cell_type": "markdown",
     "metadata": {},
     "source": [
      "Note that in a string, `\\n` is used to represent a newline."
     ]
    },
    {
     "cell_type": "markdown",
     "metadata": {},
     "source": [
      "## Closing files"
     ]
    },
    {
     "cell_type": "markdown",
     "metadata": {},
     "source": [
      "We really ought to close files when we've finished with them, as it makes the computer more efficient. (On a shared computer,",
      "this is particuarly important)"
     ]
    },
    {
     "cell_type": "code",
     "collapsed": false,
     "input": [
      "feynman_quote.close()"
     ],
     "language": "python",
     "metadata": {},
     "outputs": [],
     "prompt_number": 29
    },
    {
     "cell_type": "markdown",
     "metadata": {},
     "source": [
      "Because it's so easy to forget this, python provides a **context manager** to open a file, then close it automatically at",
      "the end of an indented block:"
     ]
    },
    {
     "cell_type": "code",
     "collapsed": false,
     "input": [
      "somefile = open(\"mydata.txt\")",
      "content = somefile.read()",
      "somefile.close()"
     ],
     "language": "python",
     "metadata": {},
     "outputs": [],
     "prompt_number": 30
    },
    {
     "cell_type": "code",
     "collapsed": false,
     "input": [
      "with open(\"mydata.txt\") as somefile:",
      "    content = somefile.read()",
      "# File automatically closed when the loop ends",
      "print(content)"
     ],
     "language": "python",
     "metadata": {},
     "outputs": [
      {
       "output_type": "stream",
       "stream": "stdout",
       "text": [
        "A poet once said, 'The whole universe is in a glass of wine.'",
        "We will probably never know in what sense he meant it, ",
        "for poets do not write to be understood. ",
        "But it is true that if we look at a glass of wine closely enough we see the entire universe. ",
        "There are the things of physics: the twisting liquid which evaporates depending",
        "on the wind and weather, the reflection in the glass;",
        "and our imagination adds atoms.",
        "The glass is a distillation of the earth's rocks,",
        "and in its composition we see the secrets of the universe's age, and the evolution of stars. ",
        "What strange array of chemicals are in the wine? How did they come to be? ",
        "There are the ferments, the enzymes, the substrates, and the products.",
        "There in wine is found the great generalization; all life is fermentation.",
        "Nobody can discover the chemistry of wine without discovering, ",
        "as did Louis Pasteur, the cause of much disease.",
        "How vivid is the claret, pressing its existence into the consciousness that watches it!",
        "If our small minds, for some convenience, divide this glass of wine, this universe, ",
        "into parts -- ",
        "physics, biology, geology, astronomy, psychology, and so on -- ",
        "remember that nature does not know it!",
        "",
        "So let us put it all back together, not forgetting ultimately what it is for.",
        "Let it give us one more final pleasure; drink it and forget it all!",
        "   - Richard Feynman",
        ""
       ]
      }
     ],
     "prompt_number": 31
    },
    {
     "cell_type": "markdown",
     "metadata": {},
     "source": [
      "The code to be done while the file is open is indented, just like for an `if` statement."
     ]
    },
    {
     "cell_type": "code",
     "collapsed": false,
     "input": [
      "print(somefile)"
     ],
     "language": "python",
     "metadata": {},
     "outputs": [
      {
       "output_type": "stream",
       "stream": "stdout",
       "text": [
        "<_io.TextIOWrapper name='mydata.txt' mode='r' encoding='UTF-8'>"
       ]
      }
     ],
     "prompt_number": 32
    },
    {
     "cell_type": "markdown",
     "metadata": {},
     "source": [
      "You should pretty much **always** use this syntax for working with files."
     ]
    },
    {
     "cell_type": "markdown",
     "metadata": {},
     "source": [
      "## Writing files"
     ]
    },
    {
     "cell_type": "markdown",
     "metadata": {},
     "source": [
      "We might want to create a file from a string in memory. We can't do this with the notebook's `%%writefile` -- this is",
      "just a notebook convenience, and isn't very programmable."
     ]
    },
    {
     "cell_type": "markdown",
     "metadata": {},
     "source": [
      "When we open a file, we can specify a 'mode', in this case, 'w' for writing. ('r' for reading is the default.)"
     ]
    },
    {
     "cell_type": "code",
     "collapsed": false,
     "input": [
      "with open(\"mywrittenfile\", \"w\") as target:",
      "    target.write(\"Hello\")",
      "    target.write(\"World\")"
     ],
     "language": "python",
     "metadata": {},
     "outputs": [],
     "prompt_number": 33
    },
    {
     "cell_type": "code",
     "collapsed": false,
     "input": [
      "with open(\"mywrittenfile\", \"r\") as source:",
      "    print(source.read())"
     ],
     "language": "python",
     "metadata": {},
     "outputs": [
      {
       "output_type": "stream",
       "stream": "stdout",
       "text": [
        "HelloWorld"
       ]
      }
     ],
     "prompt_number": 34
    },
    {
     "cell_type": "code",
     "collapsed": false,
     "input": [
      "import os",
      "",
      "print(os.getcwd())"
     ],
     "language": "python",
     "metadata": {},
     "outputs": [
      {
       "output_type": "stream",
       "stream": "stdout",
       "text": [
        "/home/runner/work/doctoral-programming-intro/doctoral-programming-intro/01-beginner"
       ]
      }
     ],
     "prompt_number": 35
    },
    {
     "cell_type": "markdown",
     "metadata": {},
     "source": [
      "And we can \"append\" to a file with mode 'a':"
     ]
    },
    {
     "cell_type": "code",
     "collapsed": false,
     "input": [
      "with open(\"mywrittenfile\", \"a\") as target:",
      "    target.write(\"Hello\")",
      "    target.write(\"James\")"
     ],
     "language": "python",
     "metadata": {},
     "outputs": [],
     "prompt_number": 36
    },
    {
     "cell_type": "code",
     "collapsed": false,
     "input": [
      "with open(\"mywrittenfile\", \"r\") as source:",
      "    print(source.read())"
     ],
     "language": "python",
     "metadata": {},
     "outputs": [
      {
       "output_type": "stream",
       "stream": "stdout",
       "text": [
        "HelloWorldHelloJames"
       ]
      }
     ],
     "prompt_number": 37
    }
   ],
   "metadata": {}
  }
 ]
}
