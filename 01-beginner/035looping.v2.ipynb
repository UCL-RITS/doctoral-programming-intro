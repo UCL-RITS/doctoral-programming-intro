{
 "metadata": {
  "jekyll": {
   "display_name": "Looping"
  },
  "kernelspec": {
   "display_name": "Python 3 (ipykernel)",
   "language": "python",
   "name": "python3"
  },
  "language_info": {
   "codemirror_mode": {
    "name": "ipython",
    "version": 3
   },
   "file_extension": ".py",
   "mimetype": "text/x-python",
   "name": "python",
   "nbconvert_exporter": "python",
   "pygments_lexer": "ipython3",
   "version": "3.8.14"
  },
  "name": ""
 },
 "nbformat": 2,
 "nbformat_minor": 0,
 "orig_nbformat": 4,
 "orig_nbformat_minor": 5,
 "worksheets": [
  {
   "cells": [
    {
     "cell_type": "markdown",
     "metadata": {},
     "source": [
      "## Iteration"
     ]
    },
    {
     "cell_type": "markdown",
     "metadata": {},
     "source": [
      "Our other aspect of control is looping back on ourselves.",
      "",
      "We use `for` ... `in` ... to \"iterate\" over lists:"
     ]
    },
    {
     "cell_type": "code",
     "collapsed": false,
     "input": [
      "mylist = [3, 7, 15, 2]",
      "",
      "for element in mylist:",
      "    print(element ** 2)"
     ],
     "language": "python",
     "metadata": {},
     "outputs": [
      {
       "output_type": "stream",
       "stream": "stdout",
       "text": [
        "9",
        "49",
        "225",
        "4"
       ]
      }
     ],
     "prompt_number": 1
    },
    {
     "cell_type": "markdown",
     "metadata": {},
     "source": [
      "Each time through the loop, the value in the `element` slot is updated to the **next** value in the sequence."
     ]
    },
    {
     "cell_type": "markdown",
     "metadata": {},
     "source": [
      "## Iterables"
     ]
    },
    {
     "cell_type": "markdown",
     "metadata": {},
     "source": [
      "",
      "Any sequence type is iterable:",
      "",
      ""
     ]
    },
    {
     "cell_type": "code",
     "collapsed": false,
     "input": [
      "vowels = \"aeiou\"",
      "",
      "sarcasm = []",
      "",
      "for letter in \"Okay\":",
      "    if letter.lower() in vowels:",
      "        repetition = 3",
      "    else:",
      "        repetition = 1",
      "    sarcasm.append(letter * repetition)",
      "",
      "\"\".join(sarcasm)"
     ],
     "language": "python",
     "metadata": {},
     "outputs": [
      {
       "metadata": {},
       "output_type": "pyout",
       "prompt_number": 2,
       "text": [
        "'OOOkaaay'"
       ]
      }
     ],
     "prompt_number": 2
    },
    {
     "cell_type": "markdown",
     "metadata": {},
     "source": [
      "The above is a little puzzle, work through it to understand why it does what it does"
     ]
    },
    {
     "cell_type": "markdown",
     "metadata": {},
     "source": [
      "## Dictionaries are Iterables"
     ]
    },
    {
     "cell_type": "markdown",
     "metadata": {},
     "source": [
      "All sequences are iterables. Some iterables (things you can `for` loop over) are not sequences (things with you can do `x[5]` to), for example **sets**."
     ]
    },
    {
     "cell_type": "code",
     "collapsed": false,
     "input": [
      "import datetime",
      "",
      "now = datetime.datetime.now()",
      "",
      "founded = {\"James\": 1976, \"UCL\": 1826, \"Cambridge\": 1209}",
      "",
      "current_year = now.year",
      "",
      "for x in founded:",
      "    print(x, \"is\", current_year - founded[x], \"years old.\")"
     ],
     "language": "python",
     "metadata": {},
     "outputs": [
      {
       "output_type": "stream",
       "stream": "stdout",
       "text": [
        "James is 46 years old.",
        "UCL is 196 years old.",
        "Cambridge is 813 years old."
       ]
      }
     ],
     "prompt_number": 3
    },
    {
     "cell_type": "code",
     "collapsed": false,
     "input": [
      "thing = \"UCL\"",
      "",
      "founded[thing]"
     ],
     "language": "python",
     "metadata": {},
     "outputs": [
      {
       "metadata": {},
       "output_type": "pyout",
       "prompt_number": 4,
       "text": [
        "1826"
       ]
      }
     ],
     "prompt_number": 4
    },
    {
     "cell_type": "code",
     "collapsed": false,
     "input": [
      "founded"
     ],
     "language": "python",
     "metadata": {},
     "outputs": [
      {
       "metadata": {},
       "output_type": "pyout",
       "prompt_number": 5,
       "text": [
        "{'James': 1976, 'UCL': 1826, 'Cambridge': 1209}"
       ]
      }
     ],
     "prompt_number": 5
    },
    {
     "cell_type": "code",
     "collapsed": false,
     "input": [
      "founded.items()"
     ],
     "language": "python",
     "metadata": {},
     "outputs": [
      {
       "metadata": {},
       "output_type": "pyout",
       "prompt_number": 6,
       "text": [
        "dict_items([('James', 1976), ('UCL', 1826), ('Cambridge', 1209)])"
       ]
      }
     ],
     "prompt_number": 6
    },
    {
     "cell_type": "markdown",
     "metadata": {},
     "source": [
      "## Unpacking and Iteration"
     ]
    },
    {
     "cell_type": "markdown",
     "metadata": {},
     "source": [
      "",
      "Unpacking can be useful with iteration:",
      "",
      ""
     ]
    },
    {
     "cell_type": "code",
     "collapsed": false,
     "input": [
      "triples=[",
      "    [4, 11, 15], ",
      "    [39, 4, 18]",
      "]"
     ],
     "language": "python",
     "metadata": {},
     "outputs": [],
     "prompt_number": 7
    },
    {
     "cell_type": "code",
     "collapsed": false,
     "input": [
      "for whatever in triples:",
      "    print(whatever)"
     ],
     "language": "python",
     "metadata": {},
     "outputs": [
      {
       "output_type": "stream",
       "stream": "stdout",
       "text": [
        "[4, 11, 15]",
        "[39, 4, 18]"
       ]
      }
     ],
     "prompt_number": 8
    },
    {
     "cell_type": "code",
     "collapsed": false,
     "input": [
      "a, b = [36, 7]"
     ],
     "language": "python",
     "metadata": {},
     "outputs": [],
     "prompt_number": 9
    },
    {
     "cell_type": "code",
     "collapsed": false,
     "input": [
      "b"
     ],
     "language": "python",
     "metadata": {},
     "outputs": [
      {
       "metadata": {},
       "output_type": "pyout",
       "prompt_number": 10,
       "text": [
        "7"
       ]
      }
     ],
     "prompt_number": 10
    },
    {
     "cell_type": "code",
     "collapsed": false,
     "input": [
      "for first, middle, last in triples:",
      "    print(middle)"
     ],
     "language": "python",
     "metadata": {},
     "outputs": [
      {
       "output_type": "stream",
       "stream": "stdout",
       "text": [
        "11",
        "4"
       ]
      }
     ],
     "prompt_number": 11
    },
    {
     "cell_type": "code",
     "collapsed": false,
     "input": [
      "# A reminder that the words you use for variable names are arbitrary:",
      "for hedgehog, badger, fox in triples:",
      "    print(badger)"
     ],
     "language": "python",
     "metadata": {},
     "outputs": [
      {
       "output_type": "stream",
       "stream": "stdout",
       "text": [
        "11",
        "4"
       ]
      }
     ],
     "prompt_number": 12
    },
    {
     "cell_type": "markdown",
     "metadata": {},
     "source": [
      "",
      "",
      "",
      "For example, to iterate over the items in a dictionary as pairs:",
      "",
      ""
     ]
    },
    {
     "cell_type": "code",
     "collapsed": false,
     "input": [
      "for name, year in founded.items():",
      "    print(name, \"is\", current_year - year, \"years old.\")"
     ],
     "language": "python",
     "metadata": {},
     "outputs": [
      {
       "output_type": "stream",
       "stream": "stdout",
       "text": [
        "James is 46 years old.",
        "UCL is 196 years old.",
        "Cambridge is 813 years old."
       ]
      }
     ],
     "prompt_number": 13
    },
    {
     "cell_type": "code",
     "collapsed": false,
     "input": [
      "for name in founded:",
      "    print(name, \"is\", current_year - founded[name], \"years old.\")"
     ],
     "language": "python",
     "metadata": {},
     "outputs": [
      {
       "output_type": "stream",
       "stream": "stdout",
       "text": [
        "James is 46 years old.",
        "UCL is 196 years old.",
        "Cambridge is 813 years old."
       ]
      }
     ],
     "prompt_number": 14
    },
    {
     "cell_type": "markdown",
     "metadata": {},
     "source": [
      "## Break, Continue"
     ]
    },
    {
     "cell_type": "markdown",
     "metadata": {},
     "source": [
      "",
      "* Continue skips to the next turn of a loop",
      "* Break stops the loop early",
      "",
      ""
     ]
    },
    {
     "cell_type": "code",
     "collapsed": false,
     "input": [
      "for n in range(50):",
      "    if n == 20:",
      "        break",
      "    if n % 2 == 0:",
      "        continue",
      "    print(n)"
     ],
     "language": "python",
     "metadata": {},
     "outputs": [
      {
       "output_type": "stream",
       "stream": "stdout",
       "text": [
        "1",
        "3",
        "5",
        "7",
        "9",
        "11",
        "13",
        "15",
        "17",
        "19"
       ]
      }
     ],
     "prompt_number": 15
    },
    {
     "cell_type": "markdown",
     "metadata": {},
     "source": [
      "These aren't useful that often, but are worth knowing about. There's also an optional `else` clause on loops, executed only if if the loop gets through all it's iterations without a `break`, but I've never found that useful."
     ]
    },
    {
     "cell_type": "markdown",
     "metadata": {},
     "source": [
      "## Exercise: the Maze Population"
     ]
    },
    {
     "cell_type": "markdown",
     "metadata": {},
     "source": [
      "Take your maze data structure. Write a program to count the total number of people in the maze, and also determine the total possible occupants."
     ]
    }
   ],
   "metadata": {}
  }
 ]
}
