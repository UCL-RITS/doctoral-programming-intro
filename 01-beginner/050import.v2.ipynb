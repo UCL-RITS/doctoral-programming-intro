{
 "metadata": {
  "jekyll": {
   "display_name": "Modules"
  },
  "kernelspec": {
   "display_name": "Python 3 (ipykernel)",
   "language": "python",
   "name": "python3"
  },
  "language_info": {
   "codemirror_mode": {
    "name": "ipython",
    "version": 3
   },
   "file_extension": ".py",
   "mimetype": "text/x-python",
   "name": "python",
   "nbconvert_exporter": "python",
   "pygments_lexer": "ipython3",
   "version": "3.8.14"
  },
  "name": ""
 },
 "nbformat": 2,
 "nbformat_minor": 0,
 "orig_nbformat": 4,
 "orig_nbformat_minor": 5,
 "worksheets": [
  {
   "cells": [
    {
     "cell_type": "markdown",
     "metadata": {},
     "source": [
      "# Using Libraries"
     ]
    },
    {
     "cell_type": "markdown",
     "metadata": {},
     "source": [
      "## Import"
     ]
    },
    {
     "cell_type": "markdown",
     "metadata": {},
     "source": [
      "To use a function or type from a python library, rather than a **built-in** function or type, we have to import the library."
     ]
    },
    {
     "cell_type": "code",
     "collapsed": false,
     "input": [
      "math.sin(1.6)"
     ],
     "language": "python",
     "metadata": {},
     "outputs": [
      {
       "ename": "NameError",
       "evalue": "name 'math' is not defined",
       "output_type": "pyerr",
       "traceback": [
        "\u001b[0;31m---------------------------------------------------------------------------\u001b[0m",
        "\u001b[0;31mNameError\u001b[0m                                 Traceback (most recent call last)",
        "Cell \u001b[0;32mIn [1], line 1\u001b[0m\n\u001b[0;32m----> 1\u001b[0m \u001b[43mmath\u001b[49m\u001b[38;5;241m.\u001b[39msin(\u001b[38;5;241m1.6\u001b[39m)\n",
        "\u001b[0;31mNameError\u001b[0m: name 'math' is not defined"
       ]
      }
     ],
     "prompt_number": 1
    },
    {
     "cell_type": "code",
     "collapsed": false,
     "input": [
      "import math"
     ],
     "language": "python",
     "metadata": {},
     "outputs": [],
     "prompt_number": 2
    },
    {
     "cell_type": "code",
     "collapsed": false,
     "input": [
      "math.sin(1.6)"
     ],
     "language": "python",
     "metadata": {},
     "outputs": [
      {
       "metadata": {},
       "output_type": "pyout",
       "prompt_number": 3,
       "text": [
        "0.9995736030415051"
       ]
      }
     ],
     "prompt_number": 3
    },
    {
     "cell_type": "markdown",
     "metadata": {},
     "source": [
      "We call these libraries **modules**:"
     ]
    },
    {
     "cell_type": "code",
     "collapsed": false,
     "input": [
      "type(math)"
     ],
     "language": "python",
     "metadata": {},
     "outputs": [
      {
       "metadata": {},
       "output_type": "pyout",
       "prompt_number": 4,
       "text": [
        "module"
       ]
      }
     ],
     "prompt_number": 4
    },
    {
     "cell_type": "markdown",
     "metadata": {},
     "source": [
      "The tools supplied by a module are *attributes* of the module, and as such, are accessed with a dot."
     ]
    },
    {
     "cell_type": "code",
     "collapsed": false,
     "input": [
      "dir(math)"
     ],
     "language": "python",
     "metadata": {},
     "outputs": [
      {
       "metadata": {},
       "output_type": "pyout",
       "prompt_number": 5,
       "text": [
        "['__doc__',",
        " '__file__',",
        " '__loader__',",
        " '__name__',",
        " '__package__',",
        " '__spec__',",
        " 'acos',",
        " 'acosh',",
        " 'asin',",
        " 'asinh',",
        " 'atan',",
        " 'atan2',",
        " 'atanh',",
        " 'ceil',",
        " 'comb',",
        " 'copysign',",
        " 'cos',",
        " 'cosh',",
        " 'degrees',",
        " 'dist',",
        " 'e',",
        " 'erf',",
        " 'erfc',",
        " 'exp',",
        " 'expm1',",
        " 'fabs',",
        " 'factorial',",
        " 'floor',",
        " 'fmod',",
        " 'frexp',",
        " 'fsum',",
        " 'gamma',",
        " 'gcd',",
        " 'hypot',",
        " 'inf',",
        " 'isclose',",
        " 'isfinite',",
        " 'isinf',",
        " 'isnan',",
        " 'isqrt',",
        " 'ldexp',",
        " 'lgamma',",
        " 'log',",
        " 'log10',",
        " 'log1p',",
        " 'log2',",
        " 'modf',",
        " 'nan',",
        " 'perm',",
        " 'pi',",
        " 'pow',",
        " 'prod',",
        " 'radians',",
        " 'remainder',",
        " 'sin',",
        " 'sinh',",
        " 'sqrt',",
        " 'tan',",
        " 'tanh',",
        " 'tau',",
        " 'trunc']"
       ]
      }
     ],
     "prompt_number": 5
    },
    {
     "cell_type": "markdown",
     "metadata": {},
     "source": [
      "They include properties as well as functions:"
     ]
    },
    {
     "cell_type": "code",
     "collapsed": false,
     "input": [
      "math.pi"
     ],
     "language": "python",
     "metadata": {},
     "outputs": [
      {
       "metadata": {},
       "output_type": "pyout",
       "prompt_number": 6,
       "text": [
        "3.141592653589793"
       ]
      }
     ],
     "prompt_number": 6
    },
    {
     "cell_type": "markdown",
     "metadata": {},
     "source": [
      "You can find out where on your storage medium a library has been imported from:"
     ]
    },
    {
     "cell_type": "code",
     "collapsed": false,
     "input": [
      "print(math.__file__)"
     ],
     "language": "python",
     "metadata": {},
     "outputs": [
      {
       "output_type": "stream",
       "stream": "stdout",
       "text": [
        "/opt/hostedtoolcache/Python/3.8.14/x64/lib/python3.8/lib-dynload/math.cpython-38-x86_64-linux-gnu.so"
       ]
      }
     ],
     "prompt_number": 7
    },
    {
     "cell_type": "markdown",
     "metadata": {},
     "source": [
      "Some modules do not use the `__file__` attribute so you may get an error:",
      "",
      "``` python",
      "AttributeError: module 'modulename' has no attribute '__file__'",
      "```",
      "",
      "If this is the case `print(modulename)` should display a description of the module object which will include an indication if the module is a 'built-in' module written in C (in which case the file path will not be specified) or the file path to the module otherwise."
     ]
    },
    {
     "cell_type": "code",
     "collapsed": false,
     "input": [
      "print(math)"
     ],
     "language": "python",
     "metadata": {},
     "outputs": [
      {
       "output_type": "stream",
       "stream": "stdout",
       "text": [
        "<module 'math' from '/opt/hostedtoolcache/Python/3.8.14/x64/lib/python3.8/lib-dynload/math.cpython-38-x86_64-linux-gnu.so'>"
       ]
      }
     ],
     "prompt_number": 8
    },
    {
     "cell_type": "markdown",
     "metadata": {},
     "source": [
      "Note that `import` does *not* install libraries from PyPI. It just makes them available to your current notebook session, assuming they are already installed. Installing libraries is harder, and we'll cover it later.",
      "So what libraries are available? Until you install more, you might have just the modules that come with Python, the *standard library*."
     ]
    },
    {
     "cell_type": "markdown",
     "metadata": {},
     "source": [
      "**Supplementary Materials**: Review the list of standard library modules: https://docs.python.org/3/library/"
     ]
    },
    {
     "cell_type": "markdown",
     "metadata": {},
     "source": [
      "If you installed via Anaconda, then you also have access to a bunch of modules that are commonly used in research.",
      "",
      "**Supplementary Materials**: Review the list of modules that are packaged with Anaconda by default: http://docs.continuum.io/anaconda/pkg-docs.html (choose your operating system and see which packages have a tick mark)",
      "",
      "We'll see later how to add more libraries to our setup."
     ]
    },
    {
     "cell_type": "markdown",
     "metadata": {},
     "source": [
      "## Why bother?"
     ]
    },
    {
     "cell_type": "markdown",
     "metadata": {},
     "source": [
      "Why bother with modules? Why not just have everything available all the time?",
      "",
      "The answer is that there are only so many names available! Without a module system, every time I made a variable whose name matched a function in a library, I'd lose access to it. In the olden days, people ended up having to make really long variable names, thinking their names would be unique, and they still ended up with \"name clashes\". The module mechanism avoids this."
     ]
    },
    {
     "cell_type": "markdown",
     "metadata": {},
     "source": [
      "## Importing from modules"
     ]
    },
    {
     "cell_type": "markdown",
     "metadata": {},
     "source": [
      "Still, it can be annoying to have to write `math.sin(math.pi)` instead of `sin(pi)`.",
      "Things can be imported *from* modules to become part of the current module:"
     ]
    },
    {
     "cell_type": "code",
     "collapsed": false,
     "input": [
      "from math import sin",
      "",
      "sin(math.pi)"
     ],
     "language": "python",
     "metadata": {},
     "outputs": [
      {
       "metadata": {},
       "output_type": "pyout",
       "prompt_number": 9,
       "text": [
        "1.2246467991473532e-16"
       ]
      }
     ],
     "prompt_number": 9
    },
    {
     "cell_type": "markdown",
     "metadata": {},
     "source": [
      "Importing one-by-one like this is a nice compromise between typing and risk of name clashes."
     ]
    },
    {
     "cell_type": "markdown",
     "metadata": {},
     "source": [
      "It *is* possible to import **everything** from a module, but you risk name clashes."
     ]
    },
    {
     "cell_type": "code",
     "collapsed": false,
     "input": [
      "pi = \"pie\"",
      "",
      "",
      "def sin(x):",
      "    print(\"eat \" + x)",
      "",
      "",
      "from math import *",
      "",
      "sin(pi)"
     ],
     "language": "python",
     "metadata": {},
     "outputs": [
      {
       "metadata": {},
       "output_type": "pyout",
       "prompt_number": 10,
       "text": [
        "1.2246467991473532e-16"
       ]
      }
     ],
     "prompt_number": 10
    },
    {
     "cell_type": "markdown",
     "metadata": {},
     "source": [
      "## Import and rename"
     ]
    },
    {
     "cell_type": "markdown",
     "metadata": {},
     "source": [
      "You can rename things as you import them to avoid clashes or for typing convenience"
     ]
    },
    {
     "cell_type": "code",
     "collapsed": false,
     "input": [
      "import math as m",
      "",
      "m.cos(0)"
     ],
     "language": "python",
     "metadata": {},
     "outputs": [
      {
       "metadata": {},
       "output_type": "pyout",
       "prompt_number": 11,
       "text": [
        "1.0"
       ]
      }
     ],
     "prompt_number": 11
    },
    {
     "cell_type": "code",
     "collapsed": false,
     "input": [
      "pi = 3",
      "from math import pi as realpi",
      "",
      "print(sin(pi), sin(realpi))"
     ],
     "language": "python",
     "metadata": {},
     "outputs": [
      {
       "output_type": "stream",
       "stream": "stdout",
       "text": [
        "0.1411200080598672 1.2246467991473532e-16"
       ]
      }
     ],
     "prompt_number": 12
    }
   ],
   "metadata": {}
  }
 ]
}
