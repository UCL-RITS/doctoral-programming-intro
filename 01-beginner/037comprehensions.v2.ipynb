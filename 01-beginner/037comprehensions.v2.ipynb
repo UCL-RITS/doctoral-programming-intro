{
 "metadata": {
  "jekyll": {
   "display_name": "Comprehensions"
  },
  "kernelspec": {
   "display_name": "Python 3 (ipykernel)",
   "language": "python",
   "name": "python3"
  },
  "language_info": {
   "codemirror_mode": {
    "name": "ipython",
    "version": 3
   },
   "file_extension": ".py",
   "mimetype": "text/x-python",
   "name": "python",
   "nbconvert_exporter": "python",
   "pygments_lexer": "ipython3",
   "version": "3.8.14"
  },
  "name": ""
 },
 "nbformat": 2,
 "nbformat_minor": 0,
 "orig_nbformat": 4,
 "orig_nbformat_minor": 5,
 "worksheets": [
  {
   "cells": [
    {
     "cell_type": "markdown",
     "metadata": {},
     "source": [
      "# Comprehensions"
     ]
    },
    {
     "cell_type": "markdown",
     "metadata": {},
     "source": [
      "## The list comprehension"
     ]
    },
    {
     "cell_type": "markdown",
     "metadata": {},
     "source": [
      "If you write a for loop **inside** a pair of square brackets for a list, you magic up a list as defined.",
      "This can make for concise but hard to read code, so be careful."
     ]
    },
    {
     "cell_type": "code",
     "collapsed": false,
     "input": [
      "result = []",
      "for x in range(10):",
      "    result.append(2 ** x)",
      "",
      "print(result)"
     ],
     "language": "python",
     "metadata": {},
     "outputs": [
      {
       "output_type": "stream",
       "stream": "stdout",
       "text": [
        "[1, 2, 4, 8, 16, 32, 64, 128, 256, 512]"
       ]
      }
     ],
     "prompt_number": 1
    },
    {
     "cell_type": "markdown",
     "metadata": {},
     "source": [
      "is the same as"
     ]
    },
    {
     "cell_type": "code",
     "collapsed": false,
     "input": [
      "[2 ** x for x in range(10)]"
     ],
     "language": "python",
     "metadata": {},
     "outputs": [
      {
       "metadata": {},
       "output_type": "pyout",
       "prompt_number": 2,
       "text": [
        "[1, 2, 4, 8, 16, 32, 64, 128, 256, 512]"
       ]
      }
     ],
     "prompt_number": 2
    },
    {
     "cell_type": "markdown",
     "metadata": {},
     "source": [
      "You can do quite weird and cool things with comprehensions:"
     ]
    },
    {
     "cell_type": "code",
     "collapsed": false,
     "input": [
      "[len(str(2 ** x)) for x in range(20)]"
     ],
     "language": "python",
     "metadata": {},
     "outputs": [
      {
       "metadata": {},
       "output_type": "pyout",
       "prompt_number": 3,
       "text": [
        "[1, 1, 1, 1, 2, 2, 2, 3, 3, 3, 4, 4, 4, 4, 5, 5, 5, 6, 6, 6]"
       ]
      }
     ],
     "prompt_number": 3
    },
    {
     "cell_type": "markdown",
     "metadata": {},
     "source": [
      "You can write an `if` statement in comprehensions too: "
     ]
    },
    {
     "cell_type": "code",
     "collapsed": false,
     "input": [
      "[2 ** x for x in range(30) if x % 3 == 0]"
     ],
     "language": "python",
     "metadata": {},
     "outputs": [
      {
       "metadata": {},
       "output_type": "pyout",
       "prompt_number": 4,
       "text": [
        "[1, 8, 64, 512, 4096, 32768, 262144, 2097152, 16777216, 134217728]"
       ]
      }
     ],
     "prompt_number": 4
    },
    {
     "cell_type": "markdown",
     "metadata": {},
     "source": [
      "Consider the following, and make sure you understand why it works:"
     ]
    },
    {
     "cell_type": "code",
     "collapsed": false,
     "input": [
      "\"\".join([letter for letter in \"James Hetherington\" if letter.lower() not in \"aeiou\"])"
     ],
     "language": "python",
     "metadata": {},
     "outputs": [
      {
       "metadata": {},
       "output_type": "pyout",
       "prompt_number": 5,
       "text": [
        "'Jms Hthrngtn'"
       ]
      }
     ],
     "prompt_number": 5
    },
    {
     "cell_type": "markdown",
     "metadata": {},
     "source": [
      "## Comprehensions versus building lists with `append`:"
     ]
    },
    {
     "cell_type": "markdown",
     "metadata": {},
     "source": [
      "This code:"
     ]
    },
    {
     "cell_type": "code",
     "collapsed": false,
     "input": [
      "result = []",
      "for x in range(30):",
      "    if x % 3 == 0:",
      "        result.append(2 ** x)",
      "print(result)"
     ],
     "language": "python",
     "metadata": {},
     "outputs": [
      {
       "output_type": "stream",
       "stream": "stdout",
       "text": [
        "[1, 8, 64, 512, 4096, 32768, 262144, 2097152, 16777216, 134217728]"
       ]
      }
     ],
     "prompt_number": 6
    },
    {
     "cell_type": "markdown",
     "metadata": {},
     "source": [
      "does the same as the comprehension above. The comprehension is generally considered more readable."
     ]
    },
    {
     "cell_type": "markdown",
     "metadata": {},
     "source": [
      "Comprehensions are therefore an example of what we call 'syntactic sugar': they do not increase the capabilities of the language."
     ]
    },
    {
     "cell_type": "markdown",
     "metadata": {},
     "source": [
      "Instead, they make it possible to write the same thing in a more readable way. "
     ]
    },
    {
     "cell_type": "markdown",
     "metadata": {},
     "source": [
      "Everything we learn from now on will be either syntactic sugar or interaction with something other than idealised memory, such as a storage device or the internet. Once you have variables, conditionality, and branching, your language can do anything. (And this can be proved.)"
     ]
    },
    {
     "cell_type": "markdown",
     "metadata": {},
     "source": [
      "## Nested comprehensions"
     ]
    },
    {
     "cell_type": "markdown",
     "metadata": {},
     "source": [
      "If you write two `for` statements in a comprehension, you get a single array generated over all the pairs:"
     ]
    },
    {
     "cell_type": "code",
     "collapsed": false,
     "input": [
      "[x - y for x in range(4) for y in range(4)]"
     ],
     "language": "python",
     "metadata": {},
     "outputs": [
      {
       "metadata": {},
       "output_type": "pyout",
       "prompt_number": 7,
       "text": [
        "[0, -1, -2, -3, 1, 0, -1, -2, 2, 1, 0, -1, 3, 2, 1, 0]"
       ]
      }
     ],
     "prompt_number": 7
    },
    {
     "cell_type": "markdown",
     "metadata": {},
     "source": [
      "You can select on either, or on some combination:"
     ]
    },
    {
     "cell_type": "code",
     "collapsed": false,
     "input": [
      "[x - y for x in range(4) for y in range(4) if x >= y]"
     ],
     "language": "python",
     "metadata": {},
     "outputs": [
      {
       "metadata": {},
       "output_type": "pyout",
       "prompt_number": 8,
       "text": [
        "[0, 1, 0, 2, 1, 0, 3, 2, 1, 0]"
       ]
      }
     ],
     "prompt_number": 8
    },
    {
     "cell_type": "markdown",
     "metadata": {},
     "source": [
      "If you want something more like a matrix, you need to do *two nested* comprehensions!"
     ]
    },
    {
     "cell_type": "code",
     "collapsed": false,
     "input": [
      "[[x - y for x in range(4)] for y in range(4)]"
     ],
     "language": "python",
     "metadata": {},
     "outputs": [
      {
       "metadata": {},
       "output_type": "pyout",
       "prompt_number": 9,
       "text": [
        "[[0, 1, 2, 3], [-1, 0, 1, 2], [-2, -1, 0, 1], [-3, -2, -1, 0]]"
       ]
      }
     ],
     "prompt_number": 9
    },
    {
     "cell_type": "markdown",
     "metadata": {},
     "source": [
      "Note the subtly different square brackets."
     ]
    },
    {
     "cell_type": "markdown",
     "metadata": {},
     "source": [
      "Note that the list order for multiple or nested comprehensions can be confusing:"
     ]
    },
    {
     "cell_type": "code",
     "collapsed": false,
     "input": [
      "[x + y for x in [\"a\", \"b\", \"c\"] for y in [\"1\", \"2\", \"3\"]]"
     ],
     "language": "python",
     "metadata": {},
     "outputs": [
      {
       "metadata": {},
       "output_type": "pyout",
       "prompt_number": 10,
       "text": [
        "['a1', 'a2', 'a3', 'b1', 'b2', 'b3', 'c1', 'c2', 'c3']"
       ]
      }
     ],
     "prompt_number": 10
    },
    {
     "cell_type": "code",
     "collapsed": false,
     "input": [
      "[[x + y for x in [\"a\", \"b\", \"c\"]] for y in [\"1\", \"2\", \"3\"]]"
     ],
     "language": "python",
     "metadata": {},
     "outputs": [
      {
       "metadata": {},
       "output_type": "pyout",
       "prompt_number": 11,
       "text": [
        "[['a1', 'b1', 'c1'], ['a2', 'b2', 'c2'], ['a3', 'b3', 'c3']]"
       ]
      }
     ],
     "prompt_number": 11
    },
    {
     "cell_type": "markdown",
     "metadata": {},
     "source": [
      "## Dictionary Comprehensions"
     ]
    },
    {
     "cell_type": "markdown",
     "metadata": {},
     "source": [
      "You can automatically build dictionaries by using a list comprehension syntax, but with curly brackets and a colon:"
     ]
    },
    {
     "cell_type": "code",
     "collapsed": false,
     "input": [
      "{((str(x)) * 3): x for x in range(3)}"
     ],
     "language": "python",
     "metadata": {},
     "outputs": [
      {
       "metadata": {},
       "output_type": "pyout",
       "prompt_number": 12,
       "text": [
        "{'000': 0, '111': 1, '222': 2}"
       ]
      }
     ],
     "prompt_number": 12
    },
    {
     "cell_type": "markdown",
     "metadata": {},
     "source": [
      "## List-based thinking"
     ]
    },
    {
     "cell_type": "markdown",
     "metadata": {},
     "source": [
      "Once you start to get comfortable with comprehensions, you find yourself working with containers, nested groups of lists ",
      "and dictionaries, as the 'things' in your program, not individual variables. "
     ]
    },
    {
     "cell_type": "markdown",
     "metadata": {},
     "source": [
      "Given a way to analyse some dataset, we'll find ourselves writing stuff like:",
      "",
      "    analysed_data = [analyse(datum) for datum in data]",
      "    ",
      "    analysed_data = map(analyse, data)"
     ]
    },
    {
     "cell_type": "markdown",
     "metadata": {},
     "source": [
      "There are lots of built-in methods that provide actions on lists as a whole:"
     ]
    },
    {
     "cell_type": "code",
     "collapsed": false,
     "input": [
      "any([True, False, True])"
     ],
     "language": "python",
     "metadata": {},
     "outputs": [
      {
       "metadata": {},
       "output_type": "pyout",
       "prompt_number": 13,
       "text": [
        "True"
       ]
      }
     ],
     "prompt_number": 13
    },
    {
     "cell_type": "code",
     "collapsed": false,
     "input": [
      "all([True, False, True])"
     ],
     "language": "python",
     "metadata": {},
     "outputs": [
      {
       "metadata": {},
       "output_type": "pyout",
       "prompt_number": 14,
       "text": [
        "False"
       ]
      }
     ],
     "prompt_number": 14
    },
    {
     "cell_type": "code",
     "collapsed": false,
     "input": [
      "max([1, 2, 3])"
     ],
     "language": "python",
     "metadata": {},
     "outputs": [
      {
       "metadata": {},
       "output_type": "pyout",
       "prompt_number": 15,
       "text": [
        "3"
       ]
      }
     ],
     "prompt_number": 15
    },
    {
     "cell_type": "code",
     "collapsed": false,
     "input": [
      "sum([1, 2, 3])"
     ],
     "language": "python",
     "metadata": {},
     "outputs": [
      {
       "metadata": {},
       "output_type": "pyout",
       "prompt_number": 16,
       "text": [
        "6"
       ]
      }
     ],
     "prompt_number": 16
    },
    {
     "cell_type": "markdown",
     "metadata": {},
     "source": [
      "One common method is `map`, which works like a simple list comprehension: it applies one function to every member of a list."
     ]
    },
    {
     "cell_type": "code",
     "collapsed": false,
     "input": [
      "[str(x) for x in range(10)]"
     ],
     "language": "python",
     "metadata": {},
     "outputs": [
      {
       "metadata": {},
       "output_type": "pyout",
       "prompt_number": 17,
       "text": [
        "['0', '1', '2', '3', '4', '5', '6', '7', '8', '9']"
       ]
      }
     ],
     "prompt_number": 17
    },
    {
     "cell_type": "code",
     "collapsed": false,
     "input": [
      "map(str, range(10))"
     ],
     "language": "python",
     "metadata": {},
     "outputs": [
      {
       "metadata": {},
       "output_type": "pyout",
       "prompt_number": 18,
       "text": [
        "<map at 0x7f65c83f08e0>"
       ]
      }
     ],
     "prompt_number": 18
    },
    {
     "cell_type": "markdown",
     "metadata": {},
     "source": [
      "Its output is this strange-looking `map` object, which can be iterated over (with a `for`) or turned into a list:"
     ]
    },
    {
     "cell_type": "code",
     "collapsed": false,
     "input": [
      "for element in map(str, range(10)):",
      "    print(element)"
     ],
     "language": "python",
     "metadata": {},
     "outputs": [
      {
       "output_type": "stream",
       "stream": "stdout",
       "text": [
        "0",
        "1",
        "2",
        "3",
        "4",
        "5",
        "6",
        "7",
        "8",
        "9"
       ]
      }
     ],
     "prompt_number": 19
    },
    {
     "cell_type": "code",
     "collapsed": false,
     "input": [
      "list(map(str, range(10)))"
     ],
     "language": "python",
     "metadata": {},
     "outputs": [
      {
       "metadata": {},
       "output_type": "pyout",
       "prompt_number": 20,
       "text": [
        "['0', '1', '2', '3', '4', '5', '6', '7', '8', '9']"
       ]
      }
     ],
     "prompt_number": 20
    },
    {
     "cell_type": "markdown",
     "metadata": {},
     "source": [
      "So I can write:",
      "    ",
      "    analysed_data = list(map(analyse, data))"
     ]
    },
    {
     "cell_type": "markdown",
     "metadata": {},
     "source": [
      "## Exercise: Occupancy Dictionary"
     ]
    },
    {
     "cell_type": "markdown",
     "metadata": {},
     "source": [
      "Take your maze data structure. Write a program to print out a new dictionary, which gives,",
      "for each room's name, the number of people in it. Don't add in a zero value in the dictionary for empty rooms."
     ]
    },
    {
     "cell_type": "markdown",
     "metadata": {},
     "source": [
      "The output should look similar to:"
     ]
    },
    {
     "cell_type": "code",
     "collapsed": false,
     "input": [
      "{\"bedroom\": 1, \"garden\": 3, \"kitchen\": 1, \"living\": 2}"
     ],
     "language": "python",
     "metadata": {},
     "outputs": [
      {
       "metadata": {},
       "output_type": "pyout",
       "prompt_number": 21,
       "text": [
        "{'bedroom': 1, 'garden': 3, 'kitchen': 1, 'living': 2}"
       ]
      }
     ],
     "prompt_number": 21
    }
   ],
   "metadata": {}
  }
 ]
}
