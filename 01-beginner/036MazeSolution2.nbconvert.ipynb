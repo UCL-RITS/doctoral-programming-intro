{
 "cells": [
  {
   "cell_type": "markdown",
   "metadata": {},
   "source": [
    "### Solution: counting people in the maze"
   ]
  },
  {
   "cell_type": "markdown",
   "metadata": {},
   "source": [
    "With this maze structure:"
   ]
  },
  {
   "cell_type": "code",
   "execution_count": 1,
   "metadata": {},
   "outputs": [],
   "source": [
    "house = {\n",
    "    'living' : {\n",
    "        'exits': {\n",
    "            'north' : 'kitchen',\n",
    "            'outside' : 'garden',\n",
    "            'upstairs' : 'bedroom'\n",
    "        },\n",
    "        'people' : ['James', 'Frank'],\n",
    "        'capacity' : 2\n",
    "    },\n",
    "    'kitchen' : {\n",
    "        'exits': {\n",
    "            'south' : 'living'\n",
    "        },\n",
    "        'people' : [],\n",
    "        'capacity' : 1\n",
    "    },\n",
    "    'garden' : {\n",
    "        'exits': {\n",
    "            'inside' : 'living'\n",
    "        },\n",
    "        'people' : ['Sue'],\n",
    "        'capacity' : 3\n",
    "    },\n",
    "    'bedroom' : {\n",
    "        'exits': {\n",
    "            'downstairs' : 'living',\n",
    "            'jump' : 'garden'\n",
    "        },\n",
    "        'people' : [],\n",
    "        'capacity' : 1\n",
    "    }\n",
    "}"
   ]
  },
  {
   "cell_type": "markdown",
   "metadata": {},
   "source": [
    "We can count the occupants and capacity like this:"
   ]
  },
  {
   "cell_type": "code",
   "execution_count": 2,
   "metadata": {},
   "outputs": [
    {
     "name": "stdout",
     "output_type": "stream",
     "text": [
      "living\n",
      "kitchen\n",
      "garden\n",
      "bedroom\n"
     ]
    }
   ],
   "source": [
    "for room_name in house:\n",
    "    print(room_name)"
   ]
  },
  {
   "cell_type": "code",
   "execution_count": 3,
   "metadata": {},
   "outputs": [
    {
     "data": {
      "text/plain": [
       "{'living': {'exits': {'north': 'kitchen',\n",
       "   'outside': 'garden',\n",
       "   'upstairs': 'bedroom'},\n",
       "  'people': ['James', 'Frank'],\n",
       "  'capacity': 2},\n",
       " 'kitchen': {'exits': {'south': 'living'}, 'people': [], 'capacity': 1},\n",
       " 'garden': {'exits': {'inside': 'living'}, 'people': ['Sue'], 'capacity': 3},\n",
       " 'bedroom': {'exits': {'downstairs': 'living', 'jump': 'garden'},\n",
       "  'people': [],\n",
       "  'capacity': 1}}"
      ]
     },
     "execution_count": 3,
     "metadata": {},
     "output_type": "execute_result"
    }
   ],
   "source": [
    "house"
   ]
  },
  {
   "cell_type": "code",
   "execution_count": 4,
   "metadata": {},
   "outputs": [
    {
     "data": {
      "text/plain": [
       "dict_values([{'exits': {'north': 'kitchen', 'outside': 'garden', 'upstairs': 'bedroom'}, 'people': ['James', 'Frank'], 'capacity': 2}, {'exits': {'south': 'living'}, 'people': [], 'capacity': 1}, {'exits': {'inside': 'living'}, 'people': ['Sue'], 'capacity': 3}, {'exits': {'downstairs': 'living', 'jump': 'garden'}, 'people': [], 'capacity': 1}])"
      ]
     },
     "execution_count": 4,
     "metadata": {},
     "output_type": "execute_result"
    }
   ],
   "source": [
    "house.values()"
   ]
  },
  {
   "cell_type": "code",
   "execution_count": 5,
   "metadata": {},
   "outputs": [
    {
     "name": "stdout",
     "output_type": "stream",
     "text": [
      "3\n"
     ]
    }
   ],
   "source": [
    "running_total = 0\n",
    "\n",
    "for room_data in house.values():\n",
    "    running_total += len(room_data[\"people\"])\n",
    "\n",
    "print(running_total)"
   ]
  }
 ],
 "metadata": {
  "jekyll": {
   "display_name": "Maze Control Solution"
  },
  "kernelspec": {
   "display_name": "Python 3 (ipykernel)",
   "language": "python",
   "name": "python3"
  },
  "language_info": {
   "codemirror_mode": {
    "name": "ipython",
    "version": 3
   },
   "file_extension": ".py",
   "mimetype": "text/x-python",
   "name": "python",
   "nbconvert_exporter": "python",
   "pygments_lexer": "ipython3",
   "version": "3.8.14"
  }
 },
 "nbformat": 4,
 "nbformat_minor": 1
}
