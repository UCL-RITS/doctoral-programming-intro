{
 "metadata": {
  "jekyll": {
   "display_name": "Structures"
  },
  "kernelspec": {
   "display_name": "Python 3",
   "language": "python",
   "name": "python3"
  },
  "language_info": {
   "codemirror_mode": {
    "name": "ipython",
    "version": 3
   },
   "file_extension": ".py",
   "mimetype": "text/x-python",
   "name": "python",
   "nbconvert_exporter": "python",
   "pygments_lexer": "ipython3",
   "version": "3.8.14"
  },
  "name": ""
 },
 "nbformat": 2,
 "nbformat_minor": 0,
 "orig_nbformat": 4,
 "orig_nbformat_minor": 5,
 "worksheets": [
  {
   "cells": [
    {
     "cell_type": "markdown",
     "metadata": {},
     "source": [
      "# Data structures"
     ]
    },
    {
     "cell_type": "markdown",
     "metadata": {},
     "source": [
      "## Nested Lists and Dictionaries"
     ]
    },
    {
     "cell_type": "markdown",
     "metadata": {},
     "source": [
      "In research programming, one of our most common tasks is building an appropriate *structure* to model our complicated",
      "data. Later in the course, we'll see how we can define our own types, with their own attributes, properties, and methods. But probably the most common approach is to use nested structures of lists, dictionaries, and sets to model our data. For example, an address might be modelled as a dictionary with appropriately named fields:"
     ]
    },
    {
     "cell_type": "code",
     "collapsed": false,
     "input": [
      "UCL = {'City': 'London', ",
      "     'Street': 'Gower Street',",
      "     'Postcode': 'WC1E 6BT'}"
     ],
     "language": "python",
     "metadata": {},
     "outputs": [],
     "prompt_number": 1
    },
    {
     "cell_type": "code",
     "collapsed": false,
     "input": [
      "MyHouse = {",
      "    'City': 'London',",
      "    'Street': 'Waterson Street',",
      "    'Postcode': 'E2 8HH'",
      "}"
     ],
     "language": "python",
     "metadata": {},
     "outputs": [],
     "prompt_number": 2
    },
    {
     "cell_type": "markdown",
     "metadata": {},
     "source": [
      "A collection of people's addresses is then a list of dictionaries:"
     ]
    },
    {
     "cell_type": "code",
     "collapsed": false,
     "input": [
      "addresses = [UCL, MyHouse]"
     ],
     "language": "python",
     "metadata": {},
     "outputs": [],
     "prompt_number": 3
    },
    {
     "cell_type": "code",
     "collapsed": false,
     "input": [
      "addresses"
     ],
     "language": "python",
     "metadata": {},
     "outputs": [
      {
       "metadata": {},
       "output_type": "pyout",
       "prompt_number": 4,
       "text": [
        "[{'City': 'London', 'Street': 'Gower Street', 'Postcode': 'WC1E 6BT'},",
        " {'City': 'London', 'Street': 'Waterson Street', 'Postcode': 'E2 8HH'}]"
       ]
      }
     ],
     "prompt_number": 4
    },
    {
     "cell_type": "markdown",
     "metadata": {},
     "source": [
      "A more complicated data structure, for example for a census database, might have a list of residents or employees at each address:"
     ]
    },
    {
     "cell_type": "code",
     "collapsed": false,
     "input": [
      "UCL[\"People\"] = [\"Clare\", \"James\", \"Owain\"]"
     ],
     "language": "python",
     "metadata": {},
     "outputs": [],
     "prompt_number": 5
    },
    {
     "cell_type": "code",
     "collapsed": false,
     "input": [
      "MyHouse[\"People\"] = [\"Sue\", \"James\"]"
     ],
     "language": "python",
     "metadata": {},
     "outputs": [],
     "prompt_number": 6
    },
    {
     "cell_type": "code",
     "collapsed": false,
     "input": [
      "addresses"
     ],
     "language": "python",
     "metadata": {},
     "outputs": [
      {
       "metadata": {},
       "output_type": "pyout",
       "prompt_number": 7,
       "text": [
        "[{'City': 'London',",
        "  'Street': 'Gower Street',",
        "  'Postcode': 'WC1E 6BT',",
        "  'People': ['Clare', 'James', 'Owain']},",
        " {'City': 'London',",
        "  'Street': 'Waterson Street',",
        "  'Postcode': 'E2 8HH',",
        "  'People': ['Sue', 'James']}]"
       ]
      }
     ],
     "prompt_number": 7
    },
    {
     "cell_type": "markdown",
     "metadata": {},
     "source": [
      "Which is then a list of dictionaries, with keys which are strings or lists."
     ]
    },
    {
     "cell_type": "markdown",
     "metadata": {},
     "source": [
      "We can go further, e.g.:"
     ]
    },
    {
     "cell_type": "code",
     "collapsed": false,
     "input": [
      "UCL[\"Residential\"] = False"
     ],
     "language": "python",
     "metadata": {},
     "outputs": [],
     "prompt_number": 8
    },
    {
     "cell_type": "markdown",
     "metadata": {},
     "source": [
      "And we can write code against our structures:"
     ]
    },
    {
     "cell_type": "code",
     "collapsed": false,
     "input": [
      "leaders = [place[\"People\"][0] for place in addresses]",
      "print(leaders)"
     ],
     "language": "python",
     "metadata": {},
     "outputs": [
      {
       "output_type": "stream",
       "stream": "stdout",
       "text": [
        "['Clare', 'Sue']"
       ]
      }
     ],
     "prompt_number": 9
    },
    {
     "cell_type": "markdown",
     "metadata": {},
     "source": [
      "This was an example of a 'list comprehension', which is used to get data of this structure, and which we'll see more of in a moment..."
     ]
    },
    {
     "cell_type": "markdown",
     "metadata": {},
     "source": [
      "## Exercise: a Maze Model."
     ]
    },
    {
     "cell_type": "markdown",
     "metadata": {},
     "source": [
      "Work with a partner to design a data structure to represent a maze using dictionaries and lists."
     ]
    },
    {
     "cell_type": "markdown",
     "metadata": {},
     "source": [
      "* Each place in the maze has a name, which is a string.",
      "* Each place in the maze has zero or more people currently standing at it, by name.",
      "* Each place in the maze has a maximum capacity of people that can fit in it.",
      "* For each place in the maze, you can go from that place to a few other places, using a direction like 'up', 'north', ",
      "or 'sideways'"
     ]
    },
    {
     "cell_type": "markdown",
     "metadata": {},
     "source": [
      "Create an example instance, in a notebook, of a simple structure for your maze:"
     ]
    },
    {
     "cell_type": "markdown",
     "metadata": {},
     "source": [
      "* The living room can hold 2 people. James is currently there. You can go outside to the garden, or upstairs to the bedroom, or north to the kitchen.",
      "* From the kitchen, you can go south to the living room. It fits 1 person.",
      "* From the garden you can go inside to living room. It fits 3 people. Sue is currently there.",
      "* From the bedroom, you can go downstairs. You can also jump out of the window to the garden. It fits 2 people."
     ]
    },
    {
     "cell_type": "markdown",
     "metadata": {},
     "source": [
      "Make sure that your model:",
      "",
      "* Allows empty rooms.",
      "* Allows you to jump out of the upstairs window, but not to fly back up.",
      "* Allows rooms which people can't fit in."
     ]
    },
    {
     "cell_type": "markdown",
     "metadata": {},
     "source": [
      "As an example of a similar problem, the following code could be used to represent a collection of cities, each of which has a name, a maximum capacity, and potentially some people currently living there."
     ]
    },
    {
     "cell_type": "code",
     "collapsed": false,
     "input": [
      "cities = [",
      "    {\"name\": \"London\", \"capacity\": 8, \"residents\": [\"Me\", \"Sue\"]},",
      "    {\"name\": \"Edinburgh\", \"capacity\": 1, \"residents\": [\"Dave\"]},",
      "    {\"name\": \"Cardiff\", \"capacity\": 1, \"residents\": []},",
      "]"
     ],
     "language": "python",
     "metadata": {},
     "outputs": [],
     "prompt_number": 10
    },
    {
     "cell_type": "markdown",
     "metadata": {},
     "source": [
      "We can then check, for instance, how many people currently reside in the third city:"
     ]
    },
    {
     "cell_type": "code",
     "collapsed": false,
     "input": [
      "len(cities[2][\"residents\"])"
     ],
     "language": "python",
     "metadata": {},
     "outputs": [
      {
       "metadata": {},
       "output_type": "pyout",
       "prompt_number": 11,
       "text": [
        "0"
       ]
      }
     ],
     "prompt_number": 11
    }
   ],
   "metadata": {}
  }
 ]
}
