{
 "metadata": {
  "jekyll": {
   "display_name": "Maze Solution"
  },
  "kernelspec": {
   "display_name": "Python 3",
   "language": "python",
   "name": "python3"
  },
  "language_info": {
   "codemirror_mode": {
    "name": "ipython",
    "version": 3
   },
   "file_extension": ".py",
   "mimetype": "text/x-python",
   "name": "python",
   "nbconvert_exporter": "python",
   "pygments_lexer": "ipython3",
   "version": "3.8.14"
  },
  "name": ""
 },
 "nbformat": 2,
 "nbformat_minor": 0,
 "orig_nbformat": 4,
 "orig_nbformat_minor": 5,
 "worksheets": [
  {
   "cells": [
    {
     "cell_type": "markdown",
     "metadata": {},
     "source": [
      "### Solution: my Maze Model"
     ]
    },
    {
     "cell_type": "markdown",
     "metadata": {},
     "source": [
      "Here's one possible solution to the Maze model. Yours will probably be different, and might be just as good.",
      "That's the artistry of software engineering: some solutions will be faster, others use less memory, while others will",
      "be easier for other people to understand. Optimising and balancing these factors is fun!"
     ]
    },
    {
     "cell_type": "code",
     "collapsed": false,
     "input": [
      "house = {",
      "    'living' : {",
      "        'exits': {",
      "            'north' : 'kitchen',",
      "            'outside' : 'garden',",
      "            'upstairs' : 'bedroom'",
      "        },",
      "        'people' : ['James'],",
      "        'capacity' : 2",
      "    },",
      "    'kitchen' : {",
      "        'exits': {",
      "            'south' : 'living'",
      "        },",
      "        'people' : [],",
      "        'capacity' : 1",
      "    },",
      "    'garden' : {",
      "        'exits': {",
      "            'inside' : 'living'",
      "        },",
      "        'people' : ['Sue'],",
      "        'capacity' : 3",
      "    },",
      "    'bedroom' : {",
      "        'exits': {",
      "            'downstairs' : 'living',",
      "            'jump' : 'garden'",
      "        },",
      "        'people' : [],",
      "        'capacity' : 1",
      "    }",
      "}"
     ],
     "language": "python",
     "metadata": {},
     "outputs": [],
     "prompt_number": 1
    },
    {
     "cell_type": "markdown",
     "metadata": {},
     "source": [
      "Some important points:"
     ]
    },
    {
     "cell_type": "markdown",
     "metadata": {},
     "source": [
      "* The whole solution is a complete nested structure.",
      "* I used indenting to make the structure easier to read.",
      "* Python allows code to continue over multiple lines, so long as sets of brackets are not finished.",
      "* There is an **Empty** person list in empty rooms, so the type structure is robust to potential movements of people.",
      "* We are nesting dictionaries and lists, with string and integer data."
     ]
    },
    {
     "cell_type": "code",
     "collapsed": false,
     "input": [
      "people_so_far = 0",
      "",
      "for room_name in house:",
      "    people_so_far = people_so_far + len(house[room_name][\"people\"])",
      "",
      "print(people_so_far)"
     ],
     "language": "python",
     "metadata": {},
     "outputs": [
      {
       "output_type": "stream",
       "stream": "stdout",
       "text": [
        "2"
       ]
      }
     ],
     "prompt_number": 2
    }
   ],
   "metadata": {}
  }
 ]
}
